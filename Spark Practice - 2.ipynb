{
 "cells": [
  {
   "cell_type": "code",
   "execution_count": 5,
   "id": "be79681e",
   "metadata": {},
   "outputs": [],
   "source": [
    "import findspark\n",
    "findspark.init()\n",
    "\n",
    "from pyspark.sql import SparkSession\n",
    "import collections\n",
    "\n",
    "# Initialize SparkSession\n",
    "spark = SparkSession.builder \\\n",
    "    .appName(\"Practice\") \\\n",
    "    .getOrCreate()"
   ]
  },
  {
   "cell_type": "code",
   "execution_count": 6,
   "id": "583d408f",
   "metadata": {},
   "outputs": [
    {
     "data": {
      "text/html": [
       "\n",
       "            <div>\n",
       "                <p><b>SparkSession - in-memory</b></p>\n",
       "                \n",
       "        <div>\n",
       "            <p><b>SparkContext</b></p>\n",
       "\n",
       "            <p><a href=\"http://sateeshs-mbp.lan:4041\">Spark UI</a></p>\n",
       "\n",
       "            <dl>\n",
       "              <dt>Version</dt>\n",
       "                <dd><code>v3.5.1</code></dd>\n",
       "              <dt>Master</dt>\n",
       "                <dd><code>local[*]</code></dd>\n",
       "              <dt>AppName</dt>\n",
       "                <dd><code>Practice</code></dd>\n",
       "            </dl>\n",
       "        </div>\n",
       "        \n",
       "            </div>\n",
       "        "
      ],
      "text/plain": [
       "<pyspark.sql.session.SparkSession at 0x7fd651e40d60>"
      ]
     },
     "execution_count": 6,
     "metadata": {},
     "output_type": "execute_result"
    }
   ],
   "source": [
    "spark"
   ]
  },
  {
   "cell_type": "code",
   "execution_count": 10,
   "id": "c0c3a8fd",
   "metadata": {},
   "outputs": [],
   "source": [
    "df1 = spark.read.csv(\"us_counties_pop_est_2019.csv\", header=True, inferSchema=True)"
   ]
  },
  {
   "cell_type": "code",
   "execution_count": 4,
   "id": "59ff0376",
   "metadata": {},
   "outputs": [
    {
     "name": "stdout",
     "output_type": "stream",
     "text": [
      "+----------+-----------+------+----------+----------------+----------+----------+------------------+------------------+------------+------------+-----------+-----------+-----------------------+------------------+-------------+\n",
      "|state_fips|county_fips|region|state_name|     county_name| area_land|area_water|internal_point_lat|internal_point_lon|pop_est_2018|pop_est_2019|births_2019|deaths_2019|international_migr_2019|domestic_migr_2019|residual_2019|\n",
      "+----------+-----------+------+----------+----------------+----------+----------+------------------+------------------+------------+------------+-----------+-----------+-----------------------+------------------+-------------+\n",
      "|         1|          1|     3|   Alabama|  Autauga County|1539602137|  25706961|        32.5322367|       -86.6464395|       55533|       55869|        624|        541|                    -16|               270|           -1|\n",
      "|         1|          3|     3|   Alabama|  Baldwin County|4117621645|1132980868|        30.6592183|       -87.7460666|      217855|      223234|       2304|       2326|                     80|              5297|           24|\n",
      "|         1|          5|     3|   Alabama|  Barbour County|2292160139|  50523213|        31.8702531|       -85.4051035|       24872|       24686|        256|        312|                     13|              -141|           -2|\n",
      "|         1|          7|     3|   Alabama|     Bibb County|1612167476|   9602089|        33.0158929|       -87.1271475|       22367|       22394|        240|        252|                     10|                31|           -2|\n",
      "|         1|          9|     3|   Alabama|   Blount County|1670103866|  15015467|        33.9773575|         -86.56644|       57771|       57826|        651|        657|                      6|                59|           -4|\n",
      "|         1|         11|     3|   Alabama|  Bullock County|1613076054|   6038093|        32.1017589|       -85.7172613|       10174|       10101|        109|        109|                     -1|               -72|            0|\n",
      "|         1|         13|     3|   Alabama|   Butler County|2012002531|   2701198|         31.751667|       -86.6819689|       19631|       19448|        213|        272|                     18|              -141|           -1|\n",
      "|         1|         15|     3|   Alabama|  Calhoun County|1569195268|  16587192|        33.7705162|       -85.8279089|      114331|      113605|       1269|       1532|                     14|              -475|           -2|\n",
      "|         1|         17|     3|   Alabama| Chambers County|1545085607|  16971700|        32.9155039|       -85.3940321|       33600|       33254|        354|        441|                      6|              -265|            0|\n",
      "|         1|         19|     3|   Alabama| Cherokee County|1433623319| 120308342|        34.0695153|       -85.6542417|       26014|       26196|        222|        343|                     -3|               306|            0|\n",
      "|         1|         21|     3|   Alabama|  Chilton County|1794477075|  20592142|        32.8540514|       -86.7266071|       44163|       44428|        551|        503|                     35|               184|           -2|\n",
      "|         1|         23|     3|   Alabama|  Choctaw County|2365869841|  19144469|        31.9909539|       -88.2488894|       12833|       12589|        133|        176|                     -2|              -199|            0|\n",
      "|         1|         25|     3|   Alabama|   Clarke County|3207494106|  36657891|        31.6855211|       -87.8186244|       23918|       23622|        266|        324|                     -5|              -232|           -1|\n",
      "|         1|         27|     3|   Alabama|     Clay County|1564251834|   5285207|        33.2703999|       -85.8635254|       13294|       13235|        143|        187|                     -2|               -12|           -1|\n",
      "|         1|         29|     3|   Alabama| Cleburne County|1450663786|   2354896|        33.6719637|       -85.5161261|       15010|       14910|        187|        189|                    -11|               -86|           -1|\n",
      "|         1|         31|     3|   Alabama|   Coffee County|1758565919|   3907189|         31.402258|       -85.9896022|       51950|       52342|        599|        570|                     34|               334|           -5|\n",
      "|         1|         33|     3|   Alabama|  Colbert County|1535202321|  79700278|         34.703112|       -87.8014569|       55004|       55241|        630|        719|                     73|               256|           -3|\n",
      "|         1|         35|     3|   Alabama|  Conecuh County|2202007855|   6632046|        31.4309257|       -86.9887221|       12292|       12067|        123|        182|                      1|              -167|            0|\n",
      "|         1|         37|     3|   Alabama|    Coosa County|1685850815|  39987271|        32.9314453|       -86.2434818|       10643|       10663|         89|        122|                     13|                42|           -2|\n",
      "|         1|         39|     3|   Alabama|Covington County|2669134207|  34226200|        31.2439873|       -86.4487206|       36953|       37049|        413|        543|                     -5|               235|           -4|\n",
      "+----------+-----------+------+----------+----------------+----------+----------+------------------+------------------+------------+------------+-----------+-----------+-----------------------+------------------+-------------+\n",
      "only showing top 20 rows\n",
      "\n"
     ]
    },
    {
     "name": "stderr",
     "output_type": "stream",
     "text": [
      "24/06/15 16:16:12 WARN GarbageCollectionMetrics: To enable non-built-in garbage collector(s) List(G1 Concurrent GC), users should configure it(them) to spark.eventLog.gcMetrics.youngGenerationGarbageCollectors or spark.eventLog.gcMetrics.oldGenerationGarbageCollectors\n"
     ]
    }
   ],
   "source": [
    "df1.show()"
   ]
  },
  {
   "cell_type": "code",
   "execution_count": 5,
   "id": "a3fea457",
   "metadata": {},
   "outputs": [
    {
     "name": "stdout",
     "output_type": "stream",
     "text": [
      "root\n",
      " |-- state_fips: integer (nullable = true)\n",
      " |-- county_fips: integer (nullable = true)\n",
      " |-- region: integer (nullable = true)\n",
      " |-- state_name: string (nullable = true)\n",
      " |-- county_name: string (nullable = true)\n",
      " |-- area_land: long (nullable = true)\n",
      " |-- area_water: long (nullable = true)\n",
      " |-- internal_point_lat: double (nullable = true)\n",
      " |-- internal_point_lon: double (nullable = true)\n",
      " |-- pop_est_2018: integer (nullable = true)\n",
      " |-- pop_est_2019: integer (nullable = true)\n",
      " |-- births_2019: integer (nullable = true)\n",
      " |-- deaths_2019: integer (nullable = true)\n",
      " |-- international_migr_2019: integer (nullable = true)\n",
      " |-- domestic_migr_2019: integer (nullable = true)\n",
      " |-- residual_2019: integer (nullable = true)\n",
      "\n"
     ]
    }
   ],
   "source": [
    "df1.printSchema()"
   ]
  },
  {
   "cell_type": "code",
   "execution_count": 6,
   "id": "ab8b2b3c",
   "metadata": {},
   "outputs": [
    {
     "data": {
      "text/plain": [
       "pyspark.sql.dataframe.DataFrame"
      ]
     },
     "execution_count": 6,
     "metadata": {},
     "output_type": "execute_result"
    }
   ],
   "source": [
    "type(df1)"
   ]
  },
  {
   "cell_type": "code",
   "execution_count": 7,
   "id": "7b4d0d40",
   "metadata": {},
   "outputs": [
    {
     "data": {
      "text/plain": [
       "['state_fips',\n",
       " 'county_fips',\n",
       " 'region',\n",
       " 'state_name',\n",
       " 'county_name',\n",
       " 'area_land',\n",
       " 'area_water',\n",
       " 'internal_point_lat',\n",
       " 'internal_point_lon',\n",
       " 'pop_est_2018',\n",
       " 'pop_est_2019',\n",
       " 'births_2019',\n",
       " 'deaths_2019',\n",
       " 'international_migr_2019',\n",
       " 'domestic_migr_2019',\n",
       " 'residual_2019']"
      ]
     },
     "execution_count": 7,
     "metadata": {},
     "output_type": "execute_result"
    }
   ],
   "source": [
    "df1.columns"
   ]
  },
  {
   "cell_type": "code",
   "execution_count": 8,
   "id": "efbf7b1e",
   "metadata": {},
   "outputs": [
    {
     "data": {
      "text/plain": [
       "[Row(state_fips=1, county_fips=1, region=3, state_name='Alabama', county_name='Autauga County', area_land=1539602137, area_water=25706961, internal_point_lat=32.5322367, internal_point_lon=-86.6464395, pop_est_2018=55533, pop_est_2019=55869, births_2019=624, deaths_2019=541, international_migr_2019=-16, domestic_migr_2019=270, residual_2019=-1),\n",
       " Row(state_fips=1, county_fips=3, region=3, state_name='Alabama', county_name='Baldwin County', area_land=4117621645, area_water=1132980868, internal_point_lat=30.6592183, internal_point_lon=-87.7460666, pop_est_2018=217855, pop_est_2019=223234, births_2019=2304, deaths_2019=2326, international_migr_2019=80, domestic_migr_2019=5297, residual_2019=24),\n",
       " Row(state_fips=1, county_fips=5, region=3, state_name='Alabama', county_name='Barbour County', area_land=2292160139, area_water=50523213, internal_point_lat=31.8702531, internal_point_lon=-85.4051035, pop_est_2018=24872, pop_est_2019=24686, births_2019=256, deaths_2019=312, international_migr_2019=13, domestic_migr_2019=-141, residual_2019=-2),\n",
       " Row(state_fips=1, county_fips=7, region=3, state_name='Alabama', county_name='Bibb County', area_land=1612167476, area_water=9602089, internal_point_lat=33.0158929, internal_point_lon=-87.1271475, pop_est_2018=22367, pop_est_2019=22394, births_2019=240, deaths_2019=252, international_migr_2019=10, domestic_migr_2019=31, residual_2019=-2),\n",
       " Row(state_fips=1, county_fips=9, region=3, state_name='Alabama', county_name='Blount County', area_land=1670103866, area_water=15015467, internal_point_lat=33.9773575, internal_point_lon=-86.56644, pop_est_2018=57771, pop_est_2019=57826, births_2019=651, deaths_2019=657, international_migr_2019=6, domestic_migr_2019=59, residual_2019=-4)]"
      ]
     },
     "execution_count": 8,
     "metadata": {},
     "output_type": "execute_result"
    }
   ],
   "source": [
    "df1.head(5)"
   ]
  },
  {
   "cell_type": "code",
   "execution_count": 9,
   "id": "343c7364",
   "metadata": {},
   "outputs": [
    {
     "name": "stdout",
     "output_type": "stream",
     "text": [
      "+------+\n",
      "|region|\n",
      "+------+\n",
      "|     3|\n",
      "|     3|\n",
      "|     3|\n",
      "|     3|\n",
      "|     3|\n",
      "|     3|\n",
      "|     3|\n",
      "|     3|\n",
      "|     3|\n",
      "|     3|\n",
      "|     3|\n",
      "|     3|\n",
      "|     3|\n",
      "|     3|\n",
      "|     3|\n",
      "|     3|\n",
      "|     3|\n",
      "|     3|\n",
      "|     3|\n",
      "|     3|\n",
      "+------+\n",
      "only showing top 20 rows\n",
      "\n"
     ]
    }
   ],
   "source": [
    "df1.select(\"region\").show()"
   ]
  },
  {
   "cell_type": "code",
   "execution_count": 10,
   "id": "f4d979e7",
   "metadata": {},
   "outputs": [
    {
     "name": "stdout",
     "output_type": "stream",
     "text": [
      "+----------+----------------+\n",
      "|state_name|     county_name|\n",
      "+----------+----------------+\n",
      "|   Alabama|  Autauga County|\n",
      "|   Alabama|  Baldwin County|\n",
      "|   Alabama|  Barbour County|\n",
      "|   Alabama|     Bibb County|\n",
      "|   Alabama|   Blount County|\n",
      "|   Alabama|  Bullock County|\n",
      "|   Alabama|   Butler County|\n",
      "|   Alabama|  Calhoun County|\n",
      "|   Alabama| Chambers County|\n",
      "|   Alabama| Cherokee County|\n",
      "|   Alabama|  Chilton County|\n",
      "|   Alabama|  Choctaw County|\n",
      "|   Alabama|   Clarke County|\n",
      "|   Alabama|     Clay County|\n",
      "|   Alabama| Cleburne County|\n",
      "|   Alabama|   Coffee County|\n",
      "|   Alabama|  Colbert County|\n",
      "|   Alabama|  Conecuh County|\n",
      "|   Alabama|    Coosa County|\n",
      "|   Alabama|Covington County|\n",
      "+----------+----------------+\n",
      "only showing top 20 rows\n",
      "\n"
     ]
    }
   ],
   "source": [
    "df1.select([\"state_name\", \"county_name\"]).show()"
   ]
  },
  {
   "cell_type": "code",
   "execution_count": 11,
   "id": "fd8d6a86",
   "metadata": {},
   "outputs": [
    {
     "data": {
      "text/plain": [
       "[('state_fips', 'int'),\n",
       " ('county_fips', 'int'),\n",
       " ('region', 'int'),\n",
       " ('state_name', 'string'),\n",
       " ('county_name', 'string'),\n",
       " ('area_land', 'bigint'),\n",
       " ('area_water', 'bigint'),\n",
       " ('internal_point_lat', 'double'),\n",
       " ('internal_point_lon', 'double'),\n",
       " ('pop_est_2018', 'int'),\n",
       " ('pop_est_2019', 'int'),\n",
       " ('births_2019', 'int'),\n",
       " ('deaths_2019', 'int'),\n",
       " ('international_migr_2019', 'int'),\n",
       " ('domestic_migr_2019', 'int'),\n",
       " ('residual_2019', 'int')]"
      ]
     },
     "execution_count": 11,
     "metadata": {},
     "output_type": "execute_result"
    }
   ],
   "source": [
    "df1.dtypes"
   ]
  },
  {
   "cell_type": "code",
   "execution_count": 12,
   "id": "6e19acee",
   "metadata": {
    "scrolled": true
   },
   "outputs": [
    {
     "name": "stderr",
     "output_type": "stream",
     "text": [
      "24/06/08 21:13:01 WARN SparkStringUtils: Truncated the string representation of a plan since it was too large. This behavior can be adjusted by setting 'spark.sql.debug.maxToStringFields'.\n"
     ]
    },
    {
     "name": "stdout",
     "output_type": "stream",
     "text": [
      "+-------+-----------------+------------------+------------------+----------+----------------+--------------------+--------------------+------------------+------------------+------------------+------------------+------------------+------------------+-----------------------+------------------+-----------------+\n",
      "|summary|       state_fips|       county_fips|            region|state_name|     county_name|           area_land|          area_water|internal_point_lat|internal_point_lon|      pop_est_2018|      pop_est_2019|       births_2019|       deaths_2019|international_migr_2019|domestic_migr_2019|    residual_2019|\n",
      "+-------+-----------------+------------------+------------------+----------+----------------+--------------------+--------------------+------------------+------------------+------------------+------------------+------------------+------------------+-----------------------+------------------+-----------------+\n",
      "|  count|             3142|              3142|              3142|      3142|            3142|                3142|                3142|              3142|              3142|              3142|              3142|              3142|              3142|                   3142|              3142|             3142|\n",
      "|   mean|30.28007638446849|103.57288351368555| 2.668682367918523|      NULL|            NULL|2.9123300066429024E9|2.1772132937873966E8|  38.4550274504773|-92.17764696384468|103974.37969446213|104468.33959261616|1206.7829408020368| 902.3036282622534|     189.48058561425844|               0.0|              0.0|\n",
      "| stddev|15.14433931546792|107.70405998228831|0.8031493139138958|      NULL|            NULL| 9.361874959553654E9| 1.235181967905609E9| 5.308739126712576|13.750471449581712| 332641.7864193669| 333456.7109031428|4004.7577257415405|2474.7174137113893|     1231.6918202181382| 3447.761164869758|12.97640697012028|\n",
      "|    min|                1|                 1|                 1|   Alabama|Abbeville County|             5300262|                   0|        19.5977643|      -164.1889119|                86|                86|                 0|                 0|                   -387|           -100808|             -143|\n",
      "|    max|               56|               840|                 4|   Wyoming|  Ziebach County|        377038836685|         25973300388|        69.4493427|       179.6211882|          10073906|          10039107|            112963|             68164|                  38016|             57477|              315|\n",
      "+-------+-----------------+------------------+------------------+----------+----------------+--------------------+--------------------+------------------+------------------+------------------+------------------+------------------+------------------+-----------------------+------------------+-----------------+\n",
      "\n"
     ]
    }
   ],
   "source": [
    "df1.describe().show()"
   ]
  },
  {
   "cell_type": "code",
   "execution_count": 13,
   "id": "beb6b8a9",
   "metadata": {
    "scrolled": false
   },
   "outputs": [
    {
     "name": "stdout",
     "output_type": "stream",
     "text": [
      "+----------+-----------+------+----------+----------------+----------+----------+------------------+------------------+------------+------------+-----------+-----------+-----------------------+------------------+-------------+------------------------+\n",
      "|state_fips|county_fips|region|state_name|     county_name| area_land|area_water|internal_point_lat|internal_point_lon|pop_est_2018|pop_est_2019|births_2019|deaths_2019|international_migr_2019|domestic_migr_2019|residual_2019|region multiplied with 2|\n",
      "+----------+-----------+------+----------+----------------+----------+----------+------------------+------------------+------------+------------+-----------+-----------+-----------------------+------------------+-------------+------------------------+\n",
      "|         1|          1|     3|   Alabama|  Autauga County|1539602137|  25706961|        32.5322367|       -86.6464395|       55533|       55869|        624|        541|                    -16|               270|           -1|                       6|\n",
      "|         1|          3|     3|   Alabama|  Baldwin County|4117621645|1132980868|        30.6592183|       -87.7460666|      217855|      223234|       2304|       2326|                     80|              5297|           24|                       6|\n",
      "|         1|          5|     3|   Alabama|  Barbour County|2292160139|  50523213|        31.8702531|       -85.4051035|       24872|       24686|        256|        312|                     13|              -141|           -2|                       6|\n",
      "|         1|          7|     3|   Alabama|     Bibb County|1612167476|   9602089|        33.0158929|       -87.1271475|       22367|       22394|        240|        252|                     10|                31|           -2|                       6|\n",
      "|         1|          9|     3|   Alabama|   Blount County|1670103866|  15015467|        33.9773575|         -86.56644|       57771|       57826|        651|        657|                      6|                59|           -4|                       6|\n",
      "|         1|         11|     3|   Alabama|  Bullock County|1613076054|   6038093|        32.1017589|       -85.7172613|       10174|       10101|        109|        109|                     -1|               -72|            0|                       6|\n",
      "|         1|         13|     3|   Alabama|   Butler County|2012002531|   2701198|         31.751667|       -86.6819689|       19631|       19448|        213|        272|                     18|              -141|           -1|                       6|\n",
      "|         1|         15|     3|   Alabama|  Calhoun County|1569195268|  16587192|        33.7705162|       -85.8279089|      114331|      113605|       1269|       1532|                     14|              -475|           -2|                       6|\n",
      "|         1|         17|     3|   Alabama| Chambers County|1545085607|  16971700|        32.9155039|       -85.3940321|       33600|       33254|        354|        441|                      6|              -265|            0|                       6|\n",
      "|         1|         19|     3|   Alabama| Cherokee County|1433623319| 120308342|        34.0695153|       -85.6542417|       26014|       26196|        222|        343|                     -3|               306|            0|                       6|\n",
      "|         1|         21|     3|   Alabama|  Chilton County|1794477075|  20592142|        32.8540514|       -86.7266071|       44163|       44428|        551|        503|                     35|               184|           -2|                       6|\n",
      "|         1|         23|     3|   Alabama|  Choctaw County|2365869841|  19144469|        31.9909539|       -88.2488894|       12833|       12589|        133|        176|                     -2|              -199|            0|                       6|\n",
      "|         1|         25|     3|   Alabama|   Clarke County|3207494106|  36657891|        31.6855211|       -87.8186244|       23918|       23622|        266|        324|                     -5|              -232|           -1|                       6|\n",
      "|         1|         27|     3|   Alabama|     Clay County|1564251834|   5285207|        33.2703999|       -85.8635254|       13294|       13235|        143|        187|                     -2|               -12|           -1|                       6|\n",
      "|         1|         29|     3|   Alabama| Cleburne County|1450663786|   2354896|        33.6719637|       -85.5161261|       15010|       14910|        187|        189|                    -11|               -86|           -1|                       6|\n",
      "|         1|         31|     3|   Alabama|   Coffee County|1758565919|   3907189|         31.402258|       -85.9896022|       51950|       52342|        599|        570|                     34|               334|           -5|                       6|\n",
      "|         1|         33|     3|   Alabama|  Colbert County|1535202321|  79700278|         34.703112|       -87.8014569|       55004|       55241|        630|        719|                     73|               256|           -3|                       6|\n",
      "|         1|         35|     3|   Alabama|  Conecuh County|2202007855|   6632046|        31.4309257|       -86.9887221|       12292|       12067|        123|        182|                      1|              -167|            0|                       6|\n",
      "|         1|         37|     3|   Alabama|    Coosa County|1685850815|  39987271|        32.9314453|       -86.2434818|       10643|       10663|         89|        122|                     13|                42|           -2|                       6|\n",
      "|         1|         39|     3|   Alabama|Covington County|2669134207|  34226200|        31.2439873|       -86.4487206|       36953|       37049|        413|        543|                     -5|               235|           -4|                       6|\n",
      "+----------+-----------+------+----------+----------------+----------+----------+------------------+------------------+------------+------------+-----------+-----------+-----------------------+------------------+-------------+------------------------+\n",
      "only showing top 20 rows\n",
      "\n"
     ]
    }
   ],
   "source": [
    "df1.withColumn(\"region multiplied with 2\", df1[\"region\"] * 2).show()"
   ]
  },
  {
   "cell_type": "code",
   "execution_count": 14,
   "id": "2fbb4ac6",
   "metadata": {},
   "outputs": [
    {
     "data": {
      "text/plain": [
       "DataFrame[state_fips: int, county_fips: int, region: int, state_name: string, county_name: string, area_land: bigint, area_water: bigint, internal_point_lat: double, internal_point_lon: double, pop_est_2018: int, pop_est_2019: int, births_2019: int, deaths_2019: int, international_migr_2019: int, domestic_migr_2019: int, residual_2019: int]"
      ]
     },
     "execution_count": 14,
     "metadata": {},
     "output_type": "execute_result"
    }
   ],
   "source": [
    "df1.na.drop()"
   ]
  },
  {
   "cell_type": "code",
   "execution_count": 53,
   "id": "196fa73f",
   "metadata": {},
   "outputs": [
    {
     "data": {
      "text/plain": [
       "3142"
      ]
     },
     "execution_count": 53,
     "metadata": {},
     "output_type": "execute_result"
    }
   ],
   "source": [
    "df1.count()"
   ]
  },
  {
   "cell_type": "code",
   "execution_count": 52,
   "id": "bae0840c",
   "metadata": {},
   "outputs": [
    {
     "name": "stdout",
     "output_type": "stream",
     "text": [
      "+-------------+\n",
      "|   state_name|\n",
      "+-------------+\n",
      "|         Utah|\n",
      "|       Hawaii|\n",
      "|     Nebraska|\n",
      "|      Vermont|\n",
      "|Massachusetts|\n",
      "|   New Mexico|\n",
      "|    Minnesota|\n",
      "|West Virginia|\n",
      "|     Kentucky|\n",
      "|     Missouri|\n",
      "|         Ohio|\n",
      "|    Louisiana|\n",
      "|  Mississippi|\n",
      "|       Nevada|\n",
      "| Rhode Island|\n",
      "|New Hampshire|\n",
      "|    Tennessee|\n",
      "|      Georgia|\n",
      "|   Washington|\n",
      "|      Florida|\n",
      "+-------------+\n",
      "only showing top 20 rows\n",
      "\n"
     ]
    }
   ],
   "source": [
    "df1.select(\"state_name\").distinct().show()"
   ]
  },
  {
   "cell_type": "code",
   "execution_count": 54,
   "id": "587b03d7",
   "metadata": {},
   "outputs": [
    {
     "data": {
      "text/plain": [
       "51"
      ]
     },
     "execution_count": 54,
     "metadata": {},
     "output_type": "execute_result"
    }
   ],
   "source": [
    "df1.select(\"state_name\").distinct().count()"
   ]
  },
  {
   "cell_type": "code",
   "execution_count": null,
   "id": "9b7c5bbb",
   "metadata": {},
   "outputs": [],
   "source": []
  },
  {
   "cell_type": "code",
   "execution_count": 15,
   "id": "bb184ce5",
   "metadata": {},
   "outputs": [
    {
     "name": "stdout",
     "output_type": "stream",
     "text": [
      "+----------+----------------+-----------+\n",
      "|state_name|     county_name|births_2019|\n",
      "+----------+----------------+-----------+\n",
      "|   Alabama|  Barbour County|        256|\n",
      "|   Alabama|     Bibb County|        240|\n",
      "|   Alabama|  Bullock County|        109|\n",
      "|   Alabama|   Butler County|        213|\n",
      "|   Alabama| Chambers County|        354|\n",
      "|   Alabama| Cherokee County|        222|\n",
      "|   Alabama|  Choctaw County|        133|\n",
      "|   Alabama|   Clarke County|        266|\n",
      "|   Alabama|     Clay County|        143|\n",
      "|   Alabama| Cleburne County|        187|\n",
      "|   Alabama|  Conecuh County|        123|\n",
      "|   Alabama|    Coosa County|         89|\n",
      "|   Alabama|Covington County|        413|\n",
      "|   Alabama| Crenshaw County|        137|\n",
      "|   Alabama|   Dallas County|        438|\n",
      "|   Alabama| Escambia County|        420|\n",
      "|   Alabama|  Fayette County|        174|\n",
      "|   Alabama| Franklin County|        432|\n",
      "|   Alabama|   Geneva County|        278|\n",
      "|   Alabama|   Greene County|         96|\n",
      "+----------+----------------+-----------+\n",
      "only showing top 20 rows\n",
      "\n"
     ]
    }
   ],
   "source": [
    "df1.filter(\"births_2019 <= 500\").select([\"state_name\", \"county_name\", \"births_2019\"]).show()"
   ]
  },
  {
   "cell_type": "code",
   "execution_count": null,
   "id": "395951a9",
   "metadata": {},
   "outputs": [],
   "source": []
  },
  {
   "cell_type": "code",
   "execution_count": 12,
   "id": "2553f522",
   "metadata": {},
   "outputs": [],
   "source": [
    "from pyspark.sql.functions import sum , mean, round"
   ]
  },
  {
   "cell_type": "code",
   "execution_count": 17,
   "id": "7fa1f22c",
   "metadata": {},
   "outputs": [
    {
     "name": "stdout",
     "output_type": "stream",
     "text": [
      "+----------+-----------------+-----------+\n",
      "|state_name|      county_name|births_2019|\n",
      "+----------+-----------------+-----------+\n",
      "|  New York|  Allegany County|        445|\n",
      "|  New York|  Chenango County|        470|\n",
      "|  New York|  Columbia County|        489|\n",
      "|  New York|  Cortland County|        472|\n",
      "|  New York|  Delaware County|        345|\n",
      "|  New York|     Essex County|        308|\n",
      "|  New York|  Franklin County|        444|\n",
      "|  New York|    Greene County|        384|\n",
      "|  New York|  Hamilton County|         28|\n",
      "|  New York|     Lewis County|        322|\n",
      "|  New York|Livingston County|        478|\n",
      "|  New York|   Orleans County|        389|\n",
      "|  New York|    Otsego County|        485|\n",
      "|  New York| Schoharie County|        237|\n",
      "|  New York|  Schuyler County|        146|\n",
      "|  New York|    Seneca County|        318|\n",
      "|  New York|     Tioga County|        425|\n",
      "|  New York|   Wyoming County|        328|\n",
      "|  New York|     Yates County|        316|\n",
      "+----------+-----------------+-----------+\n",
      "\n"
     ]
    }
   ],
   "source": [
    "df1.filter(\"births_2019 <= 500 AND state_name == 'New York'\").select([\"state_name\", \"county_name\", \"births_2019\"]).show()"
   ]
  },
  {
   "cell_type": "code",
   "execution_count": 18,
   "id": "bda91e7d",
   "metadata": {},
   "outputs": [
    {
     "name": "stdout",
     "output_type": "stream",
     "text": [
      "+----------+-----------------+-----------+\n",
      "|state_name|      county_name|births_2019|\n",
      "+----------+-----------------+-----------+\n",
      "|   Alabama|   Autauga County|        624|\n",
      "|   Alabama|   Baldwin County|       2304|\n",
      "|   Alabama|    Blount County|        651|\n",
      "|   Alabama|   Calhoun County|       1269|\n",
      "|   Alabama|   Chilton County|        551|\n",
      "|   Alabama|    Coffee County|        599|\n",
      "|   Alabama|   Colbert County|        630|\n",
      "|   Alabama|   Cullman County|        990|\n",
      "|   Alabama|      Dale County|        648|\n",
      "|   Alabama|    DeKalb County|        795|\n",
      "|   Alabama|    Elmore County|        932|\n",
      "|   Alabama|    Etowah County|       1175|\n",
      "|   Alabama|   Houston County|       1304|\n",
      "|   Alabama|   Jackson County|        562|\n",
      "|   Alabama| Jefferson County|       8422|\n",
      "|   Alabama|Lauderdale County|        876|\n",
      "|   Alabama|       Lee County|       1825|\n",
      "|   Alabama| Limestone County|       1014|\n",
      "|   Alabama|   Madison County|       4242|\n",
      "|   Alabama|  Marshall County|       1395|\n",
      "+----------+-----------------+-----------+\n",
      "only showing top 20 rows\n",
      "\n"
     ]
    }
   ],
   "source": [
    "df1.filter(\"NOT (births_2019 <= 500)\").select([\"state_name\", \"county_name\", \"births_2019\"]).show()"
   ]
  },
  {
   "cell_type": "code",
   "execution_count": 8,
   "id": "7b06ce1f",
   "metadata": {
    "scrolled": false
   },
   "outputs": [
    {
     "name": "stdout",
     "output_type": "stream",
     "text": [
      "+--------------------+----------------+\n",
      "|          state_name|sum(births_2019)|\n",
      "+--------------------+----------------+\n",
      "|             Alabama|           57313|\n",
      "|              Alaska|           10031|\n",
      "|             Arizona|           81942|\n",
      "|            Arkansas|           36640|\n",
      "|          California|          462617|\n",
      "|            Colorado|           64524|\n",
      "|         Connecticut|           34567|\n",
      "|            Delaware|           10683|\n",
      "|District of Columbia|            9493|\n",
      "|             Florida|          221695|\n",
      "|             Georgia|          127873|\n",
      "|              Hawaii|           16878|\n",
      "|               Idaho|           22220|\n",
      "|            Illinois|          144299|\n",
      "|             Indiana|           80711|\n",
      "|                Iowa|           37672|\n",
      "|              Kansas|           35457|\n",
      "|            Kentucky|           53471|\n",
      "|           Louisiana|           58498|\n",
      "|               Maine|           12073|\n",
      "+--------------------+----------------+\n",
      "only showing top 20 rows\n",
      "\n"
     ]
    }
   ],
   "source": [
    "df1.groupBy(\"state_name\").sum(\"births_2019\").orderBy(\"state_name\").show()"
   ]
  },
  {
   "cell_type": "code",
   "execution_count": 13,
   "id": "1fc9b367",
   "metadata": {},
   "outputs": [
    {
     "name": "stdout",
     "output_type": "stream",
     "text": [
      "+--------------------+-----------------+-------------------+\n",
      "|          state_name|total_births_2019|average_births_2019|\n",
      "+--------------------+-----------------+-------------------+\n",
      "|                Utah|            48642|            1677.31|\n",
      "|              Hawaii|            16878|             3375.6|\n",
      "|           Minnesota|            67642|             777.49|\n",
      "|                Ohio|           134291|            1526.03|\n",
      "|            Arkansas|            36640|             488.53|\n",
      "|              Oregon|            43305|            1202.92|\n",
      "|               Texas|           378664|             1490.8|\n",
      "|        North Dakota|            10536|             198.79|\n",
      "|        Pennsylvania|           135190|            2017.76|\n",
      "|         Connecticut|            34567|            4320.88|\n",
      "|            Nebraska|            25343|             272.51|\n",
      "|             Vermont|             5581|             398.64|\n",
      "|              Nevada|            35932|            2113.65|\n",
      "|          Washington|            87950|            2255.13|\n",
      "|            Illinois|           144299|             1414.7|\n",
      "|            Oklahoma|            48759|             633.23|\n",
      "|District of Columbia|             9493|             9493.0|\n",
      "|            Delaware|            10683|             3561.0|\n",
      "|              Alaska|            10031|              345.9|\n",
      "|          New Mexico|            23125|             700.76|\n",
      "+--------------------+-----------------+-------------------+\n",
      "only showing top 20 rows\n",
      "\n"
     ]
    }
   ],
   "source": [
    "df1.groupBy(\"state_name\").agg(sum(\"births_2019\").alias(\"total_births_2019\"),\n",
    "                             round(mean(\"births_2019\"), 2).alias(\"average_births_2019\")).show()"
   ]
  },
  {
   "cell_type": "code",
   "execution_count": 21,
   "id": "9da93429",
   "metadata": {},
   "outputs": [
    {
     "data": {
      "text/plain": [
       "'200'"
      ]
     },
     "execution_count": 21,
     "metadata": {},
     "output_type": "execute_result"
    }
   ],
   "source": [
    "spark.conf.get(\"spark.sql.shuffle.partitions\")"
   ]
  },
  {
   "cell_type": "code",
   "execution_count": 22,
   "id": "178e98f7",
   "metadata": {},
   "outputs": [],
   "source": [
    "spark.conf.set(\"spark.sql.shuffle.partitions\", 50)"
   ]
  },
  {
   "cell_type": "code",
   "execution_count": 23,
   "id": "697971cd",
   "metadata": {},
   "outputs": [
    {
     "data": {
      "text/plain": [
       "'50'"
      ]
     },
     "execution_count": 23,
     "metadata": {},
     "output_type": "execute_result"
    }
   ],
   "source": [
    "spark.conf.get(\"spark.sql.shuffle.partitions\")"
   ]
  },
  {
   "cell_type": "code",
   "execution_count": 24,
   "id": "6e5b3c02",
   "metadata": {},
   "outputs": [],
   "source": [
    "df1.createOrReplaceTempView(\"us_counties_pop_est_2019_tbl\")"
   ]
  },
  {
   "cell_type": "code",
   "execution_count": 25,
   "id": "74a39049",
   "metadata": {},
   "outputs": [
    {
     "name": "stdout",
     "output_type": "stream",
     "text": [
      "+----------+---------------+-----------+\n",
      "|state_name|    county_name|births_2019|\n",
      "+----------+---------------+-----------+\n",
      "|   Alabama| Autauga County|        624|\n",
      "|   Alabama| Baldwin County|       2304|\n",
      "|   Alabama| Barbour County|        256|\n",
      "|   Alabama|    Bibb County|        240|\n",
      "|   Alabama|  Blount County|        651|\n",
      "|   Alabama| Bullock County|        109|\n",
      "|   Alabama|  Butler County|        213|\n",
      "|   Alabama| Calhoun County|       1269|\n",
      "|   Alabama|Chambers County|        354|\n",
      "|   Alabama|Cherokee County|        222|\n",
      "+----------+---------------+-----------+\n",
      "only showing top 10 rows\n",
      "\n"
     ]
    }
   ],
   "source": [
    "spark.sql(\"\"\"SELECT state_name, county_name, births_2019 \n",
    "            FROM us_counties_pop_est_2019_tbl\"\"\").show(10)"
   ]
  },
  {
   "cell_type": "code",
   "execution_count": 26,
   "id": "1cf18ae4",
   "metadata": {},
   "outputs": [],
   "source": [
    "from pyspark.sql.window import Window\n",
    "from pyspark.sql.functions import row_number, rank, dense_rank, percent_rank, ntile, cume_dist, lag, lead, first, last"
   ]
  },
  {
   "cell_type": "code",
   "execution_count": 27,
   "id": "78094612",
   "metadata": {},
   "outputs": [],
   "source": [
    "window_spec = Window.partitionBy(\"state_name\").orderBy(\"births_2019\")"
   ]
  },
  {
   "cell_type": "code",
   "execution_count": 28,
   "id": "8af74646",
   "metadata": {},
   "outputs": [
    {
     "name": "stdout",
     "output_type": "stream",
     "text": [
      "+----------+-----------------+-----------+----------+\n",
      "|state_name|      county_name|births_2019|row_number|\n",
      "+----------+-----------------+-----------+----------+\n",
      "|   Alabama|     Coosa County|         89|         1|\n",
      "|   Alabama|     Perry County|         95|         2|\n",
      "|   Alabama|    Greene County|         96|         3|\n",
      "|   Alabama|   Bullock County|        109|         4|\n",
      "|   Alabama|   Lowndes County|        116|         5|\n",
      "|   Alabama|   Conecuh County|        123|         6|\n",
      "|   Alabama|   Choctaw County|        133|         7|\n",
      "|   Alabama|    Wilcox County|        133|         8|\n",
      "|   Alabama|    Sumter County|        136|         9|\n",
      "|   Alabama|  Crenshaw County|        137|        10|\n",
      "|   Alabama|      Clay County|        143|        11|\n",
      "|   Alabama|     Lamar County|        159|        12|\n",
      "|   Alabama|Washington County|        165|        13|\n",
      "|   Alabama|     Henry County|        167|        14|\n",
      "|   Alabama|     Macon County|        172|        15|\n",
      "|   Alabama|   Fayette County|        174|        16|\n",
      "|   Alabama|  Cleburne County|        187|        17|\n",
      "|   Alabama|      Hale County|        190|        18|\n",
      "|   Alabama|    Monroe County|        199|        19|\n",
      "|   Alabama|   Pickens County|        205|        20|\n",
      "+----------+-----------------+-----------+----------+\n",
      "only showing top 20 rows\n",
      "\n"
     ]
    }
   ],
   "source": [
    "df_w1 = df1.withColumn(\"row_number\", row_number().over(window_spec))\n",
    "df_w1.select([\"state_name\", \"county_name\", \"births_2019\", \"row_number\"]).show()"
   ]
  },
  {
   "cell_type": "code",
   "execution_count": 29,
   "id": "5095ed3e",
   "metadata": {},
   "outputs": [],
   "source": [
    "df_w2 = df1.withColumn(\"rank\", rank().over(window_spec))"
   ]
  },
  {
   "cell_type": "code",
   "execution_count": 30,
   "id": "91b6131b",
   "metadata": {},
   "outputs": [
    {
     "name": "stdout",
     "output_type": "stream",
     "text": [
      "+--------------------+--------------------+-----------+----+\n",
      "|          state_name|         county_name|births_2019|rank|\n",
      "+--------------------+--------------------+-----------+----+\n",
      "|             Alabama|        Coosa County|         89|   1|\n",
      "|              Alaska|Yakutat City and ...|          4|   1|\n",
      "|             Arizona|     Greenlee County|        144|   1|\n",
      "|            Arkansas|      Calhoun County|         39|   1|\n",
      "|          California|       Alpine County|         10|   1|\n",
      "|            Colorado|     Hinsdale County|          2|   1|\n",
      "|         Connecticut|      Windham County|       1060|   1|\n",
      "|            Delaware|         Kent County|       2127|   1|\n",
      "|District of Columbia|District of Columbia|       9493|   1|\n",
      "|             Florida|    Lafayette County|         63|   1|\n",
      "|             Georgia|   Taliaferro County|         13|   1|\n",
      "|              Hawaii|      Kalawao County|          0|   1|\n",
      "|               Idaho|        Clark County|          8|   1|\n",
      "|            Illinois|         Pope County|         25|   1|\n",
      "|             Indiana|        Union County|         66|   1|\n",
      "|                Iowa|        Adams County|         29|   1|\n",
      "|              Kansas|         Lane County|         13|   1|\n",
      "|            Kentucky|    Robertson County|         22|   1|\n",
      "|           Louisiana|       Tensas Parish|         47|   1|\n",
      "|               Maine|  Piscataquis County|        121|   1|\n",
      "+--------------------+--------------------+-----------+----+\n",
      "only showing top 20 rows\n",
      "\n"
     ]
    }
   ],
   "source": [
    "result_df1 = df_w2.filter(df_w2.rank == 1)\n",
    "result_df1.select([\"state_name\", \"county_name\", \"births_2019\", \"rank\"]).show()"
   ]
  },
  {
   "cell_type": "code",
   "execution_count": 31,
   "id": "b796e0f5",
   "metadata": {},
   "outputs": [],
   "source": [
    "df_cte1 = df1.groupBy(\"state_name\").agg(sum(\"births_2019\").alias(\"total_births_2019\"))"
   ]
  },
  {
   "cell_type": "code",
   "execution_count": 32,
   "id": "a10e527b",
   "metadata": {},
   "outputs": [],
   "source": [
    "from pyspark.sql.functions import max"
   ]
  },
  {
   "cell_type": "code",
   "execution_count": 33,
   "id": "dafb0a0f",
   "metadata": {},
   "outputs": [
    {
     "name": "stdout",
     "output_type": "stream",
     "text": [
      "+----------------------+\n",
      "|max(total_births_2019)|\n",
      "+----------------------+\n",
      "|                462617|\n",
      "+----------------------+\n",
      "\n"
     ]
    }
   ],
   "source": [
    "df_cte1.select([\"state_name\", \"total_births_2019\"]).agg(max(\"total_births_2019\")).show()"
   ]
  },
  {
   "cell_type": "code",
   "execution_count": 34,
   "id": "3eec9eaf",
   "metadata": {},
   "outputs": [],
   "source": [
    "max_births = df_cte1.agg(max(\"total_births_2019\").alias(\"max_births\")).collect()[0][\"max_births\"]"
   ]
  },
  {
   "cell_type": "code",
   "execution_count": 35,
   "id": "d75b3066",
   "metadata": {},
   "outputs": [
    {
     "name": "stdout",
     "output_type": "stream",
     "text": [
      "+----------+-----------------+\n",
      "|state_name|total_births_2019|\n",
      "+----------+-----------------+\n",
      "|California|           462617|\n",
      "+----------+-----------------+\n",
      "\n"
     ]
    }
   ],
   "source": [
    "df_cte1.filter(df_cte1.total_births_2019 == max_births).show()"
   ]
  },
  {
   "cell_type": "code",
   "execution_count": 36,
   "id": "fcf9e5fe",
   "metadata": {},
   "outputs": [
    {
     "data": {
      "text/plain": [
       "[Row(state_fips=1, county_fips=1, region=3, state_name='Alabama', county_name='Autauga County', area_land=1539602137, area_water=25706961, internal_point_lat=32.5322367, internal_point_lon=-86.6464395, pop_est_2018=55533, pop_est_2019=55869, births_2019=624, deaths_2019=541, international_migr_2019=-16, domestic_migr_2019=270, residual_2019=-1),\n",
       " Row(state_fips=1, county_fips=3, region=3, state_name='Alabama', county_name='Baldwin County', area_land=4117621645, area_water=1132980868, internal_point_lat=30.6592183, internal_point_lon=-87.7460666, pop_est_2018=217855, pop_est_2019=223234, births_2019=2304, deaths_2019=2326, international_migr_2019=80, domestic_migr_2019=5297, residual_2019=24),\n",
       " Row(state_fips=1, county_fips=5, region=3, state_name='Alabama', county_name='Barbour County', area_land=2292160139, area_water=50523213, internal_point_lat=31.8702531, internal_point_lon=-85.4051035, pop_est_2018=24872, pop_est_2019=24686, births_2019=256, deaths_2019=312, international_migr_2019=13, domestic_migr_2019=-141, residual_2019=-2),\n",
       " Row(state_fips=1, county_fips=7, region=3, state_name='Alabama', county_name='Bibb County', area_land=1612167476, area_water=9602089, internal_point_lat=33.0158929, internal_point_lon=-87.1271475, pop_est_2018=22367, pop_est_2019=22394, births_2019=240, deaths_2019=252, international_migr_2019=10, domestic_migr_2019=31, residual_2019=-2),\n",
       " Row(state_fips=1, county_fips=9, region=3, state_name='Alabama', county_name='Blount County', area_land=1670103866, area_water=15015467, internal_point_lat=33.9773575, internal_point_lon=-86.56644, pop_est_2018=57771, pop_est_2019=57826, births_2019=651, deaths_2019=657, international_migr_2019=6, domestic_migr_2019=59, residual_2019=-4),\n",
       " Row(state_fips=1, county_fips=11, region=3, state_name='Alabama', county_name='Bullock County', area_land=1613076054, area_water=6038093, internal_point_lat=32.1017589, internal_point_lon=-85.7172613, pop_est_2018=10174, pop_est_2019=10101, births_2019=109, deaths_2019=109, international_migr_2019=-1, domestic_migr_2019=-72, residual_2019=0),\n",
       " Row(state_fips=1, county_fips=13, region=3, state_name='Alabama', county_name='Butler County', area_land=2012002531, area_water=2701198, internal_point_lat=31.751667, internal_point_lon=-86.6819689, pop_est_2018=19631, pop_est_2019=19448, births_2019=213, deaths_2019=272, international_migr_2019=18, domestic_migr_2019=-141, residual_2019=-1),\n",
       " Row(state_fips=1, county_fips=15, region=3, state_name='Alabama', county_name='Calhoun County', area_land=1569195268, area_water=16587192, internal_point_lat=33.7705162, internal_point_lon=-85.8279089, pop_est_2018=114331, pop_est_2019=113605, births_2019=1269, deaths_2019=1532, international_migr_2019=14, domestic_migr_2019=-475, residual_2019=-2),\n",
       " Row(state_fips=1, county_fips=17, region=3, state_name='Alabama', county_name='Chambers County', area_land=1545085607, area_water=16971700, internal_point_lat=32.9155039, internal_point_lon=-85.3940321, pop_est_2018=33600, pop_est_2019=33254, births_2019=354, deaths_2019=441, international_migr_2019=6, domestic_migr_2019=-265, residual_2019=0),\n",
       " Row(state_fips=1, county_fips=19, region=3, state_name='Alabama', county_name='Cherokee County', area_land=1433623319, area_water=120308342, internal_point_lat=34.0695153, internal_point_lon=-85.6542417, pop_est_2018=26014, pop_est_2019=26196, births_2019=222, deaths_2019=343, international_migr_2019=-3, domestic_migr_2019=306, residual_2019=0)]"
      ]
     },
     "execution_count": 36,
     "metadata": {},
     "output_type": "execute_result"
    }
   ],
   "source": [
    "df1.head(10)"
   ]
  },
  {
   "cell_type": "code",
   "execution_count": 37,
   "id": "adc493c7",
   "metadata": {},
   "outputs": [
    {
     "name": "stdout",
     "output_type": "stream",
     "text": [
      "+----------+-----------+------+----------+----------------+----------+----------+------------------+------------------+------------+------------+-----------+-----------+-----------------------+------------------+-------------+\n",
      "|state_fips|county_fips|region|state_name|     county_name| area_land|area_water|internal_point_lat|internal_point_lon|pop_est_2018|pop_est_2019|births_2019|deaths_2019|international_migr_2019|domestic_migr_2019|residual_2019|\n",
      "+----------+-----------+------+----------+----------------+----------+----------+------------------+------------------+------------+------------+-----------+-----------+-----------------------+------------------+-------------+\n",
      "|         1|          1|     3|   Alabama|  Autauga County|1539602137|  25706961|        32.5322367|       -86.6464395|       55533|       55869|        624|        541|                    -16|               270|           -1|\n",
      "|         1|          3|     3|   Alabama|  Baldwin County|4117621645|1132980868|        30.6592183|       -87.7460666|      217855|      223234|       2304|       2326|                     80|              5297|           24|\n",
      "|         1|          5|     3|   Alabama|  Barbour County|2292160139|  50523213|        31.8702531|       -85.4051035|       24872|       24686|        256|        312|                     13|              -141|           -2|\n",
      "|         1|          7|     3|   Alabama|     Bibb County|1612167476|   9602089|        33.0158929|       -87.1271475|       22367|       22394|        240|        252|                     10|                31|           -2|\n",
      "|         1|          9|     3|   Alabama|   Blount County|1670103866|  15015467|        33.9773575|         -86.56644|       57771|       57826|        651|        657|                      6|                59|           -4|\n",
      "|         1|         11|     3|   Alabama|  Bullock County|1613076054|   6038093|        32.1017589|       -85.7172613|       10174|       10101|        109|        109|                     -1|               -72|            0|\n",
      "|         1|         13|     3|   Alabama|   Butler County|2012002531|   2701198|         31.751667|       -86.6819689|       19631|       19448|        213|        272|                     18|              -141|           -1|\n",
      "|         1|         15|     3|   Alabama|  Calhoun County|1569195268|  16587192|        33.7705162|       -85.8279089|      114331|      113605|       1269|       1532|                     14|              -475|           -2|\n",
      "|         1|         17|     3|   Alabama| Chambers County|1545085607|  16971700|        32.9155039|       -85.3940321|       33600|       33254|        354|        441|                      6|              -265|            0|\n",
      "|         1|         19|     3|   Alabama| Cherokee County|1433623319| 120308342|        34.0695153|       -85.6542417|       26014|       26196|        222|        343|                     -3|               306|            0|\n",
      "|         1|         21|     3|   Alabama|  Chilton County|1794477075|  20592142|        32.8540514|       -86.7266071|       44163|       44428|        551|        503|                     35|               184|           -2|\n",
      "|         1|         23|     3|   Alabama|  Choctaw County|2365869841|  19144469|        31.9909539|       -88.2488894|       12833|       12589|        133|        176|                     -2|              -199|            0|\n",
      "|         1|         25|     3|   Alabama|   Clarke County|3207494106|  36657891|        31.6855211|       -87.8186244|       23918|       23622|        266|        324|                     -5|              -232|           -1|\n",
      "|         1|         27|     3|   Alabama|     Clay County|1564251834|   5285207|        33.2703999|       -85.8635254|       13294|       13235|        143|        187|                     -2|               -12|           -1|\n",
      "|         1|         29|     3|   Alabama| Cleburne County|1450663786|   2354896|        33.6719637|       -85.5161261|       15010|       14910|        187|        189|                    -11|               -86|           -1|\n",
      "|         1|         31|     3|   Alabama|   Coffee County|1758565919|   3907189|         31.402258|       -85.9896022|       51950|       52342|        599|        570|                     34|               334|           -5|\n",
      "|         1|         33|     3|   Alabama|  Colbert County|1535202321|  79700278|         34.703112|       -87.8014569|       55004|       55241|        630|        719|                     73|               256|           -3|\n",
      "|         1|         35|     3|   Alabama|  Conecuh County|2202007855|   6632046|        31.4309257|       -86.9887221|       12292|       12067|        123|        182|                      1|              -167|            0|\n",
      "|         1|         37|     3|   Alabama|    Coosa County|1685850815|  39987271|        32.9314453|       -86.2434818|       10643|       10663|         89|        122|                     13|                42|           -2|\n",
      "|         1|         39|     3|   Alabama|Covington County|2669134207|  34226200|        31.2439873|       -86.4487206|       36953|       37049|        413|        543|                     -5|               235|           -4|\n",
      "+----------+-----------+------+----------+----------------+----------+----------+------------------+------------------+------------+------------+-----------+-----------+-----------------------+------------------+-------------+\n",
      "only showing top 20 rows\n",
      "\n"
     ]
    }
   ],
   "source": [
    "df1.show()"
   ]
  },
  {
   "cell_type": "code",
   "execution_count": 38,
   "id": "49a5064a",
   "metadata": {},
   "outputs": [],
   "source": [
    "df2 = spark.createDataFrame(\n",
    "    [\n",
    "        (\"sue\", 32),\n",
    "        (\"li\", 3),\n",
    "        (\"bob\", 75),\n",
    "        (\"heo\", 13),\n",
    "    ],\n",
    "    [\"first_name\", \"age\"],\n",
    ")"
   ]
  },
  {
   "cell_type": "code",
   "execution_count": 39,
   "id": "1c79da58",
   "metadata": {},
   "outputs": [
    {
     "name": "stdout",
     "output_type": "stream",
     "text": [
      "root\n",
      " |-- first_name: string (nullable = true)\n",
      " |-- age: long (nullable = true)\n",
      "\n"
     ]
    }
   ],
   "source": [
    "df2.printSchema()"
   ]
  },
  {
   "cell_type": "code",
   "execution_count": 40,
   "id": "90044821",
   "metadata": {},
   "outputs": [
    {
     "data": {
      "text/plain": [
       "pyspark.sql.dataframe.DataFrame"
      ]
     },
     "execution_count": 40,
     "metadata": {},
     "output_type": "execute_result"
    }
   ],
   "source": [
    "type(df2)"
   ]
  },
  {
   "cell_type": "code",
   "execution_count": 41,
   "id": "f6659528",
   "metadata": {},
   "outputs": [
    {
     "data": {
      "text/plain": [
       "['first_name', 'age']"
      ]
     },
     "execution_count": 41,
     "metadata": {},
     "output_type": "execute_result"
    }
   ],
   "source": [
    "df2.columns"
   ]
  },
  {
   "cell_type": "code",
   "execution_count": 42,
   "id": "e9bab17a",
   "metadata": {},
   "outputs": [
    {
     "name": "stdout",
     "output_type": "stream",
     "text": [
      "+----------+---+\n",
      "|first_name|age|\n",
      "+----------+---+\n",
      "|       sue| 32|\n",
      "|        li|  3|\n",
      "|       bob| 75|\n",
      "|       heo| 13|\n",
      "+----------+---+\n",
      "\n"
     ]
    },
    {
     "name": "stderr",
     "output_type": "stream",
     "text": [
      "\r",
      "[Stage 43:>                                                         (0 + 1) / 1]\r",
      "\r",
      "                                                                                \r"
     ]
    }
   ],
   "source": [
    "df2.show()"
   ]
  },
  {
   "cell_type": "code",
   "execution_count": 43,
   "id": "8e4d477b",
   "metadata": {},
   "outputs": [],
   "source": [
    "from pyspark.sql.functions import col, when"
   ]
  },
  {
   "cell_type": "code",
   "execution_count": 44,
   "id": "7963139c",
   "metadata": {},
   "outputs": [],
   "source": [
    "result_df2 = df2.withColumn(\"life_stage\", \n",
    "               when(col(\"age\") < 13, \"child\")\n",
    "              .when(col(\"age\").between(13, 19), \"teenager\")\n",
    "               .otherwise(\"adult\")\n",
    "              )"
   ]
  },
  {
   "cell_type": "code",
   "execution_count": 45,
   "id": "a69a9426",
   "metadata": {},
   "outputs": [
    {
     "name": "stdout",
     "output_type": "stream",
     "text": [
      "+----------+---+----------+\n",
      "|first_name|age|life_stage|\n",
      "+----------+---+----------+\n",
      "|       sue| 32|     adult|\n",
      "|        li|  3|     child|\n",
      "|       bob| 75|     adult|\n",
      "|       heo| 13|  teenager|\n",
      "+----------+---+----------+\n",
      "\n"
     ]
    }
   ],
   "source": [
    "result_df2.show()"
   ]
  },
  {
   "cell_type": "code",
   "execution_count": 46,
   "id": "d773f30a",
   "metadata": {},
   "outputs": [
    {
     "name": "stdout",
     "output_type": "stream",
     "text": [
      "+----------+---+----------+\n",
      "|first_name|age|life_stage|\n",
      "+----------+---+----------+\n",
      "|       sue| 32|     adult|\n",
      "|       bob| 75|     adult|\n",
      "|       heo| 13|  teenager|\n",
      "+----------+---+----------+\n",
      "\n"
     ]
    }
   ],
   "source": [
    "result_df2.where(col(\"life_stage\").isin([\"teenager\", \"adult\"])).show()"
   ]
  },
  {
   "cell_type": "code",
   "execution_count": 47,
   "id": "1171fded",
   "metadata": {},
   "outputs": [
    {
     "data": {
      "text/plain": [
       "['state_fips',\n",
       " 'county_fips',\n",
       " 'region',\n",
       " 'state_name',\n",
       " 'county_name',\n",
       " 'area_land',\n",
       " 'area_water',\n",
       " 'internal_point_lat',\n",
       " 'internal_point_lon',\n",
       " 'pop_est_2018',\n",
       " 'pop_est_2019',\n",
       " 'births_2019',\n",
       " 'deaths_2019',\n",
       " 'international_migr_2019',\n",
       " 'domestic_migr_2019',\n",
       " 'residual_2019']"
      ]
     },
     "execution_count": 47,
     "metadata": {},
     "output_type": "execute_result"
    }
   ],
   "source": [
    "df1.columns"
   ]
  },
  {
   "cell_type": "code",
   "execution_count": 48,
   "id": "4a5ce980",
   "metadata": {},
   "outputs": [
    {
     "name": "stdout",
     "output_type": "stream",
     "text": [
      "+----------+----------------+------------+-----------+-----------+\n",
      "|state_name|     county_name|pop_est_2019|births_2019|deaths_2019|\n",
      "+----------+----------------+------------+-----------+-----------+\n",
      "|   Alabama|  Autauga County|       55869|        624|        541|\n",
      "|   Alabama|  Baldwin County|      223234|       2304|       2326|\n",
      "|   Alabama|  Barbour County|       24686|        256|        312|\n",
      "|   Alabama|     Bibb County|       22394|        240|        252|\n",
      "|   Alabama|   Blount County|       57826|        651|        657|\n",
      "|   Alabama|  Bullock County|       10101|        109|        109|\n",
      "|   Alabama|   Butler County|       19448|        213|        272|\n",
      "|   Alabama|  Calhoun County|      113605|       1269|       1532|\n",
      "|   Alabama| Chambers County|       33254|        354|        441|\n",
      "|   Alabama| Cherokee County|       26196|        222|        343|\n",
      "|   Alabama|  Chilton County|       44428|        551|        503|\n",
      "|   Alabama|  Choctaw County|       12589|        133|        176|\n",
      "|   Alabama|   Clarke County|       23622|        266|        324|\n",
      "|   Alabama|     Clay County|       13235|        143|        187|\n",
      "|   Alabama| Cleburne County|       14910|        187|        189|\n",
      "|   Alabama|   Coffee County|       52342|        599|        570|\n",
      "|   Alabama|  Colbert County|       55241|        630|        719|\n",
      "|   Alabama|  Conecuh County|       12067|        123|        182|\n",
      "|   Alabama|    Coosa County|       10663|         89|        122|\n",
      "|   Alabama|Covington County|       37049|        413|        543|\n",
      "+----------+----------------+------------+-----------+-----------+\n",
      "only showing top 20 rows\n",
      "\n"
     ]
    }
   ],
   "source": [
    "df1.select([\"state_name\", \"county_name\", \"pop_est_2019\", \"births_2019\", \"deaths_2019\"]).show()"
   ]
  },
  {
   "cell_type": "code",
   "execution_count": 49,
   "id": "0ad9fbde",
   "metadata": {},
   "outputs": [
    {
     "name": "stdout",
     "output_type": "stream",
     "text": [
      "+----------+--------------------+------------+\n",
      "|state_name|         county_name|pop_est_2019|\n",
      "+----------+--------------------+------------+\n",
      "|California|  Los Angeles County|    10039107|\n",
      "|  Illinois|         Cook County|     5150233|\n",
      "|     Texas|       Harris County|     4713325|\n",
      "|   Arizona|     Maricopa County|     4485414|\n",
      "|California|    San Diego County|     3338330|\n",
      "|California|       Orange County|     3175692|\n",
      "|   Florida|   Miami-Dade County|     2716940|\n",
      "|     Texas|       Dallas County|     2635516|\n",
      "|  New York|        Kings County|     2559903|\n",
      "|California|    Riverside County|     2470546|\n",
      "|    Nevada|        Clark County|     2266715|\n",
      "|  New York|       Queens County|     2253858|\n",
      "|Washington|         King County|     2252782|\n",
      "|California|San Bernardino Co...|     2180085|\n",
      "|     Texas|      Tarrant County|     2102515|\n",
      "|     Texas|        Bexar County|     2003554|\n",
      "|   Florida|      Broward County|     1952778|\n",
      "|California|  Santa Clara County|     1927852|\n",
      "|  Michigan|        Wayne County|     1749343|\n",
      "|California|      Alameda County|     1671329|\n",
      "+----------+--------------------+------------+\n",
      "only showing top 20 rows\n",
      "\n"
     ]
    }
   ],
   "source": [
    "#Fetch counties along with state_name where 'pop_est_2019' is greater than or equal to 50k\n",
    "df1.select(\"state_name\", \"county_name\", \"pop_est_2019\")\\\n",
    "    .where(col(\"pop_est_2019\") > 50000)\\\n",
    "    .orderBy(\"pop_est_2019\", ascending = False).show()"
   ]
  },
  {
   "cell_type": "code",
   "execution_count": 50,
   "id": "04188f72",
   "metadata": {},
   "outputs": [
    {
     "name": "stdout",
     "output_type": "stream",
     "text": [
      "+----------+-----------------+------------+-----------+\n",
      "|state_name|      county_name|pop_est_2019|births_2019|\n",
      "+----------+-----------------+------------+-----------+\n",
      "|   Alabama| Jefferson County|      658573|       8422|\n",
      "|   Alabama|    Mobile County|      413210|       5443|\n",
      "|   Alabama|   Madison County|      372909|       4242|\n",
      "|   Alabama|Montgomery County|      226486|       3058|\n",
      "|   Alabama|   Baldwin County|      223234|       2304|\n",
      "|   Alabama|    Shelby County|      217702|       2237|\n",
      "|   Alabama|Tuscaloosa County|      209355|       2431|\n",
      "|   Alabama|       Lee County|      164542|       1825|\n",
      "|   Alabama|    Morgan County|      119679|       1402|\n",
      "|   Alabama|   Calhoun County|      113605|       1269|\n",
      "|   Alabama|   Houston County|      105882|       1304|\n",
      "|   Alabama|    Etowah County|      102268|       1175|\n",
      "|   Alabama| Limestone County|       98915|       1014|\n",
      "|   Alabama|  Marshall County|       96774|       1395|\n",
      "|   Alabama|Lauderdale County|       92729|        876|\n",
      "|   Alabama| St. Clair County|       89512|        983|\n",
      "|   Alabama|   Cullman County|       83768|        990|\n",
      "|   Alabama|    Elmore County|       81209|        932|\n",
      "|   Alabama| Talladega County|       79978|        844|\n",
      "|   Alabama|    DeKalb County|       71513|        795|\n",
      "+----------+-----------------+------------+-----------+\n",
      "only showing top 20 rows\n",
      "\n"
     ]
    }
   ],
   "source": [
    "#Fetch counties along with state_name where 'pop_est_2019' is greater than or equal to 50k \n",
    "# and 'births_2019' > 500 order by state_name\" - asc, \"pop_est_2019\" - desc, \"births_2019\" - asc in asc\n",
    "df1.select(\"state_name\", \"county_name\", \"pop_est_2019\", \"births_2019\")\\\n",
    "    .where((col(\"pop_est_2019\") > 50000) & (col(\"births_2019\") > 500))\\\n",
    "    .orderBy([\"state_name\", \"pop_est_2019\", \"births_2019\"], ascending = [True, False, True]).show()"
   ]
  },
  {
   "cell_type": "code",
   "execution_count": 51,
   "id": "a0072f04",
   "metadata": {},
   "outputs": [
    {
     "name": "stdout",
     "output_type": "stream",
     "text": [
      "+----------+------------------+------------+-----------+\n",
      "|state_name|       county_name|pop_est_2019|births_2019|\n",
      "+----------+------------------+------------+-----------+\n",
      "|  New York|      Kings County|     2559903|      37786|\n",
      "|  New York|     Queens County|     2253858|      27453|\n",
      "|  New York|   New York County|     1628706|      16968|\n",
      "|  New York|    Suffolk County|     1476601|      15129|\n",
      "|  New York|      Bronx County|     1418207|      19674|\n",
      "|  New York|     Nassau County|     1356924|      14001|\n",
      "|  New York|Westchester County|      967506|      10183|\n",
      "|  New York|       Erie County|      918702|       9756|\n",
      "|  New York|     Monroe County|      741770|       7762|\n",
      "|  New York|   Richmond County|      476143|       5322|\n",
      "|  New York|   Onondaga County|      460528|       4952|\n",
      "|  New York|     Orange County|      384940|       5043|\n",
      "|  New York|   Rockland County|      325789|       5370|\n",
      "|  New York|     Albany County|      305506|       3024|\n",
      "|  New York|   Dutchess County|      294218|       2584|\n",
      "|  New York|   Saratoga County|      229863|       2103|\n",
      "|  New York|     Oneida County|      228671|       2482|\n",
      "|  New York|    Niagara County|      209281|       2067|\n",
      "|  New York|     Broome County|      190488|       1920|\n",
      "|  New York|     Ulster County|      177573|       1433|\n",
      "+----------+------------------+------------+-----------+\n",
      "only showing top 20 rows\n",
      "\n"
     ]
    },
    {
     "name": "stderr",
     "output_type": "stream",
     "text": [
      "24/06/08 21:13:09 WARN GarbageCollectionMetrics: To enable non-built-in garbage collector(s) List(G1 Concurrent GC), users should configure it(them) to spark.eventLog.gcMetrics.youngGenerationGarbageCollectors or spark.eventLog.gcMetrics.oldGenerationGarbageCollectors\n"
     ]
    }
   ],
   "source": [
    "## Perform previous case but just fetch the details for \"New York\" state and \"Texas\" \n",
    "\n",
    "df1.select(\"state_name\", \"county_name\", \"pop_est_2019\", \"births_2019\")\\\n",
    "    .where( \n",
    "        (col(\"pop_est_2019\") > 50000) & \n",
    "        (col(\"births_2019\") > 500) &  \n",
    "        (col(\"state_name\").isin([\"New York\", \"Texas\"])) \n",
    "            )\\\n",
    "    .orderBy([\"state_name\", \"pop_est_2019\", \"births_2019\"], ascending = [True, False, True]).show()"
   ]
  },
  {
   "cell_type": "code",
   "execution_count": null,
   "id": "5aa728ee",
   "metadata": {},
   "outputs": [],
   "source": []
  }
 ],
 "metadata": {
  "kernelspec": {
   "display_name": "Python 3 (ipykernel)",
   "language": "python",
   "name": "python3"
  },
  "language_info": {
   "codemirror_mode": {
    "name": "ipython",
    "version": 3
   },
   "file_extension": ".py",
   "mimetype": "text/x-python",
   "name": "python",
   "nbconvert_exporter": "python",
   "pygments_lexer": "ipython3",
   "version": "3.9.13"
  }
 },
 "nbformat": 4,
 "nbformat_minor": 5
}
