{
 "cells": [
  {
   "cell_type": "code",
   "execution_count": 3,
   "id": "6a9f0fcf",
   "metadata": {},
   "outputs": [],
   "source": [
    "import findspark\n",
    "findspark.init()\n",
    "\n",
    "from pyspark.sql import SparkSession\n",
    "\n",
    "spark = SparkSession.builder.appName(\"Pratice - 4\").getOrCreate()"
   ]
  },
  {
   "cell_type": "code",
   "execution_count": 4,
   "id": "e6547cc6",
   "metadata": {},
   "outputs": [
    {
     "data": {
      "text/html": [
       "\n",
       "            <div>\n",
       "                <p><b>SparkSession - in-memory</b></p>\n",
       "                \n",
       "        <div>\n",
       "            <p><b>SparkContext</b></p>\n",
       "\n",
       "            <p><a href=\"http://sateeshs-mbp.lan:4040\">Spark UI</a></p>\n",
       "\n",
       "            <dl>\n",
       "              <dt>Version</dt>\n",
       "                <dd><code>v3.5.1</code></dd>\n",
       "              <dt>Master</dt>\n",
       "                <dd><code>local[*]</code></dd>\n",
       "              <dt>AppName</dt>\n",
       "                <dd><code>Pratice - 4</code></dd>\n",
       "            </dl>\n",
       "        </div>\n",
       "        \n",
       "            </div>\n",
       "        "
      ],
      "text/plain": [
       "<pyspark.sql.session.SparkSession at 0x7fe202279760>"
      ]
     },
     "execution_count": 4,
     "metadata": {},
     "output_type": "execute_result"
    }
   ],
   "source": [
    "spark"
   ]
  },
  {
   "cell_type": "markdown",
   "id": "bdfe9158",
   "metadata": {},
   "source": [
    "### Read csv files in different ways"
   ]
  },
  {
   "cell_type": "code",
   "execution_count": 30,
   "id": "6df1d99b",
   "metadata": {},
   "outputs": [],
   "source": [
    "from pyspark.sql.types import StructType, StructField, StringType, TimestampType, FloatType"
   ]
  },
  {
   "cell_type": "code",
   "execution_count": 58,
   "id": "d853804f",
   "metadata": {},
   "outputs": [],
   "source": [
    "# Define the schema for patients\n",
    "\n",
    "schema_patients = StructType([\n",
    "    StructField(\"PatientID\", StringType(), True),\n",
    "    StructField(\"PatientGender\", StringType(), True),\n",
    "    StructField(\"PatientDateOfBirth\", TimestampType(), True),\n",
    "    StructField(\"PatientRace\", StringType(), True),\n",
    "    StructField(\"PatientMaritalStatus\", StringType(), True),\n",
    "    StructField(\"PatientLanguage\", StringType(), True),\n",
    "    StructField(\"PatientPopulationPercentageBelowPoverty\", FloatType(), True)\n",
    "])\n"
   ]
  },
  {
   "cell_type": "code",
   "execution_count": 63,
   "id": "fa79943a",
   "metadata": {},
   "outputs": [],
   "source": [
    "# Read PatientCorePopulatedTable.csv file with Schema\n",
    "\n",
    "df_patients = spark.read.csv(\"/Users/sateeshreddypatlolla/Downloads/PatientCorePopulatedTable.csv\", sep='\\t', header = True, schema = schema_patients)"
   ]
  },
  {
   "cell_type": "code",
   "execution_count": 49,
   "id": "439c13d9",
   "metadata": {},
   "outputs": [
    {
     "data": {
      "text/plain": [
       "['PatientID',\n",
       " 'PatientGender',\n",
       " 'PatientDateOfBirth',\n",
       " 'PatientRace',\n",
       " 'PatientMaritalStatus',\n",
       " 'PatientLanguage',\n",
       " 'PatientPopulationPercentageBelowPoverty']"
      ]
     },
     "execution_count": 49,
     "metadata": {},
     "output_type": "execute_result"
    }
   ],
   "source": [
    "#Get Columns\n",
    "\n",
    "df_patients.columns"
   ]
  },
  {
   "cell_type": "code",
   "execution_count": 72,
   "id": "09d80302",
   "metadata": {},
   "outputs": [
    {
     "data": {
      "text/plain": [
       "7"
      ]
     },
     "execution_count": 72,
     "metadata": {},
     "output_type": "execute_result"
    }
   ],
   "source": [
    "# Get column count\n",
    "\n",
    "len(df_patients.columns)"
   ]
  },
  {
   "cell_type": "code",
   "execution_count": 60,
   "id": "fdf41ae3",
   "metadata": {},
   "outputs": [
    {
     "data": {
      "text/plain": [
       "[('PatientID', 'string'),\n",
       " ('PatientGender', 'string'),\n",
       " ('PatientDateOfBirth', 'timestamp'),\n",
       " ('PatientRace', 'string'),\n",
       " ('PatientMaritalStatus', 'string'),\n",
       " ('PatientLanguage', 'string'),\n",
       " ('PatientPopulationPercentageBelowPoverty', 'float')]"
      ]
     },
     "execution_count": 60,
     "metadata": {},
     "output_type": "execute_result"
    }
   ],
   "source": [
    "# Get Columns with data types\n",
    "\n",
    "df_patients.dtypes"
   ]
  },
  {
   "cell_type": "code",
   "execution_count": 53,
   "id": "d31733c9",
   "metadata": {},
   "outputs": [
    {
     "name": "stdout",
     "output_type": "stream",
     "text": [
      "root\n",
      " |-- PatientID: string (nullable = true)\n",
      " |-- PatientGender: string (nullable = true)\n",
      " |-- PatientDateOfBirth: timestamp (nullable = true)\n",
      " |-- PatientRace: string (nullable = true)\n",
      " |-- PatientMaritalStatus: string (nullable = true)\n",
      " |-- PatientLanguage: string (nullable = true)\n",
      " |-- PatientPopulationPercentageBelowPoverty: float (nullable = true)\n",
      "\n"
     ]
    }
   ],
   "source": [
    "# Get Schema\n",
    "\n",
    "df_patients.printSchema()"
   ]
  },
  {
   "cell_type": "code",
   "execution_count": 61,
   "id": "dc77e8e2",
   "metadata": {},
   "outputs": [
    {
     "data": {
      "text/plain": [
       "StructType([StructField('PatientID', StringType(), True), StructField('PatientGender', StringType(), True), StructField('PatientDateOfBirth', TimestampType(), True), StructField('PatientRace', StringType(), True), StructField('PatientMaritalStatus', StringType(), True), StructField('PatientLanguage', StringType(), True), StructField('PatientPopulationPercentageBelowPoverty', FloatType(), True)])"
      ]
     },
     "execution_count": 61,
     "metadata": {},
     "output_type": "execute_result"
    }
   ],
   "source": [
    "# Get Schema\n",
    "\n",
    "df_patients.schema"
   ]
  },
  {
   "cell_type": "markdown",
   "id": "e19fa64a",
   "metadata": {},
   "source": [
    "DataFrame.collect() collects the distributed data to the driver side as the local data in Python. Note that this can throw an out-of-memory error when the dataset is too large to fit in the driver side because it collects all the data from executors to the driver side."
   ]
  },
  {
   "cell_type": "code",
   "execution_count": 64,
   "id": "681bee54",
   "metadata": {},
   "outputs": [
    {
     "data": {
      "text/plain": [
       "[Row(PatientID='FB2ABB23-C9D0-4D09-8464-49BF0B982F0F', PatientGender='Male', PatientDateOfBirth=datetime.datetime(1947, 12, 28, 2, 45, 40, 547000), PatientRace='Unknown', PatientMaritalStatus='Married', PatientLanguage='Icelandic', PatientPopulationPercentageBelowPoverty=18.079999923706055),\n",
       " Row(PatientID='64182B95-EB72-4E2B-BE77-8050B71498CE', PatientGender='Male', PatientDateOfBirth=datetime.datetime(1952, 1, 18, 19, 51, 12, 917000), PatientRace='African American', PatientMaritalStatus='Separated', PatientLanguage='English', PatientPopulationPercentageBelowPoverty=13.029999732971191),\n",
       " Row(PatientID='DB22A4D9-7E4D-485C-916A-9CD1386507FB', PatientGender='Female', PatientDateOfBirth=datetime.datetime(1970, 7, 25, 13, 4, 20, 717000), PatientRace='Asian', PatientMaritalStatus='Married', PatientLanguage='English', PatientPopulationPercentageBelowPoverty=6.670000076293945),\n",
       " Row(PatientID='6E70D84D-C75F-477C-BC37-9177C3698C66', PatientGender='Male', PatientDateOfBirth=datetime.datetime(1979, 1, 4, 5, 45, 29, 580000), PatientRace='White', PatientMaritalStatus='Married', PatientLanguage='English', PatientPopulationPercentageBelowPoverty=16.09000015258789),\n",
       " Row(PatientID='C8556CC0-32FC-4CA5-A8CD-9CCF38816167', PatientGender='Female', PatientDateOfBirth=datetime.datetime(1921, 4, 11, 11, 39, 49, 197000), PatientRace='White', PatientMaritalStatus='Married', PatientLanguage='English', PatientPopulationPercentageBelowPoverty=18.200000762939453),\n",
       " Row(PatientID='7FD13988-E58A-4A5C-8680-89AC200950FA', PatientGender='Male', PatientDateOfBirth=datetime.datetime(1965, 7, 12, 15, 41, 20, 523000), PatientRace='White', PatientMaritalStatus='Married', PatientLanguage='Spanish', PatientPopulationPercentageBelowPoverty=12.40999984741211),\n",
       " Row(PatientID='C60FE675-CA52-4C55-A233-F4B27E94987F', PatientGender='Male', PatientDateOfBirth=datetime.datetime(1957, 10, 30, 23, 26, 15, 303000), PatientRace='Asian', PatientMaritalStatus='Married', PatientLanguage='Spanish', PatientPopulationPercentageBelowPoverty=12.800000190734863),\n",
       " Row(PatientID='B39DC5AC-E003-4E6A-91B6-FC07625A1285', PatientGender='Female', PatientDateOfBirth=datetime.datetime(1935, 11, 3, 21, 7, 9, 40000), PatientRace='White', PatientMaritalStatus='Married', PatientLanguage='English', PatientPopulationPercentageBelowPoverty=15.3100004196167),\n",
       " Row(PatientID='FA157FA5-F488-4884-BF87-E144630D595C', PatientGender='Female', PatientDateOfBirth=datetime.datetime(1932, 11, 1, 6, 19, 56, 577000), PatientRace='White', PatientMaritalStatus='Single', PatientLanguage='English', PatientPopulationPercentageBelowPoverty=16.31999969482422),\n",
       " Row(PatientID='B7E9FC4C-5182-4A34-954E-CEF5FC07E96D', PatientGender='Female', PatientDateOfBirth=datetime.datetime(1985, 12, 11, 2, 48, 16, 907000), PatientRace='Unknown', PatientMaritalStatus='Single', PatientLanguage='English', PatientPopulationPercentageBelowPoverty=11.430000305175781),\n",
       " Row(PatientID='1A40AF35-C6D4-4D46-B475-A15D84E8A9D5', PatientGender='Male', PatientDateOfBirth=datetime.datetime(1949, 1, 10, 15, 37, 35, 543000), PatientRace='White', PatientMaritalStatus='Married', PatientLanguage='English', PatientPopulationPercentageBelowPoverty=11.25),\n",
       " Row(PatientID='DA6CECFF-DE13-4C4C-919F-64E1A2B76C9D', PatientGender='Male', PatientDateOfBirth=datetime.datetime(1924, 6, 27, 19, 37, 58, 823000), PatientRace='Asian', PatientMaritalStatus='Divorced', PatientLanguage='English', PatientPopulationPercentageBelowPoverty=83.75),\n",
       " Row(PatientID='0A9BA3E4-CF3C-49C4-9774-5EEA2EE7D123', PatientGender='Male', PatientDateOfBirth=datetime.datetime(1980, 4, 4, 7, 59, 15, 820000), PatientRace='White', PatientMaritalStatus='Single', PatientLanguage='Spanish', PatientPopulationPercentageBelowPoverty=14.279999732971191),\n",
       " Row(PatientID='7C788499-7798-484B-A027-9FCDC4C0DADB', PatientGender='Male', PatientDateOfBirth=datetime.datetime(1926, 8, 13, 10, 22, 16, 247000), PatientRace='White', PatientMaritalStatus='Married', PatientLanguage='English', PatientPopulationPercentageBelowPoverty=11.890000343322754),\n",
       " Row(PatientID='C54B5AAD-98E8-472D-BAA0-638D9F3BD024', PatientGender='Female', PatientDateOfBirth=datetime.datetime(1972, 11, 13, 22, 50, 43, 600000), PatientRace='African American', PatientMaritalStatus='Single', PatientLanguage='Unknown', PatientPopulationPercentageBelowPoverty=94.0),\n",
       " Row(PatientID='6985D824-3269-4D12-A9DD-B932D640E26E', PatientGender='Female', PatientDateOfBirth=datetime.datetime(1967, 10, 27, 3, 58, 29, 27000), PatientRace='White', PatientMaritalStatus='Married', PatientLanguage='English', PatientPopulationPercentageBelowPoverty=12.010000228881836),\n",
       " Row(PatientID='D8B53AA2-7953-4477-9EA4-68400EBAAC5C', PatientGender='Male', PatientDateOfBirth=datetime.datetime(1951, 6, 11, 20, 11, 10, 3000), PatientRace='African American', PatientMaritalStatus='Unknown', PatientLanguage='English', PatientPopulationPercentageBelowPoverty=16.889999389648438),\n",
       " Row(PatientID='DB92CDC6-FA9B-4492-BC2C-0C588AD78956', PatientGender='Male', PatientDateOfBirth=datetime.datetime(1977, 6, 30, 1, 46, 5, 467000), PatientRace='Unknown', PatientMaritalStatus='Single', PatientLanguage='Icelandic', PatientPopulationPercentageBelowPoverty=1.7000000476837158),\n",
       " Row(PatientID='25B786AF-0F99-478C-9CFA-0EA607E45834', PatientGender='Male', PatientDateOfBirth=datetime.datetime(1926, 8, 20, 0, 21, 38, 870000), PatientRace='White', PatientMaritalStatus='Married', PatientLanguage='English', PatientPopulationPercentageBelowPoverty=93.5999984741211),\n",
       " Row(PatientID='F00C64F8-2033-4640-80FE-F1F62CBE26A5', PatientGender='Female', PatientDateOfBirth=datetime.datetime(1957, 6, 4, 18, 31, 1, 177000), PatientRace='African American', PatientMaritalStatus='Single', PatientLanguage='English', PatientPopulationPercentageBelowPoverty=15.720000267028809),\n",
       " Row(PatientID='B70E5A76-F2BC-41E4-B037-CD4D9ABA0967', PatientGender='Male', PatientDateOfBirth=datetime.datetime(1962, 12, 15, 1, 59, 1, 737000), PatientRace='White', PatientMaritalStatus='Single', PatientLanguage='Icelandic', PatientPopulationPercentageBelowPoverty=13.100000381469727),\n",
       " Row(PatientID='F0B53A2C-98CA-415D-B928-E3FD0E52B22A', PatientGender='Male', PatientDateOfBirth=datetime.datetime(1950, 6, 20, 10, 31, 18, 337000), PatientRace='African American', PatientMaritalStatus='Married', PatientLanguage='English', PatientPopulationPercentageBelowPoverty=14.869999885559082),\n",
       " Row(PatientID='1A8791E3-A61C-455A-8DEE-763EB90C9B2C', PatientGender='Male', PatientDateOfBirth=datetime.datetime(1973, 8, 16, 10, 58, 34, 413000), PatientRace='Asian', PatientMaritalStatus='Single', PatientLanguage='English', PatientPopulationPercentageBelowPoverty=13.970000267028809),\n",
       " Row(PatientID='81C5B13B-F6B2-4E57-9593-6E7E4C13B2CE', PatientGender='Female', PatientDateOfBirth=datetime.datetime(1930, 5, 28, 2, 59, 42, 857000), PatientRace='White', PatientMaritalStatus='Married', PatientLanguage='Icelandic', PatientPopulationPercentageBelowPoverty=19.219999313354492),\n",
       " Row(PatientID='220C8D43-1322-4A9D-B890-D426942A3649', PatientGender='Male', PatientDateOfBirth=datetime.datetime(1971, 3, 13, 18, 31, 24, 877000), PatientRace='Asian', PatientMaritalStatus='Married', PatientLanguage='English', PatientPopulationPercentageBelowPoverty=16.709999084472656),\n",
       " Row(PatientID='C242E3A4-E785-4DF1-A0E4-3B568DC88F2E', PatientGender='Male', PatientDateOfBirth=datetime.datetime(1963, 2, 23, 21, 46, 28, 840000), PatientRace='Asian', PatientMaritalStatus='Single', PatientLanguage='Spanish', PatientPopulationPercentageBelowPoverty=7.590000152587891),\n",
       " Row(PatientID='0BC491C5-5A45-4067-BD11-A78BEA00D3BE', PatientGender='Female', PatientDateOfBirth=datetime.datetime(1921, 4, 18, 1, 56, 1, 807000), PatientRace='Unknown', PatientMaritalStatus='Married', PatientLanguage='English', PatientPopulationPercentageBelowPoverty=18.049999237060547),\n",
       " Row(PatientID='79A7BA2A-D35A-4CB8-A835-6BAA13B0058C', PatientGender='Female', PatientDateOfBirth=datetime.datetime(1952, 5, 3, 2, 30, 21, 563000), PatientRace='White', PatientMaritalStatus='Single', PatientLanguage='Spanish', PatientPopulationPercentageBelowPoverty=16.239999771118164),\n",
       " Row(PatientID='FFCDECD6-4048-4DCB-B910-1218160005B3', PatientGender='Male', PatientDateOfBirth=datetime.datetime(1941, 5, 6, 14, 56, 42, 687000), PatientRace='White', PatientMaritalStatus='Single', PatientLanguage='English', PatientPopulationPercentageBelowPoverty=14.489999771118164),\n",
       " Row(PatientID='CD2ADB1B-97F7-4EF6-BC5C-3E0EC562A06F', PatientGender='Female', PatientDateOfBirth=datetime.datetime(1963, 4, 16, 8, 54, 8, 647000), PatientRace='White', PatientMaritalStatus='Single', PatientLanguage='Icelandic', PatientPopulationPercentageBelowPoverty=11.15999984741211),\n",
       " Row(PatientID='A50BE9B4-8A0B-4169-B894-F7BD86D7D90B', PatientGender='Female', PatientDateOfBirth=datetime.datetime(1987, 4, 18, 16, 31, 16, 333000), PatientRace='Asian', PatientMaritalStatus='Divorced', PatientLanguage='English', PatientPopulationPercentageBelowPoverty=14.069999694824219),\n",
       " Row(PatientID='69CC25ED-A54A-4BAF-97E3-774BB3C9DED1', PatientGender='Female', PatientDateOfBirth=datetime.datetime(1974, 10, 13, 14, 51, 28, 997000), PatientRace='Unknown', PatientMaritalStatus='Married', PatientLanguage='English', PatientPopulationPercentageBelowPoverty=17.719999313354492),\n",
       " Row(PatientID='69B5D2A0-12FD-46EF-A5FF-B29C4BAFBE49', PatientGender='Male', PatientDateOfBirth=datetime.datetime(1954, 5, 2, 16, 38, 15, 957000), PatientRace='White', PatientMaritalStatus='Married', PatientLanguage='English', PatientPopulationPercentageBelowPoverty=18.649999618530273),\n",
       " Row(PatientID='8D389A8C-A6D8-4447-9DDE-1A28AB4EC667', PatientGender='Female', PatientDateOfBirth=datetime.datetime(1964, 7, 10, 8, 50, 13, 707000), PatientRace='Asian', PatientMaritalStatus='Married', PatientLanguage='English', PatientPopulationPercentageBelowPoverty=4.340000152587891),\n",
       " Row(PatientID='967987B9-FFEF-4776-85CF-AE05CA81F583', PatientGender='Male', PatientDateOfBirth=datetime.datetime(1947, 2, 13, 10, 26, 55, 520000), PatientRace='White', PatientMaritalStatus='Widowed', PatientLanguage='English', PatientPopulationPercentageBelowPoverty=88.66000366210938),\n",
       " Row(PatientID='9BBF3A51-443D-438B-9289-B98B8E0577C0', PatientGender='Male', PatientDateOfBirth=datetime.datetime(1944, 11, 25, 6, 12, 56, 860000), PatientRace='White', PatientMaritalStatus='Married', PatientLanguage='English', PatientPopulationPercentageBelowPoverty=16.760000228881836),\n",
       " Row(PatientID='6D8008ED-D623-4BE4-B93B-335F9797C170', PatientGender='Female', PatientDateOfBirth=datetime.datetime(1978, 3, 14, 13, 41, 28, 337000), PatientRace='White', PatientMaritalStatus='Married', PatientLanguage='Icelandic', PatientPopulationPercentageBelowPoverty=14.8100004196167),\n",
       " Row(PatientID='B3892204-880B-40EF-B3BB-B824B50E99E5', PatientGender='Male', PatientDateOfBirth=datetime.datetime(1978, 8, 6, 8, 38, 27, 330000), PatientRace='White', PatientMaritalStatus='Single', PatientLanguage='Spanish', PatientPopulationPercentageBelowPoverty=16.860000610351562),\n",
       " Row(PatientID='49DADA25-F2C2-42BB-8210-D78E6C7B0D48', PatientGender='Male', PatientDateOfBirth=datetime.datetime(1962, 4, 8, 10, 18, 26, 263000), PatientRace='African American', PatientMaritalStatus='Married', PatientLanguage='English', PatientPopulationPercentageBelowPoverty=19.5),\n",
       " Row(PatientID='7548B6CF-79D9-461D-A0C5-20B861406FAC', PatientGender='Male', PatientDateOfBirth=datetime.datetime(1956, 11, 13, 14, 8, 0, 253000), PatientRace='White', PatientMaritalStatus='Married', PatientLanguage='Icelandic', PatientPopulationPercentageBelowPoverty=14.029999732971191),\n",
       " Row(PatientID='B5D31F01-7273-4901-B56F-8139769A11EF', PatientGender='Female', PatientDateOfBirth=datetime.datetime(1971, 4, 2, 18, 56, 59, 353000), PatientRace='Asian', PatientMaritalStatus='Unknown', PatientLanguage='Unknown', PatientPopulationPercentageBelowPoverty=82.08000183105469),\n",
       " Row(PatientID='80D356B4-F974-441F-A5F2-F95986D119A2', PatientGender='Female', PatientDateOfBirth=datetime.datetime(1938, 3, 6, 18, 24, 18, 297000), PatientRace='White', PatientMaritalStatus='Single', PatientLanguage='English', PatientPopulationPercentageBelowPoverty=18.8799991607666),\n",
       " Row(PatientID='A0A976C8-9B30-4492-B8C4-5B25095B9192', PatientGender='Male', PatientDateOfBirth=datetime.datetime(1931, 5, 26, 14, 54, 15, 847000), PatientRace='Asian', PatientMaritalStatus='Single', PatientLanguage='English', PatientPopulationPercentageBelowPoverty=19.520000457763672),\n",
       " Row(PatientID='016A590E-D093-4667-A5DA-D68EA6987D93', PatientGender='Male', PatientDateOfBirth=datetime.datetime(1960, 12, 6, 6, 37, 5, 640000), PatientRace='White', PatientMaritalStatus='Unknown', PatientLanguage='English', PatientPopulationPercentageBelowPoverty=15.020000457763672),\n",
       " Row(PatientID='3B11D6B3-A36A-4B69-A437-C29BF425A941', PatientGender='Female', PatientDateOfBirth=datetime.datetime(1954, 5, 18, 10, 19, 19, 110000), PatientRace='Asian', PatientMaritalStatus='Separated', PatientLanguage='English', PatientPopulationPercentageBelowPoverty=10.800000190734863),\n",
       " Row(PatientID='E483DE6E-D4E6-47FD-905B-22EE86EC7ACE', PatientGender='Male', PatientDateOfBirth=datetime.datetime(1945, 11, 18, 4, 14, 31, 573000), PatientRace='African American', PatientMaritalStatus='Single', PatientLanguage='English', PatientPopulationPercentageBelowPoverty=16.8799991607666),\n",
       " Row(PatientID='B2EB15FA-5431-4804-9309-4215BDC778C0', PatientGender='Male', PatientDateOfBirth=datetime.datetime(1951, 4, 13, 20, 14, 2, 953000), PatientRace='White', PatientMaritalStatus='Divorced', PatientLanguage='English', PatientPopulationPercentageBelowPoverty=19.40999984741211),\n",
       " Row(PatientID='53B9FFDD-F80B-43BE-93CF-C34A023EE7E9', PatientGender='Male', PatientDateOfBirth=datetime.datetime(1921, 8, 22, 19, 17, 9, 227000), PatientRace='White', PatientMaritalStatus='Divorced', PatientLanguage='Icelandic', PatientPopulationPercentageBelowPoverty=18.170000076293945),\n",
       " Row(PatientID='C5D09468-574F-4802-B56F-DB38F4EB1687', PatientGender='Male', PatientDateOfBirth=datetime.datetime(1939, 7, 7, 19, 39, 49, 753000), PatientRace='African American', PatientMaritalStatus='Married', PatientLanguage='Icelandic', PatientPopulationPercentageBelowPoverty=10.869999885559082),\n",
       " Row(PatientID='EA7C2F0F-DA1C-4CE8-9700-4BB1FC7AF3FB', PatientGender='Male', PatientDateOfBirth=datetime.datetime(1969, 1, 5, 0, 15, 9, 627000), PatientRace='Unknown', PatientMaritalStatus='Married', PatientLanguage='English', PatientPopulationPercentageBelowPoverty=3.299999952316284),\n",
       " Row(PatientID='35FE7491-1A1D-48CB-810C-8DC2599AB3DD', PatientGender='Male', PatientDateOfBirth=datetime.datetime(1969, 11, 2, 6, 34, 34, 527000), PatientRace='White', PatientMaritalStatus='Married', PatientLanguage='English', PatientPopulationPercentageBelowPoverty=4.510000228881836),\n",
       " Row(PatientID='868E700E-3C56-458F-A477-078D671DCB20', PatientGender='Female', PatientDateOfBirth=datetime.datetime(1978, 9, 21, 15, 29, 44, 770000), PatientRace='African American', PatientMaritalStatus='Married', PatientLanguage='Icelandic', PatientPopulationPercentageBelowPoverty=5.940000057220459),\n",
       " Row(PatientID='56A35E74-90BE-44A0-B7BA-7743BB152133', PatientGender='Female', PatientDateOfBirth=datetime.datetime(1968, 11, 9, 15, 29, 19, 557000), PatientRace='White', PatientMaritalStatus='Married', PatientLanguage='English', PatientPopulationPercentageBelowPoverty=8.8100004196167),\n",
       " Row(PatientID='CC12B481-B516-455B-884F-4CA900B29F2E', PatientGender='Female', PatientDateOfBirth=datetime.datetime(1985, 10, 21, 7, 59, 4, 777000), PatientRace='Unknown', PatientMaritalStatus='Divorced', PatientLanguage='English', PatientPopulationPercentageBelowPoverty=14.579999923706055),\n",
       " Row(PatientID='714823AF-C52C-414C-B53B-C43EACD194C3', PatientGender='Male', PatientDateOfBirth=datetime.datetime(1952, 5, 8, 23, 51, 50, 127000), PatientRace='White', PatientMaritalStatus='Married', PatientLanguage='English', PatientPopulationPercentageBelowPoverty=13.229999542236328),\n",
       " Row(PatientID='3231F930-2978-4F50-8234-755449851E7B', PatientGender='Male', PatientDateOfBirth=datetime.datetime(1979, 5, 26, 4, 58, 10, 627000), PatientRace='White', PatientMaritalStatus='Single', PatientLanguage='English', PatientPopulationPercentageBelowPoverty=18.360000610351562),\n",
       " Row(PatientID='C2CCB1AB-6633-4CB3-B4E8-157E6FB02376', PatientGender='Female', PatientDateOfBirth=datetime.datetime(1964, 5, 7, 10, 20, 37, 740000), PatientRace='White', PatientMaritalStatus='Single', PatientLanguage='Spanish', PatientPopulationPercentageBelowPoverty=15.979999542236328),\n",
       " Row(PatientID='1311FEE4-2FDC-46E4-83D3-1550A3E51D2C', PatientGender='Female', PatientDateOfBirth=datetime.datetime(1988, 3, 28, 3, 9, 22, 807000), PatientRace='White', PatientMaritalStatus='Single', PatientLanguage='English', PatientPopulationPercentageBelowPoverty=14.989999771118164),\n",
       " Row(PatientID='21792512-2D40-4326-BEA2-A40127EB24FF', PatientGender='Male', PatientDateOfBirth=datetime.datetime(1938, 3, 24, 19, 25, 53, 980000), PatientRace='White', PatientMaritalStatus='Single', PatientLanguage='Unknown', PatientPopulationPercentageBelowPoverty=89.44000244140625),\n",
       " Row(PatientID='EEAFC0B3-B835-4D99-AB33-2F9428E54E5F', PatientGender='Female', PatientDateOfBirth=datetime.datetime(1961, 1, 8, 15, 19, 15, 490000), PatientRace='Asian', PatientMaritalStatus='Unknown', PatientLanguage='English', PatientPopulationPercentageBelowPoverty=18.950000762939453),\n",
       " Row(PatientID='2EE42DEF-37CA-4694-827E-FA4EAF882BFC', PatientGender='Male', PatientDateOfBirth=datetime.datetime(1964, 4, 27, 0, 41, 40, 410000), PatientRace='White', PatientMaritalStatus='Married', PatientLanguage='English', PatientPopulationPercentageBelowPoverty=18.90999984741211),\n",
       " Row(PatientID='36775002-9EC3-4889-AD4F-80DC6855C8D8', PatientGender='Female', PatientDateOfBirth=datetime.datetime(1963, 7, 16, 22, 16, 48, 477000), PatientRace='Asian', PatientMaritalStatus='Single', PatientLanguage='Spanish', PatientPopulationPercentageBelowPoverty=15.5600004196167),\n",
       " Row(PatientID='4C201C71-CCED-40D1-9642-F9C8C485B854', PatientGender='Male', PatientDateOfBirth=datetime.datetime(1926, 9, 22, 9, 17, 14, 713000), PatientRace='African American', PatientMaritalStatus='Married', PatientLanguage='English', PatientPopulationPercentageBelowPoverty=10.300000190734863),\n",
       " Row(PatientID='2A8772FE-61DB-483E-B6BF-6C0A74BA9C2A', PatientGender='Female', PatientDateOfBirth=datetime.datetime(1966, 10, 14, 15, 31, 48, 427000), PatientRace='Asian', PatientMaritalStatus='Single', PatientLanguage='English', PatientPopulationPercentageBelowPoverty=11.149999618530273),\n",
       " Row(PatientID='C65A4ADE-112E-49E4-B72A-0DED22C242ED', PatientGender='Male', PatientDateOfBirth=datetime.datetime(1955, 4, 7, 18, 55, 17, 77000), PatientRace='White', PatientMaritalStatus='Married', PatientLanguage='English', PatientPopulationPercentageBelowPoverty=19.65999984741211),\n",
       " Row(PatientID='80AC01B2-BD55-4BE0-A59A-4024104CF4E9', PatientGender='Female', PatientDateOfBirth=datetime.datetime(1965, 5, 14, 15, 25, 9, 740000), PatientRace='African American', PatientMaritalStatus='Married', PatientLanguage='English', PatientPopulationPercentageBelowPoverty=19.739999771118164),\n",
       " Row(PatientID='6A57AC0C-57F3-4C19-98A1-51135EFBC4FF', PatientGender='Female', PatientDateOfBirth=datetime.datetime(1958, 7, 7, 16, 0, 19, 383000), PatientRace='Unknown', PatientMaritalStatus='Married', PatientLanguage='English', PatientPopulationPercentageBelowPoverty=94.05999755859375),\n",
       " Row(PatientID='7A025E77-7832-4F53-B9A7-09A3F98AC17E', PatientGender='Female', PatientDateOfBirth=datetime.datetime(1951, 7, 12, 8, 23, 45, 520000), PatientRace='Asian', PatientMaritalStatus='Single', PatientLanguage='English', PatientPopulationPercentageBelowPoverty=16.690000534057617),\n",
       " Row(PatientID='DCE5AEB8-6DB9-4106-8AE4-02CCC5C23741', PatientGender='Female', PatientDateOfBirth=datetime.datetime(1967, 11, 9, 8, 14, 51, 143000), PatientRace='White', PatientMaritalStatus='Single', PatientLanguage='Unknown', PatientPopulationPercentageBelowPoverty=16.43000030517578),\n",
       " Row(PatientID='886B5885-1EE2-49F3-98D5-A2F02EB8A9D4', PatientGender='Female', PatientDateOfBirth=datetime.datetime(1970, 4, 27, 9, 15, 11, 80000), PatientRace='Unknown', PatientMaritalStatus='Married', PatientLanguage='English', PatientPopulationPercentageBelowPoverty=10.350000381469727),\n",
       " Row(PatientID='0E0EADE8-5592-4E0B-9F88-D7596E32EE08', PatientGender='Female', PatientDateOfBirth=datetime.datetime(1942, 7, 13, 21, 15, 37, 517000), PatientRace='White', PatientMaritalStatus='Married', PatientLanguage='Spanish', PatientPopulationPercentageBelowPoverty=18.799999237060547),\n",
       " Row(PatientID='0681FA35-A794-4684-97BD-00B88370DB41', PatientGender='Female', PatientDateOfBirth=datetime.datetime(1978, 10, 2, 21, 46, 5, 300000), PatientRace='Asian', PatientMaritalStatus='Unknown', PatientLanguage='Spanish', PatientPopulationPercentageBelowPoverty=19.15999984741211),\n",
       " Row(PatientID='2E26695A-EFB0-4C7F-9318-E3030B154E39', PatientGender='Female', PatientDateOfBirth=datetime.datetime(1963, 6, 28, 5, 37, 36, 843000), PatientRace='Asian', PatientMaritalStatus='Married', PatientLanguage='English', PatientPopulationPercentageBelowPoverty=14.199999809265137),\n",
       " Row(PatientID='DDC0BC57-7A4E-4E02-9282-177750B74FBC', PatientGender='Male', PatientDateOfBirth=datetime.datetime(1921, 3, 26, 14, 38, 51, 803000), PatientRace='White', PatientMaritalStatus='Single', PatientLanguage='English', PatientPopulationPercentageBelowPoverty=18.40999984741211),\n",
       " Row(PatientID='E250799D-F6DE-4914-ADB4-B08A6E5029B9', PatientGender='Female', PatientDateOfBirth=datetime.datetime(1945, 8, 4, 19, 3, 0, 757000), PatientRace='White', PatientMaritalStatus='Single', PatientLanguage='Unknown', PatientPopulationPercentageBelowPoverty=12.859999656677246),\n",
       " Row(PatientID='9C75DF1F-9DA6-4C98-8F5B-E10BDC805ED0', PatientGender='Female', PatientDateOfBirth=datetime.datetime(1952, 7, 19, 13, 35, 56, 833000), PatientRace='White', PatientMaritalStatus='Divorced', PatientLanguage='English', PatientPopulationPercentageBelowPoverty=88.6500015258789),\n",
       " Row(PatientID='A19A0B00-4C9A-4206-B1FE-17E6DA3CEB0B', PatientGender='Female', PatientDateOfBirth=datetime.datetime(1967, 7, 1, 1, 44, 24, 907000), PatientRace='Unknown', PatientMaritalStatus='Married', PatientLanguage='English', PatientPopulationPercentageBelowPoverty=17.84000015258789),\n",
       " Row(PatientID='E5478913-6819-4977-BB11-4C8B61175B56', PatientGender='Female', PatientDateOfBirth=datetime.datetime(1980, 3, 21, 13, 8, 56, 867000), PatientRace='White', PatientMaritalStatus='Single', PatientLanguage='English', PatientPopulationPercentageBelowPoverty=12.920000076293945),\n",
       " Row(PatientID='66154E24-D3EE-4311-89DB-6195278F9B3C', PatientGender='Female', PatientDateOfBirth=datetime.datetime(1944, 8, 26, 13, 3, 24, 297000), PatientRace='White', PatientMaritalStatus='Divorced', PatientLanguage='English', PatientPopulationPercentageBelowPoverty=19.489999771118164),\n",
       " Row(PatientID='BC44CE19-9FC5-4AC9-A296-9EBC5E3D03AE', PatientGender='Female', PatientDateOfBirth=datetime.datetime(1953, 6, 4, 3, 16, 17, 843000), PatientRace='African American', PatientMaritalStatus='Married', PatientLanguage='English', PatientPopulationPercentageBelowPoverty=15.039999961853027),\n",
       " Row(PatientID='CC9CDA72-B37A-4F8F-AFE4-B08F56A183BE', PatientGender='Female', PatientDateOfBirth=datetime.datetime(1942, 4, 14, 14, 1, 1, 130000), PatientRace='Asian', PatientMaritalStatus='Married', PatientLanguage='Spanish', PatientPopulationPercentageBelowPoverty=14.149999618530273),\n",
       " Row(PatientID='EA9B67E2-15F0-450B-A8A6-14F6E4AE3D12', PatientGender='Female', PatientDateOfBirth=datetime.datetime(1930, 4, 8, 20, 59, 31, 57000), PatientRace='Asian', PatientMaritalStatus='Separated', PatientLanguage='Icelandic', PatientPopulationPercentageBelowPoverty=98.4000015258789),\n",
       " Row(PatientID='3E462A8F-7B90-43A1-A8B6-AD82CB5002C9', PatientGender='Female', PatientDateOfBirth=datetime.datetime(1986, 12, 20, 16, 41, 34, 793000), PatientRace='White', PatientMaritalStatus='Married', PatientLanguage='Spanish', PatientPopulationPercentageBelowPoverty=18.329999923706055),\n",
       " Row(PatientID='9E18822E-7D13-45C7-B50E-F95CFF92BC3E', PatientGender='Male', PatientDateOfBirth=datetime.datetime(1954, 10, 16, 6, 45, 56, 257000), PatientRace='Unknown', PatientMaritalStatus='Single', PatientLanguage='English', PatientPopulationPercentageBelowPoverty=15.239999771118164),\n",
       " Row(PatientID='A7142B71-A144-4D56-BD14-3E966B01DB37', PatientGender='Male', PatientDateOfBirth=datetime.datetime(1960, 3, 28, 13, 40, 52, 270000), PatientRace='White', PatientMaritalStatus='Divorced', PatientLanguage='Spanish', PatientPopulationPercentageBelowPoverty=19.520000457763672),\n",
       " Row(PatientID='FE0B9B59-1927-45B7-8556-E079DC1DE30A', PatientGender='Male', PatientDateOfBirth=datetime.datetime(1955, 8, 23, 1, 1, 22, 260000), PatientRace='White', PatientMaritalStatus='Divorced', PatientLanguage='English', PatientPopulationPercentageBelowPoverty=6.480000019073486),\n",
       " Row(PatientID='98F593D2-8894-49BB-93B9-5A0E2CF85E2E', PatientGender='Female', PatientDateOfBirth=datetime.datetime(1944, 7, 15, 19, 4, 11, 487000), PatientRace='African American', PatientMaritalStatus='Married', PatientLanguage='English', PatientPopulationPercentageBelowPoverty=9.100000381469727),\n",
       " Row(PatientID='1A220558-5996-43E1-AE5D-7B96180FED35', PatientGender='Male', PatientDateOfBirth=datetime.datetime(1937, 9, 7, 22, 23, 53, 143000), PatientRace='Asian', PatientMaritalStatus='Married', PatientLanguage='English', PatientPopulationPercentageBelowPoverty=15.109999656677246),\n",
       " Row(PatientID='7A7332AD-88B1-4848-9356-E5260E477C59', PatientGender='Female', PatientDateOfBirth=datetime.datetime(1944, 12, 1, 6, 30, 1, 543000), PatientRace='Unknown', PatientMaritalStatus='Married', PatientLanguage='English', PatientPopulationPercentageBelowPoverty=19.459999084472656),\n",
       " Row(PatientID='6D5DCAC1-17FE-4D7C-923B-806EFBA3E6DF', PatientGender='Male', PatientDateOfBirth=datetime.datetime(1961, 10, 22, 2, 47, 13, 170000), PatientRace='Asian', PatientMaritalStatus='Married', PatientLanguage='English', PatientPopulationPercentageBelowPoverty=13.899999618530273),\n",
       " Row(PatientID='36E2F89E-777A-4D77-9D95-0D70A8AB416F', PatientGender='Male', PatientDateOfBirth=datetime.datetime(1980, 5, 30, 13, 23, 50, 703000), PatientRace='African American', PatientMaritalStatus='Separated', PatientLanguage='English', PatientPopulationPercentageBelowPoverty=19.360000610351562),\n",
       " Row(PatientID='672D554B-D6D1-40B2-A6A4-21A4CB6B1AA6', PatientGender='Male', PatientDateOfBirth=datetime.datetime(1983, 6, 17, 4, 46, 13, 753000), PatientRace='African American', PatientMaritalStatus='Single', PatientLanguage='Icelandic', PatientPopulationPercentageBelowPoverty=11.039999961853027),\n",
       " Row(PatientID='03A481F5-B32A-4A91-BD42-43EB78FEBA77', PatientGender='Female', PatientDateOfBirth=datetime.datetime(1968, 2, 7, 23, 2, 38, 17000), PatientRace='Asian', PatientMaritalStatus='Single', PatientLanguage='Unknown', PatientPopulationPercentageBelowPoverty=93.2300033569336),\n",
       " Row(PatientID='2A5251B1-0945-47FA-A65C-7A6381562591', PatientGender='Female', PatientDateOfBirth=datetime.datetime(1942, 1, 7, 16, 45, 33, 60000), PatientRace='Unknown', PatientMaritalStatus='Married', PatientLanguage='Spanish', PatientPopulationPercentageBelowPoverty=18.049999237060547),\n",
       " Row(PatientID='8AF47463-8534-4203-B210-C2290F6CE689', PatientGender='Female', PatientDateOfBirth=datetime.datetime(1952, 6, 27, 17, 29, 4, 187000), PatientRace='White', PatientMaritalStatus='Divorced', PatientLanguage='English', PatientPopulationPercentageBelowPoverty=11.880000114440918),\n",
       " Row(PatientID='135C831F-7DA5-46C0-959C-EBCBD8810B43', PatientGender='Male', PatientDateOfBirth=datetime.datetime(1971, 5, 13, 4, 40, 5, 623000), PatientRace='White', PatientMaritalStatus='Unknown', PatientLanguage='Spanish', PatientPopulationPercentageBelowPoverty=12.380000114440918),\n",
       " Row(PatientID='8856096E-E59C-4156-A767-C091AF799C80', PatientGender='Female', PatientDateOfBirth=datetime.datetime(1988, 11, 25, 2, 59, 36, 373000), PatientRace='White', PatientMaritalStatus='Divorced', PatientLanguage='English', PatientPopulationPercentageBelowPoverty=11.079999923706055),\n",
       " Row(PatientID='6623F5D6-D581-4268-9F9B-21612FBBF7B5', PatientGender='Female', PatientDateOfBirth=datetime.datetime(1943, 2, 17, 15, 36, 13, 787000), PatientRace='Asian', PatientMaritalStatus='Single', PatientLanguage='Spanish', PatientPopulationPercentageBelowPoverty=14.489999771118164),\n",
       " Row(PatientID='65A7FBE0-EA9F-49E9-9824-D8F3AD98DAC0', PatientGender='Female', PatientDateOfBirth=datetime.datetime(1962, 11, 30, 6, 28, 33, 110000), PatientRace='White', PatientMaritalStatus='Separated', PatientLanguage='Spanish', PatientPopulationPercentageBelowPoverty=17.979999542236328),\n",
       " Row(PatientID='FB909FAE-72DD-4F6F-9828-D92183DF185F', PatientGender='Male', PatientDateOfBirth=datetime.datetime(1940, 7, 15, 12, 18, 41, 80000), PatientRace='White', PatientMaritalStatus='Single', PatientLanguage='Spanish', PatientPopulationPercentageBelowPoverty=14.899999618530273)]"
      ]
     },
     "execution_count": 64,
     "metadata": {},
     "output_type": "execute_result"
    }
   ],
   "source": [
    "# Get results (WARNING: in-memory) as list of PySpark Rows\n",
    "\n",
    "df_patients.collect()"
   ]
  },
  {
   "cell_type": "markdown",
   "id": "de3d2da1",
   "metadata": {},
   "source": [
    "In order to avoid throwing an out-of-memory exception, use DataFrame.take() or DataFrame.tail()."
   ]
  },
  {
   "cell_type": "code",
   "execution_count": 71,
   "id": "2d39411f",
   "metadata": {
    "collapsed": true
   },
   "outputs": [
    {
     "data": {
      "text/plain": [
       "[Row(PatientID='FB2ABB23-C9D0-4D09-8464-49BF0B982F0F', PatientGender='Male', PatientDateOfBirth=datetime.datetime(1947, 12, 28, 2, 45, 40, 547000), PatientRace='Unknown', PatientMaritalStatus='Married', PatientLanguage='Icelandic', PatientPopulationPercentageBelowPoverty=18.079999923706055),\n",
       " Row(PatientID='64182B95-EB72-4E2B-BE77-8050B71498CE', PatientGender='Male', PatientDateOfBirth=datetime.datetime(1952, 1, 18, 19, 51, 12, 917000), PatientRace='African American', PatientMaritalStatus='Separated', PatientLanguage='English', PatientPopulationPercentageBelowPoverty=13.029999732971191),\n",
       " Row(PatientID='DB22A4D9-7E4D-485C-916A-9CD1386507FB', PatientGender='Female', PatientDateOfBirth=datetime.datetime(1970, 7, 25, 13, 4, 20, 717000), PatientRace='Asian', PatientMaritalStatus='Married', PatientLanguage='English', PatientPopulationPercentageBelowPoverty=6.670000076293945),\n",
       " Row(PatientID='6E70D84D-C75F-477C-BC37-9177C3698C66', PatientGender='Male', PatientDateOfBirth=datetime.datetime(1979, 1, 4, 5, 45, 29, 580000), PatientRace='White', PatientMaritalStatus='Married', PatientLanguage='English', PatientPopulationPercentageBelowPoverty=16.09000015258789),\n",
       " Row(PatientID='C8556CC0-32FC-4CA5-A8CD-9CCF38816167', PatientGender='Female', PatientDateOfBirth=datetime.datetime(1921, 4, 11, 11, 39, 49, 197000), PatientRace='White', PatientMaritalStatus='Married', PatientLanguage='English', PatientPopulationPercentageBelowPoverty=18.200000762939453),\n",
       " Row(PatientID='7FD13988-E58A-4A5C-8680-89AC200950FA', PatientGender='Male', PatientDateOfBirth=datetime.datetime(1965, 7, 12, 15, 41, 20, 523000), PatientRace='White', PatientMaritalStatus='Married', PatientLanguage='Spanish', PatientPopulationPercentageBelowPoverty=12.40999984741211),\n",
       " Row(PatientID='C60FE675-CA52-4C55-A233-F4B27E94987F', PatientGender='Male', PatientDateOfBirth=datetime.datetime(1957, 10, 30, 23, 26, 15, 303000), PatientRace='Asian', PatientMaritalStatus='Married', PatientLanguage='Spanish', PatientPopulationPercentageBelowPoverty=12.800000190734863),\n",
       " Row(PatientID='B39DC5AC-E003-4E6A-91B6-FC07625A1285', PatientGender='Female', PatientDateOfBirth=datetime.datetime(1935, 11, 3, 21, 7, 9, 40000), PatientRace='White', PatientMaritalStatus='Married', PatientLanguage='English', PatientPopulationPercentageBelowPoverty=15.3100004196167),\n",
       " Row(PatientID='FA157FA5-F488-4884-BF87-E144630D595C', PatientGender='Female', PatientDateOfBirth=datetime.datetime(1932, 11, 1, 6, 19, 56, 577000), PatientRace='White', PatientMaritalStatus='Single', PatientLanguage='English', PatientPopulationPercentageBelowPoverty=16.31999969482422),\n",
       " Row(PatientID='B7E9FC4C-5182-4A34-954E-CEF5FC07E96D', PatientGender='Female', PatientDateOfBirth=datetime.datetime(1985, 12, 11, 2, 48, 16, 907000), PatientRace='Unknown', PatientMaritalStatus='Single', PatientLanguage='English', PatientPopulationPercentageBelowPoverty=11.430000305175781)]"
      ]
     },
     "execution_count": 71,
     "metadata": {},
     "output_type": "execute_result"
    }
   ],
   "source": [
    "df_patients.take(10)"
   ]
  },
  {
   "cell_type": "code",
   "execution_count": 73,
   "id": "374b8028",
   "metadata": {
    "scrolled": true
   },
   "outputs": [
    {
     "name": "stdout",
     "output_type": "stream",
     "text": [
      "[{'PatientID': 'FB2ABB23-C9D0-4D09-8464-49BF0B982F0F', 'PatientGender': 'Male', 'PatientDateOfBirth': datetime.datetime(1947, 12, 28, 2, 45, 40, 547000), 'PatientRace': 'Unknown', 'PatientMaritalStatus': 'Married', 'PatientLanguage': 'Icelandic', 'PatientPopulationPercentageBelowPoverty': 18.079999923706055}, {'PatientID': '64182B95-EB72-4E2B-BE77-8050B71498CE', 'PatientGender': 'Male', 'PatientDateOfBirth': datetime.datetime(1952, 1, 18, 19, 51, 12, 917000), 'PatientRace': 'African American', 'PatientMaritalStatus': 'Separated', 'PatientLanguage': 'English', 'PatientPopulationPercentageBelowPoverty': 13.029999732971191}, {'PatientID': 'DB22A4D9-7E4D-485C-916A-9CD1386507FB', 'PatientGender': 'Female', 'PatientDateOfBirth': datetime.datetime(1970, 7, 25, 13, 4, 20, 717000), 'PatientRace': 'Asian', 'PatientMaritalStatus': 'Married', 'PatientLanguage': 'English', 'PatientPopulationPercentageBelowPoverty': 6.670000076293945}, {'PatientID': '6E70D84D-C75F-477C-BC37-9177C3698C66', 'PatientGender': 'Male', 'PatientDateOfBirth': datetime.datetime(1979, 1, 4, 5, 45, 29, 580000), 'PatientRace': 'White', 'PatientMaritalStatus': 'Married', 'PatientLanguage': 'English', 'PatientPopulationPercentageBelowPoverty': 16.09000015258789}, {'PatientID': 'C8556CC0-32FC-4CA5-A8CD-9CCF38816167', 'PatientGender': 'Female', 'PatientDateOfBirth': datetime.datetime(1921, 4, 11, 11, 39, 49, 197000), 'PatientRace': 'White', 'PatientMaritalStatus': 'Married', 'PatientLanguage': 'English', 'PatientPopulationPercentageBelowPoverty': 18.200000762939453}, {'PatientID': '7FD13988-E58A-4A5C-8680-89AC200950FA', 'PatientGender': 'Male', 'PatientDateOfBirth': datetime.datetime(1965, 7, 12, 15, 41, 20, 523000), 'PatientRace': 'White', 'PatientMaritalStatus': 'Married', 'PatientLanguage': 'Spanish', 'PatientPopulationPercentageBelowPoverty': 12.40999984741211}, {'PatientID': 'C60FE675-CA52-4C55-A233-F4B27E94987F', 'PatientGender': 'Male', 'PatientDateOfBirth': datetime.datetime(1957, 10, 30, 23, 26, 15, 303000), 'PatientRace': 'Asian', 'PatientMaritalStatus': 'Married', 'PatientLanguage': 'Spanish', 'PatientPopulationPercentageBelowPoverty': 12.800000190734863}, {'PatientID': 'B39DC5AC-E003-4E6A-91B6-FC07625A1285', 'PatientGender': 'Female', 'PatientDateOfBirth': datetime.datetime(1935, 11, 3, 21, 7, 9, 40000), 'PatientRace': 'White', 'PatientMaritalStatus': 'Married', 'PatientLanguage': 'English', 'PatientPopulationPercentageBelowPoverty': 15.3100004196167}, {'PatientID': 'FA157FA5-F488-4884-BF87-E144630D595C', 'PatientGender': 'Female', 'PatientDateOfBirth': datetime.datetime(1932, 11, 1, 6, 19, 56, 577000), 'PatientRace': 'White', 'PatientMaritalStatus': 'Single', 'PatientLanguage': 'English', 'PatientPopulationPercentageBelowPoverty': 16.31999969482422}, {'PatientID': 'B7E9FC4C-5182-4A34-954E-CEF5FC07E96D', 'PatientGender': 'Female', 'PatientDateOfBirth': datetime.datetime(1985, 12, 11, 2, 48, 16, 907000), 'PatientRace': 'Unknown', 'PatientMaritalStatus': 'Single', 'PatientLanguage': 'English', 'PatientPopulationPercentageBelowPoverty': 11.430000305175781}, {'PatientID': '1A40AF35-C6D4-4D46-B475-A15D84E8A9D5', 'PatientGender': 'Male', 'PatientDateOfBirth': datetime.datetime(1949, 1, 10, 15, 37, 35, 543000), 'PatientRace': 'White', 'PatientMaritalStatus': 'Married', 'PatientLanguage': 'English', 'PatientPopulationPercentageBelowPoverty': 11.25}, {'PatientID': 'DA6CECFF-DE13-4C4C-919F-64E1A2B76C9D', 'PatientGender': 'Male', 'PatientDateOfBirth': datetime.datetime(1924, 6, 27, 19, 37, 58, 823000), 'PatientRace': 'Asian', 'PatientMaritalStatus': 'Divorced', 'PatientLanguage': 'English', 'PatientPopulationPercentageBelowPoverty': 83.75}, {'PatientID': '0A9BA3E4-CF3C-49C4-9774-5EEA2EE7D123', 'PatientGender': 'Male', 'PatientDateOfBirth': datetime.datetime(1980, 4, 4, 7, 59, 15, 820000), 'PatientRace': 'White', 'PatientMaritalStatus': 'Single', 'PatientLanguage': 'Spanish', 'PatientPopulationPercentageBelowPoverty': 14.279999732971191}, {'PatientID': '7C788499-7798-484B-A027-9FCDC4C0DADB', 'PatientGender': 'Male', 'PatientDateOfBirth': datetime.datetime(1926, 8, 13, 10, 22, 16, 247000), 'PatientRace': 'White', 'PatientMaritalStatus': 'Married', 'PatientLanguage': 'English', 'PatientPopulationPercentageBelowPoverty': 11.890000343322754}, {'PatientID': 'C54B5AAD-98E8-472D-BAA0-638D9F3BD024', 'PatientGender': 'Female', 'PatientDateOfBirth': datetime.datetime(1972, 11, 13, 22, 50, 43, 600000), 'PatientRace': 'African American', 'PatientMaritalStatus': 'Single', 'PatientLanguage': 'Unknown', 'PatientPopulationPercentageBelowPoverty': 94.0}, {'PatientID': '6985D824-3269-4D12-A9DD-B932D640E26E', 'PatientGender': 'Female', 'PatientDateOfBirth': datetime.datetime(1967, 10, 27, 3, 58, 29, 27000), 'PatientRace': 'White', 'PatientMaritalStatus': 'Married', 'PatientLanguage': 'English', 'PatientPopulationPercentageBelowPoverty': 12.010000228881836}, {'PatientID': 'D8B53AA2-7953-4477-9EA4-68400EBAAC5C', 'PatientGender': 'Male', 'PatientDateOfBirth': datetime.datetime(1951, 6, 11, 20, 11, 10, 3000), 'PatientRace': 'African American', 'PatientMaritalStatus': 'Unknown', 'PatientLanguage': 'English', 'PatientPopulationPercentageBelowPoverty': 16.889999389648438}, {'PatientID': 'DB92CDC6-FA9B-4492-BC2C-0C588AD78956', 'PatientGender': 'Male', 'PatientDateOfBirth': datetime.datetime(1977, 6, 30, 1, 46, 5, 467000), 'PatientRace': 'Unknown', 'PatientMaritalStatus': 'Single', 'PatientLanguage': 'Icelandic', 'PatientPopulationPercentageBelowPoverty': 1.7000000476837158}, {'PatientID': '25B786AF-0F99-478C-9CFA-0EA607E45834', 'PatientGender': 'Male', 'PatientDateOfBirth': datetime.datetime(1926, 8, 20, 0, 21, 38, 870000), 'PatientRace': 'White', 'PatientMaritalStatus': 'Married', 'PatientLanguage': 'English', 'PatientPopulationPercentageBelowPoverty': 93.5999984741211}, {'PatientID': 'F00C64F8-2033-4640-80FE-F1F62CBE26A5', 'PatientGender': 'Female', 'PatientDateOfBirth': datetime.datetime(1957, 6, 4, 18, 31, 1, 177000), 'PatientRace': 'African American', 'PatientMaritalStatus': 'Single', 'PatientLanguage': 'English', 'PatientPopulationPercentageBelowPoverty': 15.720000267028809}, {'PatientID': 'B70E5A76-F2BC-41E4-B037-CD4D9ABA0967', 'PatientGender': 'Male', 'PatientDateOfBirth': datetime.datetime(1962, 12, 15, 1, 59, 1, 737000), 'PatientRace': 'White', 'PatientMaritalStatus': 'Single', 'PatientLanguage': 'Icelandic', 'PatientPopulationPercentageBelowPoverty': 13.100000381469727}, {'PatientID': 'F0B53A2C-98CA-415D-B928-E3FD0E52B22A', 'PatientGender': 'Male', 'PatientDateOfBirth': datetime.datetime(1950, 6, 20, 10, 31, 18, 337000), 'PatientRace': 'African American', 'PatientMaritalStatus': 'Married', 'PatientLanguage': 'English', 'PatientPopulationPercentageBelowPoverty': 14.869999885559082}, {'PatientID': '1A8791E3-A61C-455A-8DEE-763EB90C9B2C', 'PatientGender': 'Male', 'PatientDateOfBirth': datetime.datetime(1973, 8, 16, 10, 58, 34, 413000), 'PatientRace': 'Asian', 'PatientMaritalStatus': 'Single', 'PatientLanguage': 'English', 'PatientPopulationPercentageBelowPoverty': 13.970000267028809}, {'PatientID': '81C5B13B-F6B2-4E57-9593-6E7E4C13B2CE', 'PatientGender': 'Female', 'PatientDateOfBirth': datetime.datetime(1930, 5, 28, 2, 59, 42, 857000), 'PatientRace': 'White', 'PatientMaritalStatus': 'Married', 'PatientLanguage': 'Icelandic', 'PatientPopulationPercentageBelowPoverty': 19.219999313354492}, {'PatientID': '220C8D43-1322-4A9D-B890-D426942A3649', 'PatientGender': 'Male', 'PatientDateOfBirth': datetime.datetime(1971, 3, 13, 18, 31, 24, 877000), 'PatientRace': 'Asian', 'PatientMaritalStatus': 'Married', 'PatientLanguage': 'English', 'PatientPopulationPercentageBelowPoverty': 16.709999084472656}, {'PatientID': 'C242E3A4-E785-4DF1-A0E4-3B568DC88F2E', 'PatientGender': 'Male', 'PatientDateOfBirth': datetime.datetime(1963, 2, 23, 21, 46, 28, 840000), 'PatientRace': 'Asian', 'PatientMaritalStatus': 'Single', 'PatientLanguage': 'Spanish', 'PatientPopulationPercentageBelowPoverty': 7.590000152587891}, {'PatientID': '0BC491C5-5A45-4067-BD11-A78BEA00D3BE', 'PatientGender': 'Female', 'PatientDateOfBirth': datetime.datetime(1921, 4, 18, 1, 56, 1, 807000), 'PatientRace': 'Unknown', 'PatientMaritalStatus': 'Married', 'PatientLanguage': 'English', 'PatientPopulationPercentageBelowPoverty': 18.049999237060547}, {'PatientID': '79A7BA2A-D35A-4CB8-A835-6BAA13B0058C', 'PatientGender': 'Female', 'PatientDateOfBirth': datetime.datetime(1952, 5, 3, 2, 30, 21, 563000), 'PatientRace': 'White', 'PatientMaritalStatus': 'Single', 'PatientLanguage': 'Spanish', 'PatientPopulationPercentageBelowPoverty': 16.239999771118164}, {'PatientID': 'FFCDECD6-4048-4DCB-B910-1218160005B3', 'PatientGender': 'Male', 'PatientDateOfBirth': datetime.datetime(1941, 5, 6, 14, 56, 42, 687000), 'PatientRace': 'White', 'PatientMaritalStatus': 'Single', 'PatientLanguage': 'English', 'PatientPopulationPercentageBelowPoverty': 14.489999771118164}, {'PatientID': 'CD2ADB1B-97F7-4EF6-BC5C-3E0EC562A06F', 'PatientGender': 'Female', 'PatientDateOfBirth': datetime.datetime(1963, 4, 16, 8, 54, 8, 647000), 'PatientRace': 'White', 'PatientMaritalStatus': 'Single', 'PatientLanguage': 'Icelandic', 'PatientPopulationPercentageBelowPoverty': 11.15999984741211}, {'PatientID': 'A50BE9B4-8A0B-4169-B894-F7BD86D7D90B', 'PatientGender': 'Female', 'PatientDateOfBirth': datetime.datetime(1987, 4, 18, 16, 31, 16, 333000), 'PatientRace': 'Asian', 'PatientMaritalStatus': 'Divorced', 'PatientLanguage': 'English', 'PatientPopulationPercentageBelowPoverty': 14.069999694824219}, {'PatientID': '69CC25ED-A54A-4BAF-97E3-774BB3C9DED1', 'PatientGender': 'Female', 'PatientDateOfBirth': datetime.datetime(1974, 10, 13, 14, 51, 28, 997000), 'PatientRace': 'Unknown', 'PatientMaritalStatus': 'Married', 'PatientLanguage': 'English', 'PatientPopulationPercentageBelowPoverty': 17.719999313354492}, {'PatientID': '69B5D2A0-12FD-46EF-A5FF-B29C4BAFBE49', 'PatientGender': 'Male', 'PatientDateOfBirth': datetime.datetime(1954, 5, 2, 16, 38, 15, 957000), 'PatientRace': 'White', 'PatientMaritalStatus': 'Married', 'PatientLanguage': 'English', 'PatientPopulationPercentageBelowPoverty': 18.649999618530273}, {'PatientID': '8D389A8C-A6D8-4447-9DDE-1A28AB4EC667', 'PatientGender': 'Female', 'PatientDateOfBirth': datetime.datetime(1964, 7, 10, 8, 50, 13, 707000), 'PatientRace': 'Asian', 'PatientMaritalStatus': 'Married', 'PatientLanguage': 'English', 'PatientPopulationPercentageBelowPoverty': 4.340000152587891}, {'PatientID': '967987B9-FFEF-4776-85CF-AE05CA81F583', 'PatientGender': 'Male', 'PatientDateOfBirth': datetime.datetime(1947, 2, 13, 10, 26, 55, 520000), 'PatientRace': 'White', 'PatientMaritalStatus': 'Widowed', 'PatientLanguage': 'English', 'PatientPopulationPercentageBelowPoverty': 88.66000366210938}, {'PatientID': '9BBF3A51-443D-438B-9289-B98B8E0577C0', 'PatientGender': 'Male', 'PatientDateOfBirth': datetime.datetime(1944, 11, 25, 6, 12, 56, 860000), 'PatientRace': 'White', 'PatientMaritalStatus': 'Married', 'PatientLanguage': 'English', 'PatientPopulationPercentageBelowPoverty': 16.760000228881836}, {'PatientID': '6D8008ED-D623-4BE4-B93B-335F9797C170', 'PatientGender': 'Female', 'PatientDateOfBirth': datetime.datetime(1978, 3, 14, 13, 41, 28, 337000), 'PatientRace': 'White', 'PatientMaritalStatus': 'Married', 'PatientLanguage': 'Icelandic', 'PatientPopulationPercentageBelowPoverty': 14.8100004196167}, {'PatientID': 'B3892204-880B-40EF-B3BB-B824B50E99E5', 'PatientGender': 'Male', 'PatientDateOfBirth': datetime.datetime(1978, 8, 6, 8, 38, 27, 330000), 'PatientRace': 'White', 'PatientMaritalStatus': 'Single', 'PatientLanguage': 'Spanish', 'PatientPopulationPercentageBelowPoverty': 16.860000610351562}, {'PatientID': '49DADA25-F2C2-42BB-8210-D78E6C7B0D48', 'PatientGender': 'Male', 'PatientDateOfBirth': datetime.datetime(1962, 4, 8, 10, 18, 26, 263000), 'PatientRace': 'African American', 'PatientMaritalStatus': 'Married', 'PatientLanguage': 'English', 'PatientPopulationPercentageBelowPoverty': 19.5}, {'PatientID': '7548B6CF-79D9-461D-A0C5-20B861406FAC', 'PatientGender': 'Male', 'PatientDateOfBirth': datetime.datetime(1956, 11, 13, 14, 8, 0, 253000), 'PatientRace': 'White', 'PatientMaritalStatus': 'Married', 'PatientLanguage': 'Icelandic', 'PatientPopulationPercentageBelowPoverty': 14.029999732971191}, {'PatientID': 'B5D31F01-7273-4901-B56F-8139769A11EF', 'PatientGender': 'Female', 'PatientDateOfBirth': datetime.datetime(1971, 4, 2, 18, 56, 59, 353000), 'PatientRace': 'Asian', 'PatientMaritalStatus': 'Unknown', 'PatientLanguage': 'Unknown', 'PatientPopulationPercentageBelowPoverty': 82.08000183105469}, {'PatientID': '80D356B4-F974-441F-A5F2-F95986D119A2', 'PatientGender': 'Female', 'PatientDateOfBirth': datetime.datetime(1938, 3, 6, 18, 24, 18, 297000), 'PatientRace': 'White', 'PatientMaritalStatus': 'Single', 'PatientLanguage': 'English', 'PatientPopulationPercentageBelowPoverty': 18.8799991607666}, {'PatientID': 'A0A976C8-9B30-4492-B8C4-5B25095B9192', 'PatientGender': 'Male', 'PatientDateOfBirth': datetime.datetime(1931, 5, 26, 14, 54, 15, 847000), 'PatientRace': 'Asian', 'PatientMaritalStatus': 'Single', 'PatientLanguage': 'English', 'PatientPopulationPercentageBelowPoverty': 19.520000457763672}, {'PatientID': '016A590E-D093-4667-A5DA-D68EA6987D93', 'PatientGender': 'Male', 'PatientDateOfBirth': datetime.datetime(1960, 12, 6, 6, 37, 5, 640000), 'PatientRace': 'White', 'PatientMaritalStatus': 'Unknown', 'PatientLanguage': 'English', 'PatientPopulationPercentageBelowPoverty': 15.020000457763672}, {'PatientID': '3B11D6B3-A36A-4B69-A437-C29BF425A941', 'PatientGender': 'Female', 'PatientDateOfBirth': datetime.datetime(1954, 5, 18, 10, 19, 19, 110000), 'PatientRace': 'Asian', 'PatientMaritalStatus': 'Separated', 'PatientLanguage': 'English', 'PatientPopulationPercentageBelowPoverty': 10.800000190734863}, {'PatientID': 'E483DE6E-D4E6-47FD-905B-22EE86EC7ACE', 'PatientGender': 'Male', 'PatientDateOfBirth': datetime.datetime(1945, 11, 18, 4, 14, 31, 573000), 'PatientRace': 'African American', 'PatientMaritalStatus': 'Single', 'PatientLanguage': 'English', 'PatientPopulationPercentageBelowPoverty': 16.8799991607666}, {'PatientID': 'B2EB15FA-5431-4804-9309-4215BDC778C0', 'PatientGender': 'Male', 'PatientDateOfBirth': datetime.datetime(1951, 4, 13, 20, 14, 2, 953000), 'PatientRace': 'White', 'PatientMaritalStatus': 'Divorced', 'PatientLanguage': 'English', 'PatientPopulationPercentageBelowPoverty': 19.40999984741211}, {'PatientID': '53B9FFDD-F80B-43BE-93CF-C34A023EE7E9', 'PatientGender': 'Male', 'PatientDateOfBirth': datetime.datetime(1921, 8, 22, 19, 17, 9, 227000), 'PatientRace': 'White', 'PatientMaritalStatus': 'Divorced', 'PatientLanguage': 'Icelandic', 'PatientPopulationPercentageBelowPoverty': 18.170000076293945}, {'PatientID': 'C5D09468-574F-4802-B56F-DB38F4EB1687', 'PatientGender': 'Male', 'PatientDateOfBirth': datetime.datetime(1939, 7, 7, 19, 39, 49, 753000), 'PatientRace': 'African American', 'PatientMaritalStatus': 'Married', 'PatientLanguage': 'Icelandic', 'PatientPopulationPercentageBelowPoverty': 10.869999885559082}, {'PatientID': 'EA7C2F0F-DA1C-4CE8-9700-4BB1FC7AF3FB', 'PatientGender': 'Male', 'PatientDateOfBirth': datetime.datetime(1969, 1, 5, 0, 15, 9, 627000), 'PatientRace': 'Unknown', 'PatientMaritalStatus': 'Married', 'PatientLanguage': 'English', 'PatientPopulationPercentageBelowPoverty': 3.299999952316284}, {'PatientID': '35FE7491-1A1D-48CB-810C-8DC2599AB3DD', 'PatientGender': 'Male', 'PatientDateOfBirth': datetime.datetime(1969, 11, 2, 6, 34, 34, 527000), 'PatientRace': 'White', 'PatientMaritalStatus': 'Married', 'PatientLanguage': 'English', 'PatientPopulationPercentageBelowPoverty': 4.510000228881836}, {'PatientID': '868E700E-3C56-458F-A477-078D671DCB20', 'PatientGender': 'Female', 'PatientDateOfBirth': datetime.datetime(1978, 9, 21, 15, 29, 44, 770000), 'PatientRace': 'African American', 'PatientMaritalStatus': 'Married', 'PatientLanguage': 'Icelandic', 'PatientPopulationPercentageBelowPoverty': 5.940000057220459}, {'PatientID': '56A35E74-90BE-44A0-B7BA-7743BB152133', 'PatientGender': 'Female', 'PatientDateOfBirth': datetime.datetime(1968, 11, 9, 15, 29, 19, 557000), 'PatientRace': 'White', 'PatientMaritalStatus': 'Married', 'PatientLanguage': 'English', 'PatientPopulationPercentageBelowPoverty': 8.8100004196167}, {'PatientID': 'CC12B481-B516-455B-884F-4CA900B29F2E', 'PatientGender': 'Female', 'PatientDateOfBirth': datetime.datetime(1985, 10, 21, 7, 59, 4, 777000), 'PatientRace': 'Unknown', 'PatientMaritalStatus': 'Divorced', 'PatientLanguage': 'English', 'PatientPopulationPercentageBelowPoverty': 14.579999923706055}, {'PatientID': '714823AF-C52C-414C-B53B-C43EACD194C3', 'PatientGender': 'Male', 'PatientDateOfBirth': datetime.datetime(1952, 5, 8, 23, 51, 50, 127000), 'PatientRace': 'White', 'PatientMaritalStatus': 'Married', 'PatientLanguage': 'English', 'PatientPopulationPercentageBelowPoverty': 13.229999542236328}, {'PatientID': '3231F930-2978-4F50-8234-755449851E7B', 'PatientGender': 'Male', 'PatientDateOfBirth': datetime.datetime(1979, 5, 26, 4, 58, 10, 627000), 'PatientRace': 'White', 'PatientMaritalStatus': 'Single', 'PatientLanguage': 'English', 'PatientPopulationPercentageBelowPoverty': 18.360000610351562}, {'PatientID': 'C2CCB1AB-6633-4CB3-B4E8-157E6FB02376', 'PatientGender': 'Female', 'PatientDateOfBirth': datetime.datetime(1964, 5, 7, 10, 20, 37, 740000), 'PatientRace': 'White', 'PatientMaritalStatus': 'Single', 'PatientLanguage': 'Spanish', 'PatientPopulationPercentageBelowPoverty': 15.979999542236328}, {'PatientID': '1311FEE4-2FDC-46E4-83D3-1550A3E51D2C', 'PatientGender': 'Female', 'PatientDateOfBirth': datetime.datetime(1988, 3, 28, 3, 9, 22, 807000), 'PatientRace': 'White', 'PatientMaritalStatus': 'Single', 'PatientLanguage': 'English', 'PatientPopulationPercentageBelowPoverty': 14.989999771118164}, {'PatientID': '21792512-2D40-4326-BEA2-A40127EB24FF', 'PatientGender': 'Male', 'PatientDateOfBirth': datetime.datetime(1938, 3, 24, 19, 25, 53, 980000), 'PatientRace': 'White', 'PatientMaritalStatus': 'Single', 'PatientLanguage': 'Unknown', 'PatientPopulationPercentageBelowPoverty': 89.44000244140625}, {'PatientID': 'EEAFC0B3-B835-4D99-AB33-2F9428E54E5F', 'PatientGender': 'Female', 'PatientDateOfBirth': datetime.datetime(1961, 1, 8, 15, 19, 15, 490000), 'PatientRace': 'Asian', 'PatientMaritalStatus': 'Unknown', 'PatientLanguage': 'English', 'PatientPopulationPercentageBelowPoverty': 18.950000762939453}, {'PatientID': '2EE42DEF-37CA-4694-827E-FA4EAF882BFC', 'PatientGender': 'Male', 'PatientDateOfBirth': datetime.datetime(1964, 4, 27, 0, 41, 40, 410000), 'PatientRace': 'White', 'PatientMaritalStatus': 'Married', 'PatientLanguage': 'English', 'PatientPopulationPercentageBelowPoverty': 18.90999984741211}, {'PatientID': '36775002-9EC3-4889-AD4F-80DC6855C8D8', 'PatientGender': 'Female', 'PatientDateOfBirth': datetime.datetime(1963, 7, 16, 22, 16, 48, 477000), 'PatientRace': 'Asian', 'PatientMaritalStatus': 'Single', 'PatientLanguage': 'Spanish', 'PatientPopulationPercentageBelowPoverty': 15.5600004196167}, {'PatientID': '4C201C71-CCED-40D1-9642-F9C8C485B854', 'PatientGender': 'Male', 'PatientDateOfBirth': datetime.datetime(1926, 9, 22, 9, 17, 14, 713000), 'PatientRace': 'African American', 'PatientMaritalStatus': 'Married', 'PatientLanguage': 'English', 'PatientPopulationPercentageBelowPoverty': 10.300000190734863}, {'PatientID': '2A8772FE-61DB-483E-B6BF-6C0A74BA9C2A', 'PatientGender': 'Female', 'PatientDateOfBirth': datetime.datetime(1966, 10, 14, 15, 31, 48, 427000), 'PatientRace': 'Asian', 'PatientMaritalStatus': 'Single', 'PatientLanguage': 'English', 'PatientPopulationPercentageBelowPoverty': 11.149999618530273}, {'PatientID': 'C65A4ADE-112E-49E4-B72A-0DED22C242ED', 'PatientGender': 'Male', 'PatientDateOfBirth': datetime.datetime(1955, 4, 7, 18, 55, 17, 77000), 'PatientRace': 'White', 'PatientMaritalStatus': 'Married', 'PatientLanguage': 'English', 'PatientPopulationPercentageBelowPoverty': 19.65999984741211}, {'PatientID': '80AC01B2-BD55-4BE0-A59A-4024104CF4E9', 'PatientGender': 'Female', 'PatientDateOfBirth': datetime.datetime(1965, 5, 14, 15, 25, 9, 740000), 'PatientRace': 'African American', 'PatientMaritalStatus': 'Married', 'PatientLanguage': 'English', 'PatientPopulationPercentageBelowPoverty': 19.739999771118164}, {'PatientID': '6A57AC0C-57F3-4C19-98A1-51135EFBC4FF', 'PatientGender': 'Female', 'PatientDateOfBirth': datetime.datetime(1958, 7, 7, 16, 0, 19, 383000), 'PatientRace': 'Unknown', 'PatientMaritalStatus': 'Married', 'PatientLanguage': 'English', 'PatientPopulationPercentageBelowPoverty': 94.05999755859375}, {'PatientID': '7A025E77-7832-4F53-B9A7-09A3F98AC17E', 'PatientGender': 'Female', 'PatientDateOfBirth': datetime.datetime(1951, 7, 12, 8, 23, 45, 520000), 'PatientRace': 'Asian', 'PatientMaritalStatus': 'Single', 'PatientLanguage': 'English', 'PatientPopulationPercentageBelowPoverty': 16.690000534057617}, {'PatientID': 'DCE5AEB8-6DB9-4106-8AE4-02CCC5C23741', 'PatientGender': 'Female', 'PatientDateOfBirth': datetime.datetime(1967, 11, 9, 8, 14, 51, 143000), 'PatientRace': 'White', 'PatientMaritalStatus': 'Single', 'PatientLanguage': 'Unknown', 'PatientPopulationPercentageBelowPoverty': 16.43000030517578}, {'PatientID': '886B5885-1EE2-49F3-98D5-A2F02EB8A9D4', 'PatientGender': 'Female', 'PatientDateOfBirth': datetime.datetime(1970, 4, 27, 9, 15, 11, 80000), 'PatientRace': 'Unknown', 'PatientMaritalStatus': 'Married', 'PatientLanguage': 'English', 'PatientPopulationPercentageBelowPoverty': 10.350000381469727}, {'PatientID': '0E0EADE8-5592-4E0B-9F88-D7596E32EE08', 'PatientGender': 'Female', 'PatientDateOfBirth': datetime.datetime(1942, 7, 13, 21, 15, 37, 517000), 'PatientRace': 'White', 'PatientMaritalStatus': 'Married', 'PatientLanguage': 'Spanish', 'PatientPopulationPercentageBelowPoverty': 18.799999237060547}, {'PatientID': '0681FA35-A794-4684-97BD-00B88370DB41', 'PatientGender': 'Female', 'PatientDateOfBirth': datetime.datetime(1978, 10, 2, 21, 46, 5, 300000), 'PatientRace': 'Asian', 'PatientMaritalStatus': 'Unknown', 'PatientLanguage': 'Spanish', 'PatientPopulationPercentageBelowPoverty': 19.15999984741211}, {'PatientID': '2E26695A-EFB0-4C7F-9318-E3030B154E39', 'PatientGender': 'Female', 'PatientDateOfBirth': datetime.datetime(1963, 6, 28, 5, 37, 36, 843000), 'PatientRace': 'Asian', 'PatientMaritalStatus': 'Married', 'PatientLanguage': 'English', 'PatientPopulationPercentageBelowPoverty': 14.199999809265137}, {'PatientID': 'DDC0BC57-7A4E-4E02-9282-177750B74FBC', 'PatientGender': 'Male', 'PatientDateOfBirth': datetime.datetime(1921, 3, 26, 14, 38, 51, 803000), 'PatientRace': 'White', 'PatientMaritalStatus': 'Single', 'PatientLanguage': 'English', 'PatientPopulationPercentageBelowPoverty': 18.40999984741211}, {'PatientID': 'E250799D-F6DE-4914-ADB4-B08A6E5029B9', 'PatientGender': 'Female', 'PatientDateOfBirth': datetime.datetime(1945, 8, 4, 19, 3, 0, 757000), 'PatientRace': 'White', 'PatientMaritalStatus': 'Single', 'PatientLanguage': 'Unknown', 'PatientPopulationPercentageBelowPoverty': 12.859999656677246}, {'PatientID': '9C75DF1F-9DA6-4C98-8F5B-E10BDC805ED0', 'PatientGender': 'Female', 'PatientDateOfBirth': datetime.datetime(1952, 7, 19, 13, 35, 56, 833000), 'PatientRace': 'White', 'PatientMaritalStatus': 'Divorced', 'PatientLanguage': 'English', 'PatientPopulationPercentageBelowPoverty': 88.6500015258789}, {'PatientID': 'A19A0B00-4C9A-4206-B1FE-17E6DA3CEB0B', 'PatientGender': 'Female', 'PatientDateOfBirth': datetime.datetime(1967, 7, 1, 1, 44, 24, 907000), 'PatientRace': 'Unknown', 'PatientMaritalStatus': 'Married', 'PatientLanguage': 'English', 'PatientPopulationPercentageBelowPoverty': 17.84000015258789}, {'PatientID': 'E5478913-6819-4977-BB11-4C8B61175B56', 'PatientGender': 'Female', 'PatientDateOfBirth': datetime.datetime(1980, 3, 21, 13, 8, 56, 867000), 'PatientRace': 'White', 'PatientMaritalStatus': 'Single', 'PatientLanguage': 'English', 'PatientPopulationPercentageBelowPoverty': 12.920000076293945}, {'PatientID': '66154E24-D3EE-4311-89DB-6195278F9B3C', 'PatientGender': 'Female', 'PatientDateOfBirth': datetime.datetime(1944, 8, 26, 13, 3, 24, 297000), 'PatientRace': 'White', 'PatientMaritalStatus': 'Divorced', 'PatientLanguage': 'English', 'PatientPopulationPercentageBelowPoverty': 19.489999771118164}, {'PatientID': 'BC44CE19-9FC5-4AC9-A296-9EBC5E3D03AE', 'PatientGender': 'Female', 'PatientDateOfBirth': datetime.datetime(1953, 6, 4, 3, 16, 17, 843000), 'PatientRace': 'African American', 'PatientMaritalStatus': 'Married', 'PatientLanguage': 'English', 'PatientPopulationPercentageBelowPoverty': 15.039999961853027}, {'PatientID': 'CC9CDA72-B37A-4F8F-AFE4-B08F56A183BE', 'PatientGender': 'Female', 'PatientDateOfBirth': datetime.datetime(1942, 4, 14, 14, 1, 1, 130000), 'PatientRace': 'Asian', 'PatientMaritalStatus': 'Married', 'PatientLanguage': 'Spanish', 'PatientPopulationPercentageBelowPoverty': 14.149999618530273}, {'PatientID': 'EA9B67E2-15F0-450B-A8A6-14F6E4AE3D12', 'PatientGender': 'Female', 'PatientDateOfBirth': datetime.datetime(1930, 4, 8, 20, 59, 31, 57000), 'PatientRace': 'Asian', 'PatientMaritalStatus': 'Separated', 'PatientLanguage': 'Icelandic', 'PatientPopulationPercentageBelowPoverty': 98.4000015258789}, {'PatientID': '3E462A8F-7B90-43A1-A8B6-AD82CB5002C9', 'PatientGender': 'Female', 'PatientDateOfBirth': datetime.datetime(1986, 12, 20, 16, 41, 34, 793000), 'PatientRace': 'White', 'PatientMaritalStatus': 'Married', 'PatientLanguage': 'Spanish', 'PatientPopulationPercentageBelowPoverty': 18.329999923706055}, {'PatientID': '9E18822E-7D13-45C7-B50E-F95CFF92BC3E', 'PatientGender': 'Male', 'PatientDateOfBirth': datetime.datetime(1954, 10, 16, 6, 45, 56, 257000), 'PatientRace': 'Unknown', 'PatientMaritalStatus': 'Single', 'PatientLanguage': 'English', 'PatientPopulationPercentageBelowPoverty': 15.239999771118164}, {'PatientID': 'A7142B71-A144-4D56-BD14-3E966B01DB37', 'PatientGender': 'Male', 'PatientDateOfBirth': datetime.datetime(1960, 3, 28, 13, 40, 52, 270000), 'PatientRace': 'White', 'PatientMaritalStatus': 'Divorced', 'PatientLanguage': 'Spanish', 'PatientPopulationPercentageBelowPoverty': 19.520000457763672}, {'PatientID': 'FE0B9B59-1927-45B7-8556-E079DC1DE30A', 'PatientGender': 'Male', 'PatientDateOfBirth': datetime.datetime(1955, 8, 23, 1, 1, 22, 260000), 'PatientRace': 'White', 'PatientMaritalStatus': 'Divorced', 'PatientLanguage': 'English', 'PatientPopulationPercentageBelowPoverty': 6.480000019073486}, {'PatientID': '98F593D2-8894-49BB-93B9-5A0E2CF85E2E', 'PatientGender': 'Female', 'PatientDateOfBirth': datetime.datetime(1944, 7, 15, 19, 4, 11, 487000), 'PatientRace': 'African American', 'PatientMaritalStatus': 'Married', 'PatientLanguage': 'English', 'PatientPopulationPercentageBelowPoverty': 9.100000381469727}, {'PatientID': '1A220558-5996-43E1-AE5D-7B96180FED35', 'PatientGender': 'Male', 'PatientDateOfBirth': datetime.datetime(1937, 9, 7, 22, 23, 53, 143000), 'PatientRace': 'Asian', 'PatientMaritalStatus': 'Married', 'PatientLanguage': 'English', 'PatientPopulationPercentageBelowPoverty': 15.109999656677246}, {'PatientID': '7A7332AD-88B1-4848-9356-E5260E477C59', 'PatientGender': 'Female', 'PatientDateOfBirth': datetime.datetime(1944, 12, 1, 6, 30, 1, 543000), 'PatientRace': 'Unknown', 'PatientMaritalStatus': 'Married', 'PatientLanguage': 'English', 'PatientPopulationPercentageBelowPoverty': 19.459999084472656}, {'PatientID': '6D5DCAC1-17FE-4D7C-923B-806EFBA3E6DF', 'PatientGender': 'Male', 'PatientDateOfBirth': datetime.datetime(1961, 10, 22, 2, 47, 13, 170000), 'PatientRace': 'Asian', 'PatientMaritalStatus': 'Married', 'PatientLanguage': 'English', 'PatientPopulationPercentageBelowPoverty': 13.899999618530273}, {'PatientID': '36E2F89E-777A-4D77-9D95-0D70A8AB416F', 'PatientGender': 'Male', 'PatientDateOfBirth': datetime.datetime(1980, 5, 30, 13, 23, 50, 703000), 'PatientRace': 'African American', 'PatientMaritalStatus': 'Separated', 'PatientLanguage': 'English', 'PatientPopulationPercentageBelowPoverty': 19.360000610351562}, {'PatientID': '672D554B-D6D1-40B2-A6A4-21A4CB6B1AA6', 'PatientGender': 'Male', 'PatientDateOfBirth': datetime.datetime(1983, 6, 17, 4, 46, 13, 753000), 'PatientRace': 'African American', 'PatientMaritalStatus': 'Single', 'PatientLanguage': 'Icelandic', 'PatientPopulationPercentageBelowPoverty': 11.039999961853027}, {'PatientID': '03A481F5-B32A-4A91-BD42-43EB78FEBA77', 'PatientGender': 'Female', 'PatientDateOfBirth': datetime.datetime(1968, 2, 7, 23, 2, 38, 17000), 'PatientRace': 'Asian', 'PatientMaritalStatus': 'Single', 'PatientLanguage': 'Unknown', 'PatientPopulationPercentageBelowPoverty': 93.2300033569336}, {'PatientID': '2A5251B1-0945-47FA-A65C-7A6381562591', 'PatientGender': 'Female', 'PatientDateOfBirth': datetime.datetime(1942, 1, 7, 16, 45, 33, 60000), 'PatientRace': 'Unknown', 'PatientMaritalStatus': 'Married', 'PatientLanguage': 'Spanish', 'PatientPopulationPercentageBelowPoverty': 18.049999237060547}, {'PatientID': '8AF47463-8534-4203-B210-C2290F6CE689', 'PatientGender': 'Female', 'PatientDateOfBirth': datetime.datetime(1952, 6, 27, 17, 29, 4, 187000), 'PatientRace': 'White', 'PatientMaritalStatus': 'Divorced', 'PatientLanguage': 'English', 'PatientPopulationPercentageBelowPoverty': 11.880000114440918}, {'PatientID': '135C831F-7DA5-46C0-959C-EBCBD8810B43', 'PatientGender': 'Male', 'PatientDateOfBirth': datetime.datetime(1971, 5, 13, 4, 40, 5, 623000), 'PatientRace': 'White', 'PatientMaritalStatus': 'Unknown', 'PatientLanguage': 'Spanish', 'PatientPopulationPercentageBelowPoverty': 12.380000114440918}, {'PatientID': '8856096E-E59C-4156-A767-C091AF799C80', 'PatientGender': 'Female', 'PatientDateOfBirth': datetime.datetime(1988, 11, 25, 2, 59, 36, 373000), 'PatientRace': 'White', 'PatientMaritalStatus': 'Divorced', 'PatientLanguage': 'English', 'PatientPopulationPercentageBelowPoverty': 11.079999923706055}, {'PatientID': '6623F5D6-D581-4268-9F9B-21612FBBF7B5', 'PatientGender': 'Female', 'PatientDateOfBirth': datetime.datetime(1943, 2, 17, 15, 36, 13, 787000), 'PatientRace': 'Asian', 'PatientMaritalStatus': 'Single', 'PatientLanguage': 'Spanish', 'PatientPopulationPercentageBelowPoverty': 14.489999771118164}, {'PatientID': '65A7FBE0-EA9F-49E9-9824-D8F3AD98DAC0', 'PatientGender': 'Female', 'PatientDateOfBirth': datetime.datetime(1962, 11, 30, 6, 28, 33, 110000), 'PatientRace': 'White', 'PatientMaritalStatus': 'Separated', 'PatientLanguage': 'Spanish', 'PatientPopulationPercentageBelowPoverty': 17.979999542236328}, {'PatientID': 'FB909FAE-72DD-4F6F-9828-D92183DF185F', 'PatientGender': 'Male', 'PatientDateOfBirth': datetime.datetime(1940, 7, 15, 12, 18, 41, 80000), 'PatientRace': 'White', 'PatientMaritalStatus': 'Single', 'PatientLanguage': 'Spanish', 'PatientPopulationPercentageBelowPoverty': 14.899999618530273}]\n"
     ]
    }
   ],
   "source": [
    "# Get results (WARNING: in-memory) as list of Python dicts\n",
    "\n",
    "dicts = [row.asDict(recursive=True) for row in df_patients.collect()]\n",
    "print(dicts)"
   ]
  },
  {
   "cell_type": "code",
   "execution_count": 65,
   "id": "b30b4189",
   "metadata": {},
   "outputs": [
    {
     "data": {
      "text/plain": [
       "100"
      ]
     },
     "execution_count": 65,
     "metadata": {},
     "output_type": "execute_result"
    }
   ],
   "source": [
    "# Get Row Count\n",
    "\n",
    "df_patients.count()"
   ]
  },
  {
   "cell_type": "code",
   "execution_count": 81,
   "id": "27ed44a0",
   "metadata": {},
   "outputs": [],
   "source": [
    "from pyspark.sql import functions as F, types as T"
   ]
  },
  {
   "cell_type": "code",
   "execution_count": 78,
   "id": "3364dae6",
   "metadata": {},
   "outputs": [
    {
     "name": "stdout",
     "output_type": "stream",
     "text": [
      "+-------------+-----------+--------------------+\n",
      "|PatientGender|PatientRace|PatientMaritalStatus|\n",
      "+-------------+-----------+--------------------+\n",
      "|Female       |Asian      |Married             |\n",
      "|Male         |Asian      |Married             |\n",
      "|Male         |Asian      |Divorced            |\n",
      "|Male         |Asian      |Single              |\n",
      "|Male         |Asian      |Married             |\n",
      "|Male         |Asian      |Single              |\n",
      "|Female       |Asian      |Divorced            |\n",
      "|Female       |Asian      |Married             |\n",
      "|Female       |Asian      |Unknown             |\n",
      "|Male         |Asian      |Single              |\n",
      "|Female       |Asian      |Separated           |\n",
      "|Female       |Asian      |Unknown             |\n",
      "|Female       |Asian      |Single              |\n",
      "|Female       |Asian      |Single              |\n",
      "|Female       |Asian      |Single              |\n",
      "|Female       |Asian      |Unknown             |\n",
      "|Female       |Asian      |Married             |\n",
      "|Female       |Asian      |Married             |\n",
      "|Female       |Asian      |Separated           |\n",
      "|Male         |Asian      |Married             |\n",
      "+-------------+-----------+--------------------+\n",
      "only showing top 20 rows\n",
      "\n"
     ]
    }
   ],
   "source": [
    "# Filter on equals condition\n",
    "\n",
    "df_asians = df_patients.filter(df_patients.PatientRace == 'Asian')\\\n",
    ".select(\"PatientGender\", \"PatientRace\", \"PatientMaritalStatus\").show(truncate = False)"
   ]
  },
  {
   "cell_type": "code",
   "execution_count": 82,
   "id": "375eb59f",
   "metadata": {},
   "outputs": [
    {
     "name": "stdout",
     "output_type": "stream",
     "text": [
      "+-------------+----------------+--------------------+\n",
      "|PatientGender|PatientRace     |PatientMaritalStatus|\n",
      "+-------------+----------------+--------------------+\n",
      "|Male         |African American|Separated           |\n",
      "|Female       |Asian           |Married             |\n",
      "|Male         |White           |Married             |\n",
      "|Female       |White           |Married             |\n",
      "|Male         |White           |Married             |\n",
      "|Male         |Asian           |Married             |\n",
      "|Female       |White           |Married             |\n",
      "|Female       |White           |Single              |\n",
      "|Male         |White           |Married             |\n",
      "|Male         |Asian           |Divorced            |\n",
      "|Male         |White           |Single              |\n",
      "|Male         |White           |Married             |\n",
      "|Female       |African American|Single              |\n",
      "|Female       |White           |Married             |\n",
      "|Male         |African American|Unknown             |\n",
      "|Male         |White           |Married             |\n",
      "|Female       |African American|Single              |\n",
      "|Male         |White           |Single              |\n",
      "|Male         |African American|Married             |\n",
      "|Male         |Asian           |Single              |\n",
      "+-------------+----------------+--------------------+\n",
      "only showing top 20 rows\n",
      "\n"
     ]
    }
   ],
   "source": [
    "# Compare against a list of allowed values\n",
    "\n",
    "df_aaw = df_patients.filter(F.col(\"PatientRace\").isin(\"Asian\", \"African American\", \"White\"))\\\n",
    "        .select(\"PatientGender\", \"PatientRace\", \"PatientMaritalStatus\").show(truncate = False)"
   ]
  },
  {
   "cell_type": "code",
   "execution_count": 84,
   "id": "90367f4d",
   "metadata": {},
   "outputs": [
    {
     "name": "stdout",
     "output_type": "stream",
     "text": [
      "+----------------+---------+-----------+\n",
      "|     PatientRace|MaleCount|FemaleCount|\n",
      "+----------------+---------+-----------+\n",
      "|African American|        9|          6|\n",
      "|           Asian|        8|         15|\n",
      "|         Unknown|        4|          9|\n",
      "|           White|       27|         22|\n",
      "+----------------+---------+-----------+\n",
      "\n"
     ]
    }
   ],
   "source": [
    "# Group by PatientRace and count the number of males and females\n",
    "\n",
    "df_patients.groupBy(\"PatientRace\").agg(\n",
    "            F.count(F.when(df_patients[\"PatientGender\"] == \"Male\", 1)).alias(\"MaleCount\")\n",
    "            , F.count(F.when(df_patients[\"PatientGender\"] == \"Female\", 1)).alias(\"FemaleCount\")\n",
    ").orderBy(\"PatientRace\").show()"
   ]
  },
  {
   "cell_type": "code",
   "execution_count": 90,
   "id": "f53bb919",
   "metadata": {
    "scrolled": true
   },
   "outputs": [
    {
     "name": "stdout",
     "output_type": "stream",
     "text": [
      "+----------------+---------------+-----------------+------------------+--------------------+----------------+------------------+\n",
      "|     PatientRace|SingleMaleCount|SingleFemaleCount|SeparatedMaleCount|SeparatedFemaleCount|MarriedMaleCount|MarriedFemaleCount|\n",
      "+----------------+---------------+-----------------+------------------+--------------------+----------------+------------------+\n",
      "|African American|              2|                2|                 2|                   0|               4|                 4|\n",
      "|         Unknown|              2|                1|                 0|                   0|               2|                 7|\n",
      "|           White|              8|                9|                 0|                   1|              12|                 8|\n",
      "|           Asian|              3|                5|                 0|                   2|               4|                 4|\n",
      "+----------------+---------------+-----------------+------------------+--------------------+----------------+------------------+\n",
      "\n"
     ]
    }
   ],
   "source": [
    "# Group by PatientRace and count the number of single, separated, and married for each gender\n",
    "\n",
    "df_patients.groupBy(\"PatientRace\").agg(\n",
    "        F.count(F.when((df_patients[\"PatientGender\"] == \"Male\") & \\\n",
    "                (df_patients[\"PatientMaritalStatus\"] == \"Single\"), 1))\\\n",
    "        .alias(\"SingleMaleCount\"),\n",
    "        F.count(F.when((df_patients[\"PatientGender\"] == \"Female\") & \\\n",
    "               (df_patients[\"PatientMaritalStatus\"] == \"Single\"), 1))\\\n",
    "        .alias(\"SingleFemaleCount\"),\n",
    "        F.count(F.when((df_patients[\"PatientGender\"] == \"Male\") & \\\n",
    "                    (df_patients[\"PatientMaritalStatus\"] == \"Separated\"), 1))\\\n",
    "        .alias(\"SeparatedMaleCount\"),\n",
    "        F.count(F.when((df_patients[\"PatientGender\"] == \"Female\") & \\\n",
    "                   (df_patients[\"PatientMaritalStatus\"] == \"Separated\"), 1))\\\n",
    "        .alias(\"SeparatedFemaleCount\"),\n",
    "        F.count(F.when((df_patients[\"PatientGender\"] == \"Male\") & \\\n",
    "               (df_patients[\"PatientMaritalStatus\"] == \"Married\"), 1))\\\n",
    "        .alias(\"MarriedMaleCount\"),\n",
    "        F.count(F.when((df_patients[\"PatientGender\"] == \"Female\") & \\\n",
    "                   (df_patients[\"PatientMaritalStatus\"] == \"Married\"), 1))\\\n",
    "        .alias(\"MarriedFemaleCount\")\n",
    ").show()"
   ]
  },
  {
   "cell_type": "code",
   "execution_count": 94,
   "id": "894b5a29",
   "metadata": {},
   "outputs": [
    {
     "name": "stdout",
     "output_type": "stream",
     "text": [
      "+----------------+-----------------------------------------------+\n",
      "|     PatientRace|Average_PatientPopulationPercentageBelowPoverty|\n",
      "+----------------+-----------------------------------------------+\n",
      "|African American|                                          19.49|\n",
      "|         Unknown|                                          19.99|\n",
      "|           White|                                          21.24|\n",
      "|           Asian|                                          26.84|\n",
      "+----------------+-----------------------------------------------+\n",
      "\n"
     ]
    }
   ],
   "source": [
    "# Group by PatientRace and \n",
    "# Find the average PatientPopulationPercentageBelowPoverty for each PatientRace\n",
    "\n",
    "df_patients.groupBy(\"PatientRace\").agg(\n",
    "        F.round(F.avg(F.col(\"PatientPopulationPercentageBelowPoverty\")),2)\\\n",
    "        .alias(\"Average_PatientPopulationPercentageBelowPoverty\")\n",
    ").show()"
   ]
  },
  {
   "cell_type": "code",
   "execution_count": 98,
   "id": "53310624",
   "metadata": {},
   "outputs": [
    {
     "name": "stdout",
     "output_type": "stream",
     "text": [
      "+----------------+-------------+-----------------------------------------------+\n",
      "|     PatientRace|PatientGender|Average_PatientPopulationPercentageBelowPoverty|\n",
      "+----------------+-------------+-----------------------------------------------+\n",
      "|African American|       Female|                                          26.59|\n",
      "|African American|         Male|                                          14.75|\n",
      "|           Asian|       Female|                                          28.93|\n",
      "|           Asian|         Male|                                          22.92|\n",
      "|         Unknown|       Female|                                          24.62|\n",
      "|         Unknown|         Male|                                           9.58|\n",
      "|           White|       Female|                                          18.65|\n",
      "|           White|         Male|                                          23.35|\n",
      "+----------------+-------------+-----------------------------------------------+\n",
      "\n"
     ]
    }
   ],
   "source": [
    "#Group by PatientRace and PatientGender, \n",
    "#and Calculate the Average PatientPopulationPercentageBelowPoverty \n",
    "#Rounded to 2 Decimal Places:\n",
    "\n",
    "df_patients.groupBy(\"PatientRace\", \"PatientGender\").agg(\n",
    "        F.round(F.avg(F.col(\"PatientPopulationPercentageBelowPoverty\")),2)\\\n",
    "        .alias(\"Average_PatientPopulationPercentageBelowPoverty\")\n",
    ").orderBy(\"PatientRace\", \"PatientGender\").show()"
   ]
  },
  {
   "cell_type": "code",
   "execution_count": 37,
   "id": "4db01b9c",
   "metadata": {},
   "outputs": [],
   "source": [
    "from pyspark.sql.types import StructType, StructField, StringType, IntegerType, DoubleType, TimestampType"
   ]
  },
  {
   "cell_type": "code",
   "execution_count": 66,
   "id": "9f571683",
   "metadata": {},
   "outputs": [],
   "source": [
    "# Define the schema for labs\n",
    "\n",
    "schema_labs = StructType([\n",
    "    StructField(\"PatientID\", StringType(), True),\n",
    "    StructField(\"AdmissionID\", IntegerType(), True),\n",
    "    StructField(\"LabName\", StringType(), True),\n",
    "    StructField(\"LabValue\", DoubleType(), True),\n",
    "    StructField(\"LabUnits\", StringType(), True),\n",
    "    StructField(\"LabDateTime\", TimestampType(), True)\n",
    "])"
   ]
  },
  {
   "cell_type": "code",
   "execution_count": 67,
   "id": "930376a3",
   "metadata": {},
   "outputs": [],
   "source": [
    "df_labs = spark.read.load(\"/Users/sateeshreddypatlolla/Downloads/LabsCorePopulatedTable.csv\", format = \"csv\", sep='\\t', schema = schema_labs, header = \"true\")"
   ]
  },
  {
   "cell_type": "code",
   "execution_count": 40,
   "id": "5c286abe",
   "metadata": {},
   "outputs": [],
   "source": [
    "from pyspark.sql.types import StructType, StructField, StringType, IntegerType"
   ]
  },
  {
   "cell_type": "code",
   "execution_count": 44,
   "id": "613992ca",
   "metadata": {},
   "outputs": [],
   "source": [
    "# Define the schema for diagnoses\n",
    "\n",
    "schema_diagnoses = StructType([\n",
    "    StructField(\"PatientID\", StringType(), True),\n",
    "    StructField(\"AdmissionID\", IntegerType(), True),\n",
    "    StructField(\"PrimaryDiagnosisCode\", StringType(), True),\n",
    "    StructField(\"PrimaryDiagnosisDescription\", StringType(), True)\n",
    "])\n"
   ]
  },
  {
   "cell_type": "code",
   "execution_count": 68,
   "id": "4794fb6c",
   "metadata": {},
   "outputs": [],
   "source": [
    "df_diagnoses = spark.read.format(\"csv\")\\\n",
    "            .option(\"sep\", \"\\t\")\\\n",
    "            .option(\"schema\", \"schema_diagnoses\")\\\n",
    "            .option(\"header\", \"true\")\\\n",
    "            .load(\"/Users/sateeshreddypatlolla/Downloads/AdmissionsDiagnosesCorePopulatedTable.csv\")"
   ]
  },
  {
   "cell_type": "code",
   "execution_count": 46,
   "id": "5d47ea05",
   "metadata": {},
   "outputs": [],
   "source": [
    "from pyspark.sql.types import StructType, StructField, StringType, IntegerType, TimestampType"
   ]
  },
  {
   "cell_type": "code",
   "execution_count": 47,
   "id": "37078ec7",
   "metadata": {},
   "outputs": [],
   "source": [
    "# Define the schema for admissions\n",
    "schema_admissions = StructType([\n",
    "    StructField(\"PatientID\", StringType(), True),\n",
    "    StructField(\"AdmissionID\", IntegerType(), True),\n",
    "    StructField(\"AdmissionStartDate\", TimestampType(), True),\n",
    "    StructField(\"AdmissionEndDate\", TimestampType(), True)\n",
    "])"
   ]
  },
  {
   "cell_type": "code",
   "execution_count": 69,
   "id": "e96bf27c",
   "metadata": {},
   "outputs": [],
   "source": [
    "df_admissions = spark.read.format(\"csv\").load(\"/Users/sateeshreddypatlolla/Downloads/AdmissionsCorePopulatedTable.csv\", sep = \"\\t\", schema = schema_admissions, header = \"true\")"
   ]
  },
  {
   "cell_type": "markdown",
   "id": "9ebd42ee",
   "metadata": {},
   "source": [
    "#### What does df_patients contain?"
   ]
  },
  {
   "cell_type": "code",
   "execution_count": 34,
   "id": "92a0dd2d",
   "metadata": {},
   "outputs": [
    {
     "data": {
      "text/plain": [
       "['PatientID',\n",
       " 'PatientGender',\n",
       " 'PatientDateOfBirth',\n",
       " 'PatientRace',\n",
       " 'PatientMaritalStatus',\n",
       " 'PatientLanguage',\n",
       " 'PatientPopulationPercentageBelowPoverty']"
      ]
     },
     "execution_count": 34,
     "metadata": {},
     "output_type": "execute_result"
    }
   ],
   "source": [
    "df_patients.columns"
   ]
  },
  {
   "cell_type": "code",
   "execution_count": 35,
   "id": "4cfa05d6",
   "metadata": {},
   "outputs": [
    {
     "data": {
      "text/plain": [
       "[('PatientID', 'string'),\n",
       " ('PatientGender', 'string'),\n",
       " ('PatientDateOfBirth', 'timestamp'),\n",
       " ('PatientRace', 'string'),\n",
       " ('PatientMaritalStatus', 'string'),\n",
       " ('PatientLanguage', 'string'),\n",
       " ('PatientPopulationPercentageBelowPoverty', 'float')]"
      ]
     },
     "execution_count": 35,
     "metadata": {},
     "output_type": "execute_result"
    }
   ],
   "source": [
    "df_patients.dtypes"
   ]
  },
  {
   "cell_type": "code",
   "execution_count": 36,
   "id": "7e091c2b",
   "metadata": {},
   "outputs": [
    {
     "data": {
      "text/plain": [
       "StructType([StructField('PatientID', StringType(), True), StructField('PatientGender', StringType(), True), StructField('PatientDateOfBirth', TimestampType(), True), StructField('PatientRace', StringType(), True), StructField('PatientMaritalStatus', StringType(), True), StructField('PatientLanguage', StringType(), True), StructField('PatientPopulationPercentageBelowPoverty', FloatType(), True)])"
      ]
     },
     "execution_count": 36,
     "metadata": {},
     "output_type": "execute_result"
    }
   ],
   "source": [
    "df_patients.schema"
   ]
  },
  {
   "cell_type": "code",
   "execution_count": null,
   "id": "45c0fedc",
   "metadata": {},
   "outputs": [],
   "source": []
  }
 ],
 "metadata": {
  "kernelspec": {
   "display_name": "Python 3 (ipykernel)",
   "language": "python",
   "name": "python3"
  },
  "language_info": {
   "codemirror_mode": {
    "name": "ipython",
    "version": 3
   },
   "file_extension": ".py",
   "mimetype": "text/x-python",
   "name": "python",
   "nbconvert_exporter": "python",
   "pygments_lexer": "ipython3",
   "version": "3.9.13"
  }
 },
 "nbformat": 4,
 "nbformat_minor": 5
}
