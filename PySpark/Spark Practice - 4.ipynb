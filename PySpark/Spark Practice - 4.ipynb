{
 "cells": [
  {
   "cell_type": "code",
   "execution_count": 2,
   "id": "c8710c6a",
   "metadata": {},
   "outputs": [],
   "source": [
    "import findspark\n",
    "findspark.init()\n",
    "\n",
    "from pyspark.sql import SparkSession\n",
    "\n",
    "spark = SparkSession.builder.appName(\"Pratice - 4\").getOrCreate()"
   ]
  },
  {
   "cell_type": "code",
   "execution_count": 3,
   "id": "d27ef50b",
   "metadata": {},
   "outputs": [
    {
     "data": {
      "text/html": [
       "\n",
       "            <div>\n",
       "                <p><b>SparkSession - in-memory</b></p>\n",
       "                \n",
       "        <div>\n",
       "            <p><b>SparkContext</b></p>\n",
       "\n",
       "            <p><a href=\"http://sateeshs-mbp.lan:4040\">Spark UI</a></p>\n",
       "\n",
       "            <dl>\n",
       "              <dt>Version</dt>\n",
       "                <dd><code>v3.5.1</code></dd>\n",
       "              <dt>Master</dt>\n",
       "                <dd><code>local[*]</code></dd>\n",
       "              <dt>AppName</dt>\n",
       "                <dd><code>Pratice - 4</code></dd>\n",
       "            </dl>\n",
       "        </div>\n",
       "        \n",
       "            </div>\n",
       "        "
      ],
      "text/plain": [
       "<pyspark.sql.session.SparkSession at 0x7fddd1de7f10>"
      ]
     },
     "execution_count": 3,
     "metadata": {},
     "output_type": "execute_result"
    }
   ],
   "source": [
    "spark"
   ]
  },
  {
   "cell_type": "markdown",
   "id": "667cefca",
   "metadata": {},
   "source": [
    "### Read csv files in different ways"
   ]
  },
  {
   "cell_type": "code",
   "execution_count": 4,
   "id": "12874aec",
   "metadata": {},
   "outputs": [],
   "source": [
    "from pyspark.sql.types import StructType, StructField, StringType, TimestampType, FloatType"
   ]
  },
  {
   "cell_type": "code",
   "execution_count": 5,
   "id": "c1f2cb2b",
   "metadata": {},
   "outputs": [],
   "source": [
    "# Define the schema for patients\n",
    "\n",
    "schema_patients = StructType([\n",
    "    StructField(\"PatientID\", StringType(), True),\n",
    "    StructField(\"PatientGender\", StringType(), True),\n",
    "    StructField(\"PatientDateOfBirth\", TimestampType(), True),\n",
    "    StructField(\"PatientRace\", StringType(), True),\n",
    "    StructField(\"PatientMaritalStatus\", StringType(), True),\n",
    "    StructField(\"PatientLanguage\", StringType(), True),\n",
    "    StructField(\"PatientPopulationPercentageBelowPoverty\", FloatType(), True)\n",
    "])\n"
   ]
  },
  {
   "cell_type": "code",
   "execution_count": 6,
   "id": "683da961",
   "metadata": {},
   "outputs": [],
   "source": [
    "# Read PatientCorePopulatedTable.csv file with Schema\n",
    "\n",
    "df_patients = spark.read.csv(\"/Users/sateeshreddypatlolla/Downloads/PatientCorePopulatedTable.csv\", sep='\\t', header = True, schema = schema_patients)"
   ]
  },
  {
   "cell_type": "code",
   "execution_count": 7,
   "id": "a15c12a8",
   "metadata": {},
   "outputs": [
    {
     "data": {
      "text/plain": [
       "['PatientID',\n",
       " 'PatientGender',\n",
       " 'PatientDateOfBirth',\n",
       " 'PatientRace',\n",
       " 'PatientMaritalStatus',\n",
       " 'PatientLanguage',\n",
       " 'PatientPopulationPercentageBelowPoverty']"
      ]
     },
     "execution_count": 7,
     "metadata": {},
     "output_type": "execute_result"
    }
   ],
   "source": [
    "#Get Columns\n",
    "\n",
    "df_patients.columns"
   ]
  },
  {
   "cell_type": "code",
   "execution_count": 8,
   "id": "72d5b89e",
   "metadata": {},
   "outputs": [
    {
     "data": {
      "text/plain": [
       "7"
      ]
     },
     "execution_count": 8,
     "metadata": {},
     "output_type": "execute_result"
    }
   ],
   "source": [
    "# Get column count\n",
    "\n",
    "len(df_patients.columns)"
   ]
  },
  {
   "cell_type": "code",
   "execution_count": 9,
   "id": "c2ae74ae",
   "metadata": {},
   "outputs": [
    {
     "data": {
      "text/plain": [
       "[('PatientID', 'string'),\n",
       " ('PatientGender', 'string'),\n",
       " ('PatientDateOfBirth', 'timestamp'),\n",
       " ('PatientRace', 'string'),\n",
       " ('PatientMaritalStatus', 'string'),\n",
       " ('PatientLanguage', 'string'),\n",
       " ('PatientPopulationPercentageBelowPoverty', 'float')]"
      ]
     },
     "execution_count": 9,
     "metadata": {},
     "output_type": "execute_result"
    }
   ],
   "source": [
    "# Get Columns with data types\n",
    "\n",
    "df_patients.dtypes"
   ]
  },
  {
   "cell_type": "code",
   "execution_count": 10,
   "id": "4ca67bfd",
   "metadata": {},
   "outputs": [
    {
     "name": "stdout",
     "output_type": "stream",
     "text": [
      "root\n",
      " |-- PatientID: string (nullable = true)\n",
      " |-- PatientGender: string (nullable = true)\n",
      " |-- PatientDateOfBirth: timestamp (nullable = true)\n",
      " |-- PatientRace: string (nullable = true)\n",
      " |-- PatientMaritalStatus: string (nullable = true)\n",
      " |-- PatientLanguage: string (nullable = true)\n",
      " |-- PatientPopulationPercentageBelowPoverty: float (nullable = true)\n",
      "\n"
     ]
    }
   ],
   "source": [
    "# Get Schema\n",
    "\n",
    "df_patients.printSchema()"
   ]
  },
  {
   "cell_type": "code",
   "execution_count": 11,
   "id": "bd2ddcd2",
   "metadata": {},
   "outputs": [
    {
     "data": {
      "text/plain": [
       "StructType([StructField('PatientID', StringType(), True), StructField('PatientGender', StringType(), True), StructField('PatientDateOfBirth', TimestampType(), True), StructField('PatientRace', StringType(), True), StructField('PatientMaritalStatus', StringType(), True), StructField('PatientLanguage', StringType(), True), StructField('PatientPopulationPercentageBelowPoverty', FloatType(), True)])"
      ]
     },
     "execution_count": 11,
     "metadata": {},
     "output_type": "execute_result"
    }
   ],
   "source": [
    "# Get Schema\n",
    "\n",
    "df_patients.schema"
   ]
  },
  {
   "cell_type": "markdown",
   "id": "e9f28008",
   "metadata": {},
   "source": [
    "DataFrame.collect() collects the distributed data to the driver side as the local data in Python. Note that this can throw an out-of-memory error when the dataset is too large to fit in the driver side because it collects all the data from executors to the driver side."
   ]
  },
  {
   "cell_type": "code",
   "execution_count": 12,
   "id": "054eaaa5",
   "metadata": {},
   "outputs": [],
   "source": [
    "# # Get results (WARNING: in-memory) as list of PySpark Rows\n",
    "\n",
    "# df_patients.collect()"
   ]
  },
  {
   "cell_type": "markdown",
   "id": "800da963",
   "metadata": {},
   "source": [
    "In order to avoid throwing an out-of-memory exception, use DataFrame.take() or DataFrame.tail()."
   ]
  },
  {
   "cell_type": "code",
   "execution_count": 13,
   "id": "ea056dc0",
   "metadata": {},
   "outputs": [
    {
     "data": {
      "text/plain": [
       "[Row(PatientID='FB2ABB23-C9D0-4D09-8464-49BF0B982F0F', PatientGender='Male', PatientDateOfBirth=datetime.datetime(1947, 12, 28, 2, 45, 40, 547000), PatientRace='Unknown', PatientMaritalStatus='Married', PatientLanguage='Icelandic', PatientPopulationPercentageBelowPoverty=18.079999923706055),\n",
       " Row(PatientID='64182B95-EB72-4E2B-BE77-8050B71498CE', PatientGender='Male', PatientDateOfBirth=datetime.datetime(1952, 1, 18, 19, 51, 12, 917000), PatientRace='African American', PatientMaritalStatus='Separated', PatientLanguage='English', PatientPopulationPercentageBelowPoverty=13.029999732971191),\n",
       " Row(PatientID='DB22A4D9-7E4D-485C-916A-9CD1386507FB', PatientGender='Female', PatientDateOfBirth=datetime.datetime(1970, 7, 25, 13, 4, 20, 717000), PatientRace='Asian', PatientMaritalStatus='Married', PatientLanguage='English', PatientPopulationPercentageBelowPoverty=6.670000076293945),\n",
       " Row(PatientID='6E70D84D-C75F-477C-BC37-9177C3698C66', PatientGender='Male', PatientDateOfBirth=datetime.datetime(1979, 1, 4, 5, 45, 29, 580000), PatientRace='White', PatientMaritalStatus='Married', PatientLanguage='English', PatientPopulationPercentageBelowPoverty=16.09000015258789),\n",
       " Row(PatientID='C8556CC0-32FC-4CA5-A8CD-9CCF38816167', PatientGender='Female', PatientDateOfBirth=datetime.datetime(1921, 4, 11, 11, 39, 49, 197000), PatientRace='White', PatientMaritalStatus='Married', PatientLanguage='English', PatientPopulationPercentageBelowPoverty=18.200000762939453),\n",
       " Row(PatientID='7FD13988-E58A-4A5C-8680-89AC200950FA', PatientGender='Male', PatientDateOfBirth=datetime.datetime(1965, 7, 12, 15, 41, 20, 523000), PatientRace='White', PatientMaritalStatus='Married', PatientLanguage='Spanish', PatientPopulationPercentageBelowPoverty=12.40999984741211),\n",
       " Row(PatientID='C60FE675-CA52-4C55-A233-F4B27E94987F', PatientGender='Male', PatientDateOfBirth=datetime.datetime(1957, 10, 30, 23, 26, 15, 303000), PatientRace='Asian', PatientMaritalStatus='Married', PatientLanguage='Spanish', PatientPopulationPercentageBelowPoverty=12.800000190734863),\n",
       " Row(PatientID='B39DC5AC-E003-4E6A-91B6-FC07625A1285', PatientGender='Female', PatientDateOfBirth=datetime.datetime(1935, 11, 3, 21, 7, 9, 40000), PatientRace='White', PatientMaritalStatus='Married', PatientLanguage='English', PatientPopulationPercentageBelowPoverty=15.3100004196167),\n",
       " Row(PatientID='FA157FA5-F488-4884-BF87-E144630D595C', PatientGender='Female', PatientDateOfBirth=datetime.datetime(1932, 11, 1, 6, 19, 56, 577000), PatientRace='White', PatientMaritalStatus='Single', PatientLanguage='English', PatientPopulationPercentageBelowPoverty=16.31999969482422),\n",
       " Row(PatientID='B7E9FC4C-5182-4A34-954E-CEF5FC07E96D', PatientGender='Female', PatientDateOfBirth=datetime.datetime(1985, 12, 11, 2, 48, 16, 907000), PatientRace='Unknown', PatientMaritalStatus='Single', PatientLanguage='English', PatientPopulationPercentageBelowPoverty=11.430000305175781)]"
      ]
     },
     "execution_count": 13,
     "metadata": {},
     "output_type": "execute_result"
    }
   ],
   "source": [
    "df_patients.take(10)"
   ]
  },
  {
   "cell_type": "code",
   "execution_count": 14,
   "id": "97d4f023",
   "metadata": {
    "scrolled": true
   },
   "outputs": [],
   "source": [
    "# # Get results (WARNING: in-memory) as list of Python dicts\n",
    "\n",
    "# dicts = [row.asDict(recursive=True) for row in df_patients.collect()]\n",
    "# print(dicts)"
   ]
  },
  {
   "cell_type": "code",
   "execution_count": 15,
   "id": "cc9f6100",
   "metadata": {},
   "outputs": [
    {
     "data": {
      "text/plain": [
       "100"
      ]
     },
     "execution_count": 15,
     "metadata": {},
     "output_type": "execute_result"
    }
   ],
   "source": [
    "# Get Row Count\n",
    "\n",
    "df_patients.count()"
   ]
  },
  {
   "cell_type": "code",
   "execution_count": 16,
   "id": "5d116e53",
   "metadata": {},
   "outputs": [],
   "source": [
    "from pyspark.sql import functions as F, types as T"
   ]
  },
  {
   "cell_type": "markdown",
   "id": "88bc84bf",
   "metadata": {},
   "source": [
    "## Filtering"
   ]
  },
  {
   "cell_type": "code",
   "execution_count": 17,
   "id": "c8eea2ff",
   "metadata": {},
   "outputs": [
    {
     "name": "stdout",
     "output_type": "stream",
     "text": [
      "+-------------+-----------+--------------------+\n",
      "|PatientGender|PatientRace|PatientMaritalStatus|\n",
      "+-------------+-----------+--------------------+\n",
      "|Female       |Asian      |Married             |\n",
      "|Male         |Asian      |Married             |\n",
      "|Male         |Asian      |Divorced            |\n",
      "|Male         |Asian      |Single              |\n",
      "|Male         |Asian      |Married             |\n",
      "|Male         |Asian      |Single              |\n",
      "|Female       |Asian      |Divorced            |\n",
      "|Female       |Asian      |Married             |\n",
      "|Female       |Asian      |Unknown             |\n",
      "|Male         |Asian      |Single              |\n",
      "|Female       |Asian      |Separated           |\n",
      "|Female       |Asian      |Unknown             |\n",
      "|Female       |Asian      |Single              |\n",
      "|Female       |Asian      |Single              |\n",
      "|Female       |Asian      |Single              |\n",
      "|Female       |Asian      |Unknown             |\n",
      "|Female       |Asian      |Married             |\n",
      "|Female       |Asian      |Married             |\n",
      "|Female       |Asian      |Separated           |\n",
      "|Male         |Asian      |Married             |\n",
      "+-------------+-----------+--------------------+\n",
      "only showing top 20 rows\n",
      "\n"
     ]
    }
   ],
   "source": [
    "# Filter on equals condition\n",
    "\n",
    "df_asians = df_patients.filter(df_patients.PatientRace == 'Asian')\\\n",
    ".select(\"PatientGender\", \"PatientRace\", \"PatientMaritalStatus\").show(truncate = False)"
   ]
  },
  {
   "cell_type": "code",
   "execution_count": 18,
   "id": "68acb48d",
   "metadata": {},
   "outputs": [
    {
     "name": "stdout",
     "output_type": "stream",
     "text": [
      "+-------------+----------------+--------------------+\n",
      "|PatientGender|PatientRace     |PatientMaritalStatus|\n",
      "+-------------+----------------+--------------------+\n",
      "|Male         |African American|Separated           |\n",
      "|Female       |Asian           |Married             |\n",
      "|Male         |White           |Married             |\n",
      "|Female       |White           |Married             |\n",
      "|Male         |White           |Married             |\n",
      "|Male         |Asian           |Married             |\n",
      "|Female       |White           |Married             |\n",
      "|Female       |White           |Single              |\n",
      "|Male         |White           |Married             |\n",
      "|Male         |Asian           |Divorced            |\n",
      "|Male         |White           |Single              |\n",
      "|Male         |White           |Married             |\n",
      "|Female       |African American|Single              |\n",
      "|Female       |White           |Married             |\n",
      "|Male         |African American|Unknown             |\n",
      "|Male         |White           |Married             |\n",
      "|Female       |African American|Single              |\n",
      "|Male         |White           |Single              |\n",
      "|Male         |African American|Married             |\n",
      "|Male         |Asian           |Single              |\n",
      "+-------------+----------------+--------------------+\n",
      "only showing top 20 rows\n",
      "\n"
     ]
    }
   ],
   "source": [
    "# Compare against a list of allowed values\n",
    "\n",
    "df_aaw = df_patients.filter(F.col(\"PatientRace\").isin(\"Asian\", \"African American\", \"White\"))\\\n",
    "        .select(\"PatientGender\", \"PatientRace\", \"PatientMaritalStatus\").show(truncate = False)"
   ]
  },
  {
   "cell_type": "code",
   "execution_count": 19,
   "id": "160cf42b",
   "metadata": {},
   "outputs": [
    {
     "name": "stdout",
     "output_type": "stream",
     "text": [
      "+------------------------------------+----------------+---------------------------------------+\n",
      "|PatientID                           |PatientRace     |PatientPopulationPercentageBelowPoverty|\n",
      "+------------------------------------+----------------+---------------------------------------+\n",
      "|64182B95-EB72-4E2B-BE77-8050B71498CE|African American|13.03                                  |\n",
      "|7FD13988-E58A-4A5C-8680-89AC200950FA|White           |12.41                                  |\n",
      "|C60FE675-CA52-4C55-A233-F4B27E94987F|Asian           |12.8                                   |\n",
      "|B7E9FC4C-5182-4A34-954E-CEF5FC07E96D|Unknown         |11.43                                  |\n",
      "|1A40AF35-C6D4-4D46-B475-A15D84E8A9D5|White           |11.25                                  |\n",
      "|0A9BA3E4-CF3C-49C4-9774-5EEA2EE7D123|White           |14.28                                  |\n",
      "|7C788499-7798-484B-A027-9FCDC4C0DADB|White           |11.89                                  |\n",
      "|6985D824-3269-4D12-A9DD-B932D640E26E|White           |12.01                                  |\n",
      "|B70E5A76-F2BC-41E4-B037-CD4D9ABA0967|White           |13.1                                   |\n",
      "|F0B53A2C-98CA-415D-B928-E3FD0E52B22A|African American|14.87                                  |\n",
      "|1A8791E3-A61C-455A-8DEE-763EB90C9B2C|Asian           |13.97                                  |\n",
      "|FFCDECD6-4048-4DCB-B910-1218160005B3|White           |14.49                                  |\n",
      "|CD2ADB1B-97F7-4EF6-BC5C-3E0EC562A06F|White           |11.16                                  |\n",
      "|A50BE9B4-8A0B-4169-B894-F7BD86D7D90B|Asian           |14.07                                  |\n",
      "|6D8008ED-D623-4BE4-B93B-335F9797C170|White           |14.81                                  |\n",
      "|7548B6CF-79D9-461D-A0C5-20B861406FAC|White           |14.03                                  |\n",
      "|3B11D6B3-A36A-4B69-A437-C29BF425A941|Asian           |10.8                                   |\n",
      "|C5D09468-574F-4802-B56F-DB38F4EB1687|African American|10.87                                  |\n",
      "|CC12B481-B516-455B-884F-4CA900B29F2E|Unknown         |14.58                                  |\n",
      "|714823AF-C52C-414C-B53B-C43EACD194C3|White           |13.23                                  |\n",
      "+------------------------------------+----------------+---------------------------------------+\n",
      "only showing top 20 rows\n",
      "\n"
     ]
    }
   ],
   "source": [
    "# Filter rows where PatientPopulationPercentageBelowPoverty is between 10 and 15\n",
    "\n",
    "df_patients.filter((F.col(\"PatientPopulationPercentageBelowPoverty\") >= 10) & \\\n",
    "                   (F.col(\"PatientPopulationPercentageBelowPoverty\") <= 15))\\\n",
    "            .select(\"PatientID\", \"PatientRace\", \"PatientPopulationPercentageBelowPoverty\")\\\n",
    "            .show(truncate = False)"
   ]
  },
  {
   "cell_type": "markdown",
   "id": "d06c8a39",
   "metadata": {},
   "source": [
    "## GroupBy"
   ]
  },
  {
   "cell_type": "code",
   "execution_count": 20,
   "id": "ccfb5af7",
   "metadata": {},
   "outputs": [
    {
     "name": "stdout",
     "output_type": "stream",
     "text": [
      "+----------------+---------+-----------+\n",
      "|     PatientRace|MaleCount|FemaleCount|\n",
      "+----------------+---------+-----------+\n",
      "|African American|        9|          6|\n",
      "|           Asian|        8|         15|\n",
      "|         Unknown|        4|          9|\n",
      "|           White|       27|         22|\n",
      "+----------------+---------+-----------+\n",
      "\n"
     ]
    }
   ],
   "source": [
    "# Group by PatientRace and count the number of males and females\n",
    "\n",
    "df_patients.groupBy(\"PatientRace\").agg(\n",
    "            F.count(F.when(df_patients[\"PatientGender\"] == \"Male\", 1)).alias(\"MaleCount\")\n",
    "            , F.count(F.when(df_patients[\"PatientGender\"] == \"Female\", 1)).alias(\"FemaleCount\")\n",
    ").orderBy(\"PatientRace\").show()"
   ]
  },
  {
   "cell_type": "code",
   "execution_count": 21,
   "id": "115f78e7",
   "metadata": {
    "scrolled": true
   },
   "outputs": [
    {
     "name": "stdout",
     "output_type": "stream",
     "text": [
      "+----------------+---------------+-----------------+------------------+--------------------+----------------+------------------+\n",
      "|     PatientRace|SingleMaleCount|SingleFemaleCount|SeparatedMaleCount|SeparatedFemaleCount|MarriedMaleCount|MarriedFemaleCount|\n",
      "+----------------+---------------+-----------------+------------------+--------------------+----------------+------------------+\n",
      "|African American|              2|                2|                 2|                   0|               4|                 4|\n",
      "|         Unknown|              2|                1|                 0|                   0|               2|                 7|\n",
      "|           White|              8|                9|                 0|                   1|              12|                 8|\n",
      "|           Asian|              3|                5|                 0|                   2|               4|                 4|\n",
      "+----------------+---------------+-----------------+------------------+--------------------+----------------+------------------+\n",
      "\n"
     ]
    }
   ],
   "source": [
    "# Group by PatientRace and count the number of single, separated, and married for each gender\n",
    "\n",
    "df_patients.groupBy(\"PatientRace\").agg(\n",
    "        F.count(F.when((df_patients[\"PatientGender\"] == \"Male\") & \\\n",
    "                (df_patients[\"PatientMaritalStatus\"] == \"Single\"), 1))\\\n",
    "        .alias(\"SingleMaleCount\"),\n",
    "        F.count(F.when((df_patients[\"PatientGender\"] == \"Female\") & \\\n",
    "               (df_patients[\"PatientMaritalStatus\"] == \"Single\"), 1))\\\n",
    "        .alias(\"SingleFemaleCount\"),\n",
    "        F.count(F.when((df_patients[\"PatientGender\"] == \"Male\") & \\\n",
    "                    (df_patients[\"PatientMaritalStatus\"] == \"Separated\"), 1))\\\n",
    "        .alias(\"SeparatedMaleCount\"),\n",
    "        F.count(F.when((df_patients[\"PatientGender\"] == \"Female\") & \\\n",
    "                   (df_patients[\"PatientMaritalStatus\"] == \"Separated\"), 1))\\\n",
    "        .alias(\"SeparatedFemaleCount\"),\n",
    "        F.count(F.when((df_patients[\"PatientGender\"] == \"Male\") & \\\n",
    "               (df_patients[\"PatientMaritalStatus\"] == \"Married\"), 1))\\\n",
    "        .alias(\"MarriedMaleCount\"),\n",
    "        F.count(F.when((df_patients[\"PatientGender\"] == \"Female\") & \\\n",
    "                   (df_patients[\"PatientMaritalStatus\"] == \"Married\"), 1))\\\n",
    "        .alias(\"MarriedFemaleCount\")\n",
    ").show()"
   ]
  },
  {
   "cell_type": "code",
   "execution_count": 22,
   "id": "1a1610a8",
   "metadata": {},
   "outputs": [
    {
     "name": "stdout",
     "output_type": "stream",
     "text": [
      "+----------------+-----------------------------------------------+\n",
      "|     PatientRace|Average_PatientPopulationPercentageBelowPoverty|\n",
      "+----------------+-----------------------------------------------+\n",
      "|African American|                                          19.49|\n",
      "|         Unknown|                                          19.99|\n",
      "|           White|                                          21.24|\n",
      "|           Asian|                                          26.84|\n",
      "+----------------+-----------------------------------------------+\n",
      "\n"
     ]
    }
   ],
   "source": [
    "# Group by PatientRace and \n",
    "# Find the average PatientPopulationPercentageBelowPoverty for each PatientRace\n",
    "\n",
    "df_patients.groupBy(\"PatientRace\").agg(\n",
    "        F.round(F.avg(F.col(\"PatientPopulationPercentageBelowPoverty\")),2)\\\n",
    "        .alias(\"Average_PatientPopulationPercentageBelowPoverty\")\n",
    ").show()"
   ]
  },
  {
   "cell_type": "code",
   "execution_count": 23,
   "id": "37d91385",
   "metadata": {},
   "outputs": [
    {
     "name": "stdout",
     "output_type": "stream",
     "text": [
      "+----------------+-------------+-----------------------------------------------+\n",
      "|     PatientRace|PatientGender|Average_PatientPopulationPercentageBelowPoverty|\n",
      "+----------------+-------------+-----------------------------------------------+\n",
      "|African American|       Female|                                          26.59|\n",
      "|African American|         Male|                                          14.75|\n",
      "|           Asian|       Female|                                          28.93|\n",
      "|           Asian|         Male|                                          22.92|\n",
      "|         Unknown|       Female|                                          24.62|\n",
      "|         Unknown|         Male|                                           9.58|\n",
      "|           White|       Female|                                          18.65|\n",
      "|           White|         Male|                                          23.35|\n",
      "+----------------+-------------+-----------------------------------------------+\n",
      "\n"
     ]
    }
   ],
   "source": [
    "#Group by PatientRace and PatientGender, \n",
    "#and Calculate the Average PatientPopulationPercentageBelowPoverty \n",
    "#Rounded to 2 Decimal Places:\n",
    "\n",
    "df_patients.groupBy(\"PatientRace\", \"PatientGender\").agg(\n",
    "        F.round(F.avg(F.col(\"PatientPopulationPercentageBelowPoverty\")),2)\\\n",
    "        .alias(\"Average_PatientPopulationPercentageBelowPoverty\")\n",
    ").orderBy(\"PatientRace\", \"PatientGender\").show()"
   ]
  },
  {
   "cell_type": "code",
   "execution_count": 24,
   "id": "405d80d8",
   "metadata": {},
   "outputs": [],
   "source": [
    "from pyspark.sql.types import StructType, StructField, StringType, IntegerType, DoubleType, TimestampType"
   ]
  },
  {
   "cell_type": "code",
   "execution_count": 25,
   "id": "9a81f072",
   "metadata": {},
   "outputs": [],
   "source": [
    "# Define the schema for labs\n",
    "\n",
    "schema_labs = StructType([\n",
    "    StructField(\"PatientID\", StringType(), True),\n",
    "    StructField(\"AdmissionID\", IntegerType(), True),\n",
    "    StructField(\"LabName\", StringType(), True),\n",
    "    StructField(\"LabValue\", DoubleType(), True),\n",
    "    StructField(\"LabUnits\", StringType(), True),\n",
    "    StructField(\"LabDateTime\", TimestampType(), True)\n",
    "])"
   ]
  },
  {
   "cell_type": "code",
   "execution_count": 26,
   "id": "3f1dd4f8",
   "metadata": {},
   "outputs": [],
   "source": [
    "df_labs = spark.read.load(\"/Users/sateeshreddypatlolla/Downloads/LabsCorePopulatedTable.csv\", format = \"csv\", sep='\\t', header = \"true\", schema = schema_labs, )"
   ]
  },
  {
   "cell_type": "code",
   "execution_count": 27,
   "id": "772b4b35",
   "metadata": {},
   "outputs": [
    {
     "name": "stdout",
     "output_type": "stream",
     "text": [
      "root\n",
      " |-- PatientID: string (nullable = true)\n",
      " |-- AdmissionID: integer (nullable = true)\n",
      " |-- LabName: string (nullable = true)\n",
      " |-- LabValue: double (nullable = true)\n",
      " |-- LabUnits: string (nullable = true)\n",
      " |-- LabDateTime: timestamp (nullable = true)\n",
      "\n"
     ]
    }
   ],
   "source": [
    "df_labs.printSchema()"
   ]
  },
  {
   "cell_type": "code",
   "execution_count": 28,
   "id": "c5f7466e",
   "metadata": {},
   "outputs": [
    {
     "name": "stdout",
     "output_type": "stream",
     "text": [
      "+------------------------------------+-----------+---------------------------+--------+--------+-----------------------+\n",
      "|PatientID                           |AdmissionID|LabName                    |LabValue|LabUnits|LabDateTime            |\n",
      "+------------------------------------+-----------+---------------------------+--------+--------+-----------------------+\n",
      "|1A8791E3-A61C-455A-8DEE-763EB90C9B2C|1          |URINALYSIS: RED BLOOD CELLS|1.8     |rbc/hpf |1992-07-01 01:36:17.91 |\n",
      "|1A8791E3-A61C-455A-8DEE-763EB90C9B2C|1          |METABOLIC: GLUCOSE         |103.3   |mg/dL   |1992-06-30 09:35:52.383|\n",
      "|1A8791E3-A61C-455A-8DEE-763EB90C9B2C|1          |CBC: MCH                   |35.8    |pg      |1992-06-30 03:50:11.777|\n",
      "|1A8791E3-A61C-455A-8DEE-763EB90C9B2C|1          |METABOLIC: CALCIUM         |8.9     |mg/dL   |1992-06-30 12:09:46.107|\n",
      "|1A8791E3-A61C-455A-8DEE-763EB90C9B2C|1          |CBC: RED BLOOD CELL COUNT  |4.8     |m/cumm  |1992-07-01 01:31:08.677|\n",
      "|1A8791E3-A61C-455A-8DEE-763EB90C9B2C|1          |URINALYSIS: PH             |4.9     |no unit |1992-07-01 01:25:54.887|\n",
      "|1A8791E3-A61C-455A-8DEE-763EB90C9B2C|1          |METABOLIC: TOTAL PROTEIN   |7.5     |gm/dL   |1992-06-30 17:58:08.513|\n",
      "|1A8791E3-A61C-455A-8DEE-763EB90C9B2C|1          |METABOLIC: CHLORIDE        |111.5   |mmol/L  |1992-06-30 14:03:11.313|\n",
      "|1A8791E3-A61C-455A-8DEE-763EB90C9B2C|1          |CBC: LYMPHOCYTES           |2.2     |k/cumm  |1992-07-01 02:42:24.957|\n",
      "|1A8791E3-A61C-455A-8DEE-763EB90C9B2C|1          |CBC: ABSOLUTE LYMPHOCYTES  |33.3    |%       |1992-06-30 09:39:02.83 |\n",
      "+------------------------------------+-----------+---------------------------+--------+--------+-----------------------+\n",
      "only showing top 10 rows\n",
      "\n"
     ]
    }
   ],
   "source": [
    "df_labs.show(10, truncate = False)"
   ]
  },
  {
   "cell_type": "markdown",
   "id": "aa6f9eaa",
   "metadata": {},
   "source": [
    "## String Filters"
   ]
  },
  {
   "cell_type": "markdown",
   "id": "67424b79",
   "metadata": {},
   "source": [
    "#### Contains - col.contains(string)"
   ]
  },
  {
   "cell_type": "code",
   "execution_count": 29,
   "id": "20c2a28c",
   "metadata": {},
   "outputs": [
    {
     "name": "stdout",
     "output_type": "stream",
     "text": [
      "+------------------------------------+-----------+-----------------------------+--------+--------+-----------------------+\n",
      "|PatientID                           |AdmissionID|LabName                      |LabValue|LabUnits|LabDateTime            |\n",
      "+------------------------------------+-----------+-----------------------------+--------+--------+-----------------------+\n",
      "|1A8791E3-A61C-455A-8DEE-763EB90C9B2C|1          |URINALYSIS: RED BLOOD CELLS  |1.8     |rbc/hpf |1992-07-01 01:36:17.91 |\n",
      "|1A8791E3-A61C-455A-8DEE-763EB90C9B2C|1          |URINALYSIS: PH               |4.9     |no unit |1992-07-01 01:25:54.887|\n",
      "|1A8791E3-A61C-455A-8DEE-763EB90C9B2C|1          |URINALYSIS: SPECIFIC GRAVITY |1.0     |no unit |1992-07-01 02:40:06.887|\n",
      "|1A8791E3-A61C-455A-8DEE-763EB90C9B2C|1          |URINALYSIS: WHITE BLOOD CELLS|2.0     |wbc/hpf |1992-06-30 14:34:52.29 |\n",
      "|1A8791E3-A61C-455A-8DEE-763EB90C9B2C|1          |URINALYSIS: WHITE BLOOD CELLS|2.5     |wbc/hpf |1992-07-01 22:13:00.61 |\n",
      "|1A8791E3-A61C-455A-8DEE-763EB90C9B2C|1          |URINALYSIS: RED BLOOD CELLS  |2.5     |rbc/hpf |1992-07-01 10:38:47.503|\n",
      "|1A8791E3-A61C-455A-8DEE-763EB90C9B2C|1          |URINALYSIS: SPECIFIC GRAVITY |1.0     |no unit |1992-07-01 19:28:25.11 |\n",
      "|1A8791E3-A61C-455A-8DEE-763EB90C9B2C|1          |URINALYSIS: PH               |5.7     |no unit |1992-07-01 03:26:14.71 |\n",
      "|1A8791E3-A61C-455A-8DEE-763EB90C9B2C|2          |URINALYSIS: PH               |5.9     |no unit |2005-07-26 23:37:48.423|\n",
      "|1A8791E3-A61C-455A-8DEE-763EB90C9B2C|2          |URINALYSIS: RED BLOOD CELLS  |2.0     |rbc/hpf |2005-07-26 18:14:43.88 |\n",
      "+------------------------------------+-----------+-----------------------------+--------+--------+-----------------------+\n",
      "only showing top 10 rows\n",
      "\n"
     ]
    }
   ],
   "source": [
    "## Filter rows where LabName contains \"URINALYSIS\"\n",
    "\n",
    "\n",
    "df_labs.filter(F.col(\"LabName\").contains(\"URINALYSIS\")).show(10, truncate = False)"
   ]
  },
  {
   "cell_type": "markdown",
   "id": "9ff366a9",
   "metadata": {},
   "source": [
    "#### Starts With - col.startswith(string)"
   ]
  },
  {
   "cell_type": "code",
   "execution_count": 30,
   "id": "e7eb4fff",
   "metadata": {},
   "outputs": [
    {
     "name": "stdout",
     "output_type": "stream",
     "text": [
      "+------------------------------------+-----------+---------------------------+--------+--------+-----------------------+\n",
      "|PatientID                           |AdmissionID|LabName                    |LabValue|LabUnits|LabDateTime            |\n",
      "+------------------------------------+-----------+---------------------------+--------+--------+-----------------------+\n",
      "|1A8791E3-A61C-455A-8DEE-763EB90C9B2C|1          |URINALYSIS: RED BLOOD CELLS|1.8     |rbc/hpf |1992-07-01 01:36:17.91 |\n",
      "|1A8791E3-A61C-455A-8DEE-763EB90C9B2C|1          |URINALYSIS: RED BLOOD CELLS|2.5     |rbc/hpf |1992-07-01 10:38:47.503|\n",
      "|1A8791E3-A61C-455A-8DEE-763EB90C9B2C|2          |URINALYSIS: RED BLOOD CELLS|2.0     |rbc/hpf |2005-07-26 18:14:43.88 |\n",
      "|1A8791E3-A61C-455A-8DEE-763EB90C9B2C|2          |URINALYSIS: RED BLOOD CELLS|2.7     |rbc/hpf |2005-07-31 20:50:27.503|\n",
      "|1A8791E3-A61C-455A-8DEE-763EB90C9B2C|2          |URINALYSIS: RED BLOOD CELLS|3.0     |rbc/hpf |2005-08-01 13:28:14.757|\n",
      "|1A8791E3-A61C-455A-8DEE-763EB90C9B2C|2          |URINALYSIS: RED BLOOD CELLS|2.0     |rbc/hpf |2005-08-03 04:40:19.117|\n",
      "|1A8791E3-A61C-455A-8DEE-763EB90C9B2C|2          |URINALYSIS: RED BLOOD CELLS|0.8     |rbc/hpf |2005-08-06 09:32:08.2  |\n",
      "|1A8791E3-A61C-455A-8DEE-763EB90C9B2C|3          |URINALYSIS: RED BLOOD CELLS|2.8     |rbc/hpf |2011-12-20 07:48:43.68 |\n",
      "|1A8791E3-A61C-455A-8DEE-763EB90C9B2C|3          |URINALYSIS: RED BLOOD CELLS|1.5     |rbc/hpf |2011-12-23 08:58:21.16 |\n",
      "|1A8791E3-A61C-455A-8DEE-763EB90C9B2C|3          |URINALYSIS: RED BLOOD CELLS|3.0     |rbc/hpf |2011-12-24 16:25:38.453|\n",
      "+------------------------------------+-----------+---------------------------+--------+--------+-----------------------+\n",
      "only showing top 10 rows\n",
      "\n"
     ]
    }
   ],
   "source": [
    "# Filter rows where LabUnits startswith \"rbc\"\n",
    "\n",
    "df_labs.filter(F.col(\"LabUnits\").startswith(\"rbc\")).show(10, truncate = False)"
   ]
  },
  {
   "cell_type": "markdown",
   "id": "f47b1ee6",
   "metadata": {},
   "source": [
    "#### Ends With - col.endswith(string)"
   ]
  },
  {
   "cell_type": "code",
   "execution_count": 31,
   "id": "8797bfac",
   "metadata": {},
   "outputs": [
    {
     "name": "stdout",
     "output_type": "stream",
     "text": [
      "+------------------------------------+-----------+-------------------------+--------+--------+-----------------------+\n",
      "|PatientID                           |AdmissionID|LabName                  |LabValue|LabUnits|LabDateTime            |\n",
      "+------------------------------------+-----------+-------------------------+--------+--------+-----------------------+\n",
      "|1A8791E3-A61C-455A-8DEE-763EB90C9B2C|1          |CBC: LYMPHOCYTES         |2.2     |k/cumm  |1992-07-01 02:42:24.957|\n",
      "|1A8791E3-A61C-455A-8DEE-763EB90C9B2C|1          |CBC: ABSOLUTE LYMPHOCYTES|33.3    |%       |1992-06-30 09:39:02.83 |\n",
      "|1A8791E3-A61C-455A-8DEE-763EB90C9B2C|1          |CBC: MONOCYTES           |0.8     |k/cumm  |1992-07-01 03:28:46.073|\n",
      "|1A8791E3-A61C-455A-8DEE-763EB90C9B2C|1          |CBC: LYMPHOCYTES         |1.6     |k/cumm  |1992-07-01 09:43:24.983|\n",
      "|1A8791E3-A61C-455A-8DEE-763EB90C9B2C|1          |CBC: ABSOLUTE LYMPHOCYTES|26.0    |%       |1992-07-01 03:38:07.08 |\n",
      "|1A8791E3-A61C-455A-8DEE-763EB90C9B2C|2          |CBC: ABSOLUTE LYMPHOCYTES|18.2    |%       |2005-07-27 12:03:25.64 |\n",
      "|1A8791E3-A61C-455A-8DEE-763EB90C9B2C|2          |CBC: LYMPHOCYTES         |3.1     |k/cumm  |2005-07-31 03:23:38.85 |\n",
      "|1A8791E3-A61C-455A-8DEE-763EB90C9B2C|2          |CBC: ABSOLUTE LYMPHOCYTES|20.4    |%       |2005-07-30 23:13:19.497|\n",
      "|1A8791E3-A61C-455A-8DEE-763EB90C9B2C|2          |CBC: MONOCYTES           |0.8     |k/cumm  |2005-07-31 19:48:08.663|\n",
      "|1A8791E3-A61C-455A-8DEE-763EB90C9B2C|2          |CBC: ABSOLUTE LYMPHOCYTES|29.3    |%       |2005-08-02 07:26:26.307|\n",
      "+------------------------------------+-----------+-------------------------+--------+--------+-----------------------+\n",
      "only showing top 10 rows\n",
      "\n"
     ]
    }
   ],
   "source": [
    "df_labs.filter(F.col(\"LabName\").endswith(\"CYTES\")).show(10, truncate = False)"
   ]
  },
  {
   "cell_type": "markdown",
   "id": "2cda40bb",
   "metadata": {},
   "source": [
    "###  Example wildcard searches using PySpark SQL functions"
   ]
  },
  {
   "cell_type": "code",
   "execution_count": 32,
   "id": "fad39376",
   "metadata": {},
   "outputs": [
    {
     "name": "stdout",
     "output_type": "stream",
     "text": [
      "+------------------------------------+-----------+------------------------+--------+--------+-----------------------+\n",
      "|PatientID                           |AdmissionID|LabName                 |LabValue|LabUnits|LabDateTime            |\n",
      "+------------------------------------+-----------+------------------------+--------+--------+-----------------------+\n",
      "|1A8791E3-A61C-455A-8DEE-763EB90C9B2C|1          |METABOLIC: GLUCOSE      |103.3   |mg/dL   |1992-06-30 09:35:52.383|\n",
      "|1A8791E3-A61C-455A-8DEE-763EB90C9B2C|1          |METABOLIC: CALCIUM      |8.9     |mg/dL   |1992-06-30 12:09:46.107|\n",
      "|1A8791E3-A61C-455A-8DEE-763EB90C9B2C|1          |METABOLIC: TOTAL PROTEIN|7.5     |gm/dL   |1992-06-30 17:58:08.513|\n",
      "|1A8791E3-A61C-455A-8DEE-763EB90C9B2C|1          |METABOLIC: CHLORIDE     |111.5   |mmol/L  |1992-06-30 14:03:11.313|\n",
      "|1A8791E3-A61C-455A-8DEE-763EB90C9B2C|1          |METABOLIC: SODIUM       |130.4   |mmol/L  |1992-06-30 14:25:18.26 |\n",
      "|1A8791E3-A61C-455A-8DEE-763EB90C9B2C|1          |METABOLIC: BILI TOTAL   |0.6     |mg/dL   |1992-07-01 01:21:44.597|\n",
      "|1A8791E3-A61C-455A-8DEE-763EB90C9B2C|1          |METABOLIC: ALK PHOS     |63.5    |U/L     |1992-06-30 09:08:51.047|\n",
      "|1A8791E3-A61C-455A-8DEE-763EB90C9B2C|1          |METABOLIC: AST/SGOT     |35.6    |U/L     |1992-06-30 23:38:15.14 |\n",
      "|1A8791E3-A61C-455A-8DEE-763EB90C9B2C|1          |METABOLIC: CREATININE   |1.0     |mg/dL   |1992-06-30 14:50:30.213|\n",
      "|1A8791E3-A61C-455A-8DEE-763EB90C9B2C|1          |METABOLIC: CALCIUM      |8.4     |mg/dL   |1992-07-01 21:49:40.153|\n",
      "+------------------------------------+-----------+------------------------+--------+--------+-----------------------+\n",
      "only showing top 10 rows\n",
      "\n"
     ]
    }
   ],
   "source": [
    "# Filter rows where LabName starts with \"METABOLIC\"\n",
    "\n",
    "df_labs.filter(F.col(\"LabName\").like(\"METABOLIC%\")).show(10, truncate = False)"
   ]
  },
  {
   "cell_type": "code",
   "execution_count": 33,
   "id": "41269782",
   "metadata": {},
   "outputs": [
    {
     "name": "stdout",
     "output_type": "stream",
     "text": [
      "+------------------------------------+-----------+-------------------------+--------+--------+-----------------------+\n",
      "|PatientID                           |AdmissionID|LabName                  |LabValue|LabUnits|LabDateTime            |\n",
      "+------------------------------------+-----------+-------------------------+--------+--------+-----------------------+\n",
      "|1A8791E3-A61C-455A-8DEE-763EB90C9B2C|1          |METABOLIC: CHLORIDE      |111.5   |mmol/L  |1992-06-30 14:03:11.313|\n",
      "|1A8791E3-A61C-455A-8DEE-763EB90C9B2C|1          |METABOLIC: SODIUM        |130.4   |mmol/L  |1992-06-30 14:25:18.26 |\n",
      "|1A8791E3-A61C-455A-8DEE-763EB90C9B2C|1          |METABOLIC: POTASSIUM     |5.5     |mmol/L  |1992-07-01 07:20:54.017|\n",
      "|1A8791E3-A61C-455A-8DEE-763EB90C9B2C|1          |METABOLIC: ANION GAP     |11.2    |mmol/L  |1992-07-01 04:25:57.077|\n",
      "|1A8791E3-A61C-455A-8DEE-763EB90C9B2C|1          |METABOLIC: CHLORIDE      |105.3   |mmol/L  |1992-07-01 20:58:22.167|\n",
      "|1A8791E3-A61C-455A-8DEE-763EB90C9B2C|1          |METABOLIC: CARBON DIOXIDE|26.3    |mmol/L  |1992-07-01 05:53:08.337|\n",
      "|1A8791E3-A61C-455A-8DEE-763EB90C9B2C|1          |METABOLIC: SODIUM        |144.7   |mmol/L  |1992-07-01 05:47:30.58 |\n",
      "|1A8791E3-A61C-455A-8DEE-763EB90C9B2C|2          |METABOLIC: POTASSIUM     |4.4     |mmol/L  |2005-07-26 14:03:53.497|\n",
      "|1A8791E3-A61C-455A-8DEE-763EB90C9B2C|2          |METABOLIC: CHLORIDE      |103.0   |mmol/L  |2005-07-27 01:21:10.61 |\n",
      "|1A8791E3-A61C-455A-8DEE-763EB90C9B2C|2          |METABOLIC: CARBON DIOXIDE|26.8    |mmol/L  |2005-07-27 12:47:59.227|\n",
      "+------------------------------------+-----------+-------------------------+--------+--------+-----------------------+\n",
      "only showing top 10 rows\n",
      "\n"
     ]
    }
   ],
   "source": [
    "# Filter rows where LabUnits contains \"mmol\"\n",
    "\n",
    "df_labs.filter(F.col(\"LabUnits\").like(\"%mmol%\")).show(10, truncate = False)"
   ]
  },
  {
   "cell_type": "code",
   "execution_count": null,
   "id": "f8935a93",
   "metadata": {},
   "outputs": [],
   "source": []
  },
  {
   "cell_type": "code",
   "execution_count": 34,
   "id": "44479b4e",
   "metadata": {
    "scrolled": false
   },
   "outputs": [
    {
     "name": "stdout",
     "output_type": "stream",
     "text": [
      "+------------------------------------+-----------+-------------------------+--------+--------+-----------------------+\n",
      "|PatientID                           |AdmissionID|LabName                  |LabValue|LabUnits|LabDateTime            |\n",
      "+------------------------------------+-----------+-------------------------+--------+--------+-----------------------+\n",
      "|1A8791E3-A61C-455A-8DEE-763EB90C9B2C|1          |CBC: LYMPHOCYTES         |2.2     |k/cumm  |1992-07-01 02:42:24.957|\n",
      "|1A8791E3-A61C-455A-8DEE-763EB90C9B2C|1          |CBC: ABSOLUTE LYMPHOCYTES|33.3    |%       |1992-06-30 09:39:02.83 |\n",
      "|1A8791E3-A61C-455A-8DEE-763EB90C9B2C|1          |CBC: LYMPHOCYTES         |1.6     |k/cumm  |1992-07-01 09:43:24.983|\n",
      "|1A8791E3-A61C-455A-8DEE-763EB90C9B2C|1          |CBC: ABSOLUTE LYMPHOCYTES|26.0    |%       |1992-07-01 03:38:07.08 |\n",
      "|1A8791E3-A61C-455A-8DEE-763EB90C9B2C|2          |CBC: ABSOLUTE LYMPHOCYTES|18.2    |%       |2005-07-27 12:03:25.64 |\n",
      "|1A8791E3-A61C-455A-8DEE-763EB90C9B2C|2          |CBC: LYMPHOCYTES         |3.1     |k/cumm  |2005-07-31 03:23:38.85 |\n",
      "|1A8791E3-A61C-455A-8DEE-763EB90C9B2C|2          |CBC: ABSOLUTE LYMPHOCYTES|20.4    |%       |2005-07-30 23:13:19.497|\n",
      "|1A8791E3-A61C-455A-8DEE-763EB90C9B2C|2          |CBC: ABSOLUTE LYMPHOCYTES|29.3    |%       |2005-08-02 07:26:26.307|\n",
      "|1A8791E3-A61C-455A-8DEE-763EB90C9B2C|2          |CBC: LYMPHOCYTES         |2.7     |k/cumm  |2005-08-01 13:04:05.69 |\n",
      "|1A8791E3-A61C-455A-8DEE-763EB90C9B2C|2          |CBC: LYMPHOCYTES         |0.9     |k/cumm  |2005-08-05 08:52:27.26 |\n",
      "+------------------------------------+-----------+-------------------------+--------+--------+-----------------------+\n",
      "only showing top 10 rows\n",
      "\n"
     ]
    }
   ],
   "source": [
    "# Filter rows where Labname endswith \"LYMPHOCYTES\"\n",
    "\n",
    "df_labs.filter(F.col(\"Labname\").like(\"%LYMPHOCYTES\")).show(10, truncate = False)"
   ]
  },
  {
   "cell_type": "code",
   "execution_count": 35,
   "id": "5d0255bf",
   "metadata": {},
   "outputs": [
    {
     "name": "stdout",
     "output_type": "stream",
     "text": [
      "+------------------------------------+-----------+---------------------------+--------+--------+-----------------------+---------------+\n",
      "|PatientID                           |AdmissionID|LabName                    |LabValue|LabUnits|LabDateTime            |NumericLabUnits|\n",
      "+------------------------------------+-----------+---------------------------+--------+--------+-----------------------+---------------+\n",
      "|1A8791E3-A61C-455A-8DEE-763EB90C9B2C|1          |URINALYSIS: RED BLOOD CELLS|1.8     |rbc/hpf |1992-07-01 01:36:17.91 |               |\n",
      "|1A8791E3-A61C-455A-8DEE-763EB90C9B2C|1          |METABOLIC: GLUCOSE         |103.3   |mg/dL   |1992-06-30 09:35:52.383|               |\n",
      "|1A8791E3-A61C-455A-8DEE-763EB90C9B2C|1          |CBC: MCH                   |35.8    |pg      |1992-06-30 03:50:11.777|               |\n",
      "|1A8791E3-A61C-455A-8DEE-763EB90C9B2C|1          |METABOLIC: CALCIUM         |8.9     |mg/dL   |1992-06-30 12:09:46.107|               |\n",
      "|1A8791E3-A61C-455A-8DEE-763EB90C9B2C|1          |CBC: RED BLOOD CELL COUNT  |4.8     |m/cumm  |1992-07-01 01:31:08.677|               |\n",
      "|1A8791E3-A61C-455A-8DEE-763EB90C9B2C|1          |URINALYSIS: PH             |4.9     |no unit |1992-07-01 01:25:54.887|               |\n",
      "|1A8791E3-A61C-455A-8DEE-763EB90C9B2C|1          |METABOLIC: TOTAL PROTEIN   |7.5     |gm/dL   |1992-06-30 17:58:08.513|               |\n",
      "|1A8791E3-A61C-455A-8DEE-763EB90C9B2C|1          |METABOLIC: CHLORIDE        |111.5   |mmol/L  |1992-06-30 14:03:11.313|               |\n",
      "|1A8791E3-A61C-455A-8DEE-763EB90C9B2C|1          |CBC: LYMPHOCYTES           |2.2     |k/cumm  |1992-07-01 02:42:24.957|               |\n",
      "|1A8791E3-A61C-455A-8DEE-763EB90C9B2C|1          |CBC: ABSOLUTE LYMPHOCYTES  |33.3    |%       |1992-06-30 09:39:02.83 |               |\n",
      "+------------------------------------+-----------+---------------------------+--------+--------+-----------------------+---------------+\n",
      "only showing top 10 rows\n",
      "\n"
     ]
    }
   ],
   "source": [
    "# Extract numeric value from LabUnits where it contains numbers (regex extraction)\n",
    "\n",
    "df_labs.withColumn(\"NumericLabUnits\", F.regexp_extract(F.col(\"LabUnits\"), r\"(\\d+\\.?\\d*)\", 1)).show(10, truncate = False)"
   ]
  },
  {
   "cell_type": "code",
   "execution_count": 36,
   "id": "6a7cf7f2",
   "metadata": {},
   "outputs": [
    {
     "name": "stdout",
     "output_type": "stream",
     "text": [
      "+------------------------------------+-----------+-------------------------+--------+--------+-----------------------+\n",
      "|PatientID                           |AdmissionID|LabName                  |LabValue|LabUnits|LabDateTime            |\n",
      "+------------------------------------+-----------+-------------------------+--------+--------+-----------------------+\n",
      "|1A8791E3-A61C-455A-8DEE-763EB90C9B2C|1          |METABOLIC: GLUCOSE       |103.3   |mg/dL   |1992-06-30 09:35:52.383|\n",
      "|1A8791E3-A61C-455A-8DEE-763EB90C9B2C|1          |CBC: MCH                 |35.8    |pg      |1992-06-30 03:50:11.777|\n",
      "|1A8791E3-A61C-455A-8DEE-763EB90C9B2C|1          |METABOLIC: CALCIUM       |8.9     |mg/dL   |1992-06-30 12:09:46.107|\n",
      "|1A8791E3-A61C-455A-8DEE-763EB90C9B2C|1          |CBC: RED BLOOD CELL COUNT|4.8     |m/cumm  |1992-07-01 01:31:08.677|\n",
      "|1A8791E3-A61C-455A-8DEE-763EB90C9B2C|1          |METABOLIC: TOTAL PROTEIN |7.5     |gm/dL   |1992-06-30 17:58:08.513|\n",
      "|1A8791E3-A61C-455A-8DEE-763EB90C9B2C|1          |METABOLIC: CHLORIDE      |111.5   |mmol/L  |1992-06-30 14:03:11.313|\n",
      "|1A8791E3-A61C-455A-8DEE-763EB90C9B2C|1          |CBC: LYMPHOCYTES         |2.2     |k/cumm  |1992-07-01 02:42:24.957|\n",
      "|1A8791E3-A61C-455A-8DEE-763EB90C9B2C|1          |CBC: ABSOLUTE LYMPHOCYTES|33.3    |%       |1992-06-30 09:39:02.83 |\n",
      "|1A8791E3-A61C-455A-8DEE-763EB90C9B2C|1          |METABOLIC: SODIUM        |130.4   |mmol/L  |1992-06-30 14:25:18.26 |\n",
      "|1A8791E3-A61C-455A-8DEE-763EB90C9B2C|1          |METABOLIC: BILI TOTAL    |0.6     |mg/dL   |1992-07-01 01:21:44.597|\n",
      "+------------------------------------+-----------+-------------------------+--------+--------+-----------------------+\n",
      "only showing top 10 rows\n",
      "\n"
     ]
    }
   ],
   "source": [
    "# Filter rows where LabName matches a regex pattern\n",
    "\n",
    "df_labs.filter(F.col(\"LabName\").rlike(r\"METABOLIC|CBC\")).show(10, truncate = False)"
   ]
  },
  {
   "cell_type": "code",
   "execution_count": 37,
   "id": "4ca84d7e",
   "metadata": {},
   "outputs": [
    {
     "name": "stdout",
     "output_type": "stream",
     "text": [
      "+---------+-----------+-------+--------+--------+-----------+\n",
      "|PatientID|AdmissionID|LabName|LabValue|LabUnits|LabDateTime|\n",
      "+---------+-----------+-------+--------+--------+-----------+\n",
      "+---------+-----------+-------+--------+--------+-----------+\n",
      "\n"
     ]
    }
   ],
   "source": [
    "# Filter rows where LabUnits matches a regex pattern (contains numbers)\n",
    "\n",
    "df_labs.filter(F.col(\"LabUnits\").rlike(r\"\\d\")).show(10, truncate = False)"
   ]
  },
  {
   "cell_type": "code",
   "execution_count": 38,
   "id": "3663334c",
   "metadata": {},
   "outputs": [],
   "source": [
    "from pyspark.sql.types import StructType, StructField, StringType, IntegerType"
   ]
  },
  {
   "cell_type": "code",
   "execution_count": 39,
   "id": "12cf8bb1",
   "metadata": {},
   "outputs": [],
   "source": [
    "# Define the schema for diagnoses\n",
    "\n",
    "schema_diagnoses = StructType([\n",
    "    StructField(\"PatientID\", StringType(), True),\n",
    "    StructField(\"AdmissionID\", IntegerType(), True),\n",
    "    StructField(\"PrimaryDiagnosisCode\", StringType(), True),\n",
    "    StructField(\"PrimaryDiagnosisDescription\", StringType(), True)\n",
    "])\n"
   ]
  },
  {
   "cell_type": "code",
   "execution_count": 40,
   "id": "8d4b38a0",
   "metadata": {},
   "outputs": [],
   "source": [
    "df_diagnoses = spark.read.format(\"csv\")\\\n",
    "            .option(\"sep\", \"\\t\")\\\n",
    "            .option(\"schema\", \"schema_diagnoses\")\\\n",
    "            .option(\"header\", \"true\")\\\n",
    "            .load(\"/Users/sateeshreddypatlolla/Downloads/AdmissionsDiagnosesCorePopulatedTable.csv\")"
   ]
  },
  {
   "cell_type": "code",
   "execution_count": 41,
   "id": "73fe7f45",
   "metadata": {},
   "outputs": [],
   "source": [
    "from pyspark.sql.types import StructType, StructField, StringType, IntegerType, TimestampType"
   ]
  },
  {
   "cell_type": "code",
   "execution_count": 42,
   "id": "fdf005f0",
   "metadata": {},
   "outputs": [],
   "source": [
    "# Define the schema for admissions\n",
    "schema_admissions = StructType([\n",
    "    StructField(\"PatientID\", StringType(), True),\n",
    "    StructField(\"AdmissionID\", IntegerType(), True),\n",
    "    StructField(\"AdmissionStartDate\", TimestampType(), True),\n",
    "    StructField(\"AdmissionEndDate\", TimestampType(), True)\n",
    "])"
   ]
  },
  {
   "cell_type": "code",
   "execution_count": 43,
   "id": "a90f3e92",
   "metadata": {},
   "outputs": [],
   "source": [
    "df_admissions = spark.read.format(\"csv\").load(\"/Users/sateeshreddypatlolla/Downloads/AdmissionsCorePopulatedTable.csv\", sep = \"\\t\", schema = schema_admissions, header = \"true\")"
   ]
  },
  {
   "cell_type": "markdown",
   "id": "d8a251b9",
   "metadata": {},
   "source": [
    "#### What does df_patients contain?"
   ]
  },
  {
   "cell_type": "code",
   "execution_count": 44,
   "id": "18d1a010",
   "metadata": {},
   "outputs": [
    {
     "data": {
      "text/plain": [
       "['PatientID',\n",
       " 'PatientGender',\n",
       " 'PatientDateOfBirth',\n",
       " 'PatientRace',\n",
       " 'PatientMaritalStatus',\n",
       " 'PatientLanguage',\n",
       " 'PatientPopulationPercentageBelowPoverty']"
      ]
     },
     "execution_count": 44,
     "metadata": {},
     "output_type": "execute_result"
    }
   ],
   "source": [
    "df_patients.columns"
   ]
  },
  {
   "cell_type": "code",
   "execution_count": 45,
   "id": "bca6fda8",
   "metadata": {},
   "outputs": [
    {
     "data": {
      "text/plain": [
       "[('PatientID', 'string'),\n",
       " ('PatientGender', 'string'),\n",
       " ('PatientDateOfBirth', 'timestamp'),\n",
       " ('PatientRace', 'string'),\n",
       " ('PatientMaritalStatus', 'string'),\n",
       " ('PatientLanguage', 'string'),\n",
       " ('PatientPopulationPercentageBelowPoverty', 'float')]"
      ]
     },
     "execution_count": 45,
     "metadata": {},
     "output_type": "execute_result"
    }
   ],
   "source": [
    "df_patients.dtypes"
   ]
  },
  {
   "cell_type": "code",
   "execution_count": 46,
   "id": "0c366a27",
   "metadata": {},
   "outputs": [
    {
     "data": {
      "text/plain": [
       "StructType([StructField('PatientID', StringType(), True), StructField('PatientGender', StringType(), True), StructField('PatientDateOfBirth', TimestampType(), True), StructField('PatientRace', StringType(), True), StructField('PatientMaritalStatus', StringType(), True), StructField('PatientLanguage', StringType(), True), StructField('PatientPopulationPercentageBelowPoverty', FloatType(), True)])"
      ]
     },
     "execution_count": 46,
     "metadata": {},
     "output_type": "execute_result"
    }
   ],
   "source": [
    "df_patients.schema"
   ]
  },
  {
   "cell_type": "code",
   "execution_count": null,
   "id": "1ca35269",
   "metadata": {},
   "outputs": [],
   "source": []
  },
  {
   "cell_type": "code",
   "execution_count": null,
   "id": "6ef758ca",
   "metadata": {},
   "outputs": [],
   "source": []
  },
  {
   "cell_type": "code",
   "execution_count": null,
   "id": "d80dbf55",
   "metadata": {},
   "outputs": [],
   "source": []
  },
  {
   "cell_type": "code",
   "execution_count": null,
   "id": "5cc9b035",
   "metadata": {},
   "outputs": [],
   "source": []
  }
 ],
 "metadata": {
  "kernelspec": {
   "display_name": "Python 3 (ipykernel)",
   "language": "python",
   "name": "python3"
  },
  "language_info": {
   "codemirror_mode": {
    "name": "ipython",
    "version": 3
   },
   "file_extension": ".py",
   "mimetype": "text/x-python",
   "name": "python",
   "nbconvert_exporter": "python",
   "pygments_lexer": "ipython3",
   "version": "3.9.13"
  }
 },
 "nbformat": 4,
 "nbformat_minor": 5
}
