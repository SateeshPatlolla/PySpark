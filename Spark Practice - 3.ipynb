{
 "cells": [
  {
   "cell_type": "code",
   "execution_count": 1,
   "id": "d13d3699",
   "metadata": {},
   "outputs": [
    {
     "name": "stderr",
     "output_type": "stream",
     "text": [
      "Setting default log level to \"WARN\".\n",
      "To adjust logging level use sc.setLogLevel(newLevel). For SparkR, use setLogLevel(newLevel).\n",
      "24/06/08 20:23:01 WARN NativeCodeLoader: Unable to load native-hadoop library for your platform... using builtin-java classes where applicable\n",
      "24/06/08 20:23:16 WARN GarbageCollectionMetrics: To enable non-built-in garbage collector(s) List(G1 Concurrent GC), users should configure it(them) to spark.eventLog.gcMetrics.youngGenerationGarbageCollectors or spark.eventLog.gcMetrics.oldGenerationGarbageCollectors\n"
     ]
    }
   ],
   "source": [
    "import findspark\n",
    "findspark.init()\n",
    "\n",
    "from pyspark.sql import SparkSession\n",
    "import collections\n",
    "\n",
    "#Initializing SparkSession\n",
    "spark = SparkSession.builder\\\n",
    "        .appName(\"Practice - 3\")\\\n",
    "        .getOrCreate()"
   ]
  },
  {
   "cell_type": "code",
   "execution_count": 32,
   "id": "c59d7c53",
   "metadata": {},
   "outputs": [],
   "source": [
    "from pyspark.sql.types import StructType, StructField, StringType, IntegerType, ArrayType"
   ]
  },
  {
   "cell_type": "code",
   "execution_count": 33,
   "id": "1c79d858",
   "metadata": {},
   "outputs": [],
   "source": [
    "schema = StructType([\n",
    "                    StructField(\"Id\", IntegerType(), False)\n",
    "                    , StructField(\"First_Name\", StringType(), False)\n",
    "                    , StructField(\"Last_Name\", StringType(), False)\n",
    "                    , StructField(\"url\", StringType(), False)\n",
    "                    , StructField(\"Published\", StringType(), False)\n",
    "                    , StructField(\"Hits\", IntegerType(), False)\n",
    "                    , StructField(\"Campaigns\", ArrayType(StringType()), False)\n",
    "                    ])"
   ]
  },
  {
   "cell_type": "code",
   "execution_count": 34,
   "id": "fc58dcbe",
   "metadata": {},
   "outputs": [],
   "source": [
    "data = [\n",
    "    [1, \"Jules\", \"Damji\", \"https://tinyurl.1\", \"1/4/2016\", 4535, [\"twitter\", \"LinkedIn\"]],\n",
    "    [2, \"Brooke\",\"Wenig\", \"https://tinyurl.2\", \"5/5/2018\", 8908, [\"twitter\", \"LinkedIn\"]], \n",
    "    [3, \"Denny\", \"Lee\", \"https://tinyurl.3\", \"6/7/2019\", 7659, [\"web\", \"twitter\", \"FB\", \n",
    "                                                                \"LinkedIn\"]],\n",
    "    [4, \"Tathagata\", \"Das\", \"https://tinyurl.4\", \"5/12/2018\", 10568,[\"twitter\", \"FB\"]],\n",
    "    [5, \"Matei\",\"Zaharia\", \"https://tinyurl.5\", \"5/14/2014\", 40578, [\"web\",\n",
    "    \"twitter\", \"FB\", \"LinkedIn\"]],\n",
    "    [6, \"Reynold\", \"Xin\", \"https://tinyurl.6\", \"3/2/2015\", 25568,[\"twitter\", \"LinkedIn\"]]\n",
    "        ]"
   ]
  },
  {
   "cell_type": "code",
   "execution_count": 35,
   "id": "60e00a87",
   "metadata": {},
   "outputs": [
    {
     "name": "stdout",
     "output_type": "stream",
     "text": [
      "+---+----------+---------+-----------------+---------+-----+----------------------------+\n",
      "|Id |First_Name|Last_Name|url              |Published|Hits |Campaigns                   |\n",
      "+---+----------+---------+-----------------+---------+-----+----------------------------+\n",
      "|1  |Jules     |Damji    |https://tinyurl.1|1/4/2016 |4535 |[twitter, LinkedIn]         |\n",
      "|2  |Brooke    |Wenig    |https://tinyurl.2|5/5/2018 |8908 |[twitter, LinkedIn]         |\n",
      "|3  |Denny     |Lee      |https://tinyurl.3|6/7/2019 |7659 |[web, twitter, FB, LinkedIn]|\n",
      "|4  |Tathagata |Das      |https://tinyurl.4|5/12/2018|10568|[twitter, FB]               |\n",
      "|5  |Matei     |Zaharia  |https://tinyurl.5|5/14/2014|40578|[web, twitter, FB, LinkedIn]|\n",
      "|6  |Reynold   |Xin      |https://tinyurl.6|3/2/2015 |25568|[twitter, LinkedIn]         |\n",
      "+---+----------+---------+-----------------+---------+-----+----------------------------+\n",
      "\n"
     ]
    }
   ],
   "source": [
    "blogs_df = spark.createDataFrame(data, schema)\n",
    "blogs_df.show(10, truncate = False, vertical = False)"
   ]
  },
  {
   "cell_type": "code",
   "execution_count": 36,
   "id": "7062c53f",
   "metadata": {},
   "outputs": [
    {
     "name": "stdout",
     "output_type": "stream",
     "text": [
      "root\n",
      " |-- Id: integer (nullable = false)\n",
      " |-- First_Name: string (nullable = false)\n",
      " |-- Last_Name: string (nullable = false)\n",
      " |-- url: string (nullable = false)\n",
      " |-- Published: string (nullable = false)\n",
      " |-- Hits: integer (nullable = false)\n",
      " |-- Campaigns: array (nullable = false)\n",
      " |    |-- element: string (containsNull = true)\n",
      "\n",
      "None\n"
     ]
    }
   ],
   "source": [
    "print(blogs_df.printSchema())"
   ]
  },
  {
   "cell_type": "code",
   "execution_count": 37,
   "id": "5a82871a",
   "metadata": {
    "scrolled": true
   },
   "outputs": [
    {
     "name": "stdout",
     "output_type": "stream",
     "text": [
      "StructType([StructField('Id', IntegerType(), False), StructField('First_Name', StringType(), False), StructField('Last_Name', StringType(), False), StructField('url', StringType(), False), StructField('Published', StringType(), False), StructField('Hits', IntegerType(), False), StructField('Campaigns', ArrayType(StringType(), True), False)])\n"
     ]
    }
   ],
   "source": [
    "print(blogs_df.schema)"
   ]
  },
  {
   "cell_type": "code",
   "execution_count": 38,
   "id": "8c294b51",
   "metadata": {},
   "outputs": [],
   "source": [
    "from pyspark.sql.functions import *"
   ]
  },
  {
   "cell_type": "code",
   "execution_count": 39,
   "id": "a7eb3fa8",
   "metadata": {},
   "outputs": [],
   "source": [
    "blogs_df = blogs_df.withColumn(\"Published\", to_date(col(\"Published\"), 'M/d/yyyy'))"
   ]
  },
  {
   "cell_type": "code",
   "execution_count": 40,
   "id": "eef9715a",
   "metadata": {
    "scrolled": false
   },
   "outputs": [
    {
     "name": "stdout",
     "output_type": "stream",
     "text": [
      "+---+----------+---------+-----------------+----------+-----+--------------------+\n",
      "| Id|First_Name|Last_Name|              url| Published| Hits|           Campaigns|\n",
      "+---+----------+---------+-----------------+----------+-----+--------------------+\n",
      "|  1|     Jules|    Damji|https://tinyurl.1|2016-01-04| 4535| [twitter, LinkedIn]|\n",
      "|  2|    Brooke|    Wenig|https://tinyurl.2|2018-05-05| 8908| [twitter, LinkedIn]|\n",
      "|  3|     Denny|      Lee|https://tinyurl.3|2019-06-07| 7659|[web, twitter, FB...|\n",
      "|  4| Tathagata|      Das|https://tinyurl.4|2018-05-12|10568|       [twitter, FB]|\n",
      "|  5|     Matei|  Zaharia|https://tinyurl.5|2014-05-14|40578|[web, twitter, FB...|\n",
      "|  6|   Reynold|      Xin|https://tinyurl.6|2015-03-02|25568| [twitter, LinkedIn]|\n",
      "+---+----------+---------+-----------------+----------+-----+--------------------+\n",
      "\n"
     ]
    }
   ],
   "source": [
    "blogs_df.show()"
   ]
  },
  {
   "cell_type": "code",
   "execution_count": 41,
   "id": "1bad377e",
   "metadata": {},
   "outputs": [
    {
     "name": "stdout",
     "output_type": "stream",
     "text": [
      "+---------------+\n",
      "|year(Published)|\n",
      "+---------------+\n",
      "|2014           |\n",
      "|2015           |\n",
      "|2016           |\n",
      "|2018           |\n",
      "|2019           |\n",
      "+---------------+\n",
      "\n"
     ]
    }
   ],
   "source": [
    "blogs_df.select(year(\"Published\")).distinct().orderBy(year(\"Published\")).show(truncate = False)"
   ]
  },
  {
   "cell_type": "code",
   "execution_count": 43,
   "id": "a3482262",
   "metadata": {},
   "outputs": [
    {
     "name": "stdout",
     "output_type": "stream",
     "text": [
      "+--------------+----------------+--------------+\n",
      "|Published_year|month(Published)|day(Published)|\n",
      "+--------------+----------------+--------------+\n",
      "|          2016|               1|             4|\n",
      "|          2018|               5|             5|\n",
      "|          2019|               6|             7|\n",
      "|          2018|               5|            12|\n",
      "|          2014|               5|            14|\n",
      "|          2015|               3|             2|\n",
      "+--------------+----------------+--------------+\n",
      "\n"
     ]
    }
   ],
   "source": [
    "blogs_df.select(year(\"Published\").alias(\"Published_year\"), month(\"Published\"), day(\"Published\")).show()"
   ]
  },
  {
   "cell_type": "code",
   "execution_count": null,
   "id": "a0c4cd12",
   "metadata": {},
   "outputs": [],
   "source": []
  }
 ],
 "metadata": {
  "kernelspec": {
   "display_name": "Python 3 (ipykernel)",
   "language": "python",
   "name": "python3"
  },
  "language_info": {
   "codemirror_mode": {
    "name": "ipython",
    "version": 3
   },
   "file_extension": ".py",
   "mimetype": "text/x-python",
   "name": "python",
   "nbconvert_exporter": "python",
   "pygments_lexer": "ipython3",
   "version": "3.9.13"
  }
 },
 "nbformat": 4,
 "nbformat_minor": 5
}
